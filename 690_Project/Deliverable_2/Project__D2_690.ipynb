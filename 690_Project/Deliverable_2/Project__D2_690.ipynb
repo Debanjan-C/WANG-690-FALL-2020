{
  "nbformat": 4,
  "nbformat_minor": 0,
  "metadata": {
    "colab": {
      "name": "Project__D2_690.ipynb",
      "provenance": [],
      "collapsed_sections": [],
      "toc_visible": true
    },
    "kernelspec": {
      "name": "python3",
      "display_name": "Python 3"
    },
    "deepnote_notebook_id": "962ca4f4-1ad1-4b99-a204-e734cb8fd172",
    "deepnote_execution_queue": []
  },
  "cells": [
    {
      "cell_type": "markdown",
      "metadata": {
        "tags": [],
        "cell_id": "00000-5be9e3e8-393e-4272-9a48-0e53bac2b856",
        "output_cleared": false,
        "id": "ovl2p26j4CDG"
      },
      "source": [
        "# Data 690 Deliverable 2"
      ]
    },
    {
      "cell_type": "markdown",
      "metadata": {
        "tags": [],
        "cell_id": "00001-cbffeebd-a8c0-4d51-80de-05ffcced8937",
        "output_cleared": false,
        "id": "mc0oZTiz4CDG"
      },
      "source": [
        "**Debanjan Chowdhury**"
      ]
    },
    {
      "cell_type": "markdown",
      "metadata": {
        "tags": [],
        "cell_id": "00000-db2c13f1-ef19-4c91-a852-3a2ab38a6ac5",
        "output_cleared": false,
        "id": "B2BhV48B4CDH"
      },
      "source": [
        "## Project Background and Details: \n",
        "This project is based on **individuals in the US** who have healthcare insurance and we are evaluating \n",
        "which individuals are paying a higher premium price and which ones are paying a lower one. Some individuals\n",
        "may be **smokers**, may have **more children** than others, may live in **specific regions** that are hotter than others,\n",
        "and many more. Therefore, our intentions are to evaluate *what possible features* may play a role in evaluating\n",
        "the premium prices of each of the individuals. We will be using different techniques like data cleaning, visualization,\n",
        "EDA to find out the factors that may influence the premium charges. \n"
      ]
    },
    {
      "cell_type": "markdown",
      "metadata": {
        "tags": [],
        "cell_id": "00001-3f962fd1-d179-4b97-b96e-b5df535e9909",
        "output_cleared": false,
        "id": "5CrxcdvD4CDI"
      },
      "source": [
        "## Details about the Dataset inspirations\n",
        "I received a dataset from Kaggle that has the dataset of individuals\n",
        "that live in different regions of the US, are of all types of ages\n",
        "ranging from **20 - 60 years of age**, etc.  The dataset is retreived from the following\n",
        "link:**https://www.kaggle.com/mirichoi0218/insurance**\n"
      ]
    },
    {
      "cell_type": "markdown",
      "metadata": {
        "tags": [],
        "cell_id": "00000-465d96e9-2a5c-446e-8edc-f9200bec42b4",
        "output_cleared": false,
        "id": "qPTBcTw04CDI"
      },
      "source": [
        "## Step 1 - Set Up Environment"
      ]
    },
    {
      "cell_type": "markdown",
      "metadata": {
        "tags": [],
        "cell_id": "00000-5de17db2-8e63-46f5-9d31-63601da2d27a",
        "output_cleared": false,
        "id": "fHePxzH84CDJ"
      },
      "source": [
        "### 1.1 - Install Seaborn \n",
        "\n",
        " - Seaborn is a **visualization library**\n",
        " - It can be used for developing different visualization charts like *bar chart, line chart, etc*."
      ]
    },
    {
      "cell_type": "code",
      "metadata": {
        "tags": [],
        "cell_id": "00000-1443a410-34b4-48cd-a75f-4ea49c42bc5e",
        "output_cleared": false,
        "source_hash": "f980ae2c",
        "execution_millis": 3743,
        "execution_start": 1603664103220,
        "id": "sQNSLyMF4CDJ",
        "outputId": "c0af3711-9eb0-4111-f56c-50b43186479a",
        "colab": {
          "base_uri": "https://localhost:8080/",
          "height": 222
        }
      },
      "source": [
        "pip install seaborn"
      ],
      "execution_count": 1,
      "outputs": [
        {
          "output_type": "stream",
          "text": [
            "Requirement already satisfied: seaborn in /usr/local/lib/python3.6/dist-packages (0.11.0)\n",
            "Requirement already satisfied: pandas>=0.23 in /usr/local/lib/python3.6/dist-packages (from seaborn) (1.1.2)\n",
            "Requirement already satisfied: scipy>=1.0 in /usr/local/lib/python3.6/dist-packages (from seaborn) (1.4.1)\n",
            "Requirement already satisfied: numpy>=1.15 in /usr/local/lib/python3.6/dist-packages (from seaborn) (1.18.5)\n",
            "Requirement already satisfied: matplotlib>=2.2 in /usr/local/lib/python3.6/dist-packages (from seaborn) (3.2.2)\n",
            "Requirement already satisfied: pytz>=2017.2 in /usr/local/lib/python3.6/dist-packages (from pandas>=0.23->seaborn) (2018.9)\n",
            "Requirement already satisfied: python-dateutil>=2.7.3 in /usr/local/lib/python3.6/dist-packages (from pandas>=0.23->seaborn) (2.8.1)\n",
            "Requirement already satisfied: pyparsing!=2.0.4,!=2.1.2,!=2.1.6,>=2.0.1 in /usr/local/lib/python3.6/dist-packages (from matplotlib>=2.2->seaborn) (2.4.7)\n",
            "Requirement already satisfied: kiwisolver>=1.0.1 in /usr/local/lib/python3.6/dist-packages (from matplotlib>=2.2->seaborn) (1.2.0)\n",
            "Requirement already satisfied: cycler>=0.10 in /usr/local/lib/python3.6/dist-packages (from matplotlib>=2.2->seaborn) (0.10.0)\n",
            "Requirement already satisfied: six>=1.5 in /usr/local/lib/python3.6/dist-packages (from python-dateutil>=2.7.3->pandas>=0.23->seaborn) (1.15.0)\n"
          ],
          "name": "stdout"
        }
      ]
    },
    {
      "cell_type": "markdown",
      "metadata": {
        "tags": [],
        "cell_id": "00003-1b5e992e-aeb6-4660-8644-a9b52357e93a",
        "output_cleared": false,
        "id": "9R1dS2hv4CDN"
      },
      "source": [
        "### Install Plotly\n",
        " - Plotly is an **interactive visualization library**\n",
        " - It can be used for developing different visualization charts.\n",
        " - More **importantly** it can be used to interact with the visualization charts. Like you can **hover** or *place your mouse over* a specific data to see all information."
      ]
    },
    {
      "cell_type": "code",
      "metadata": {
        "tags": [],
        "cell_id": "00004-3b733fe5-ed2d-454b-b6f8-e5f0b5e5f3af",
        "output_cleared": false,
        "source_hash": "9753f1ad",
        "execution_millis": 3680,
        "execution_start": 1603664107004,
        "id": "bN1YXu_C4CDN",
        "outputId": "ed32f9ca-eed3-4ce6-80f4-83f90436c840",
        "colab": {
          "base_uri": "https://localhost:8080/",
          "height": 67
        }
      },
      "source": [
        "pip install plotly"
      ],
      "execution_count": 2,
      "outputs": [
        {
          "output_type": "stream",
          "text": [
            "Requirement already satisfied: plotly in /usr/local/lib/python3.6/dist-packages (4.12.0)\n",
            "Requirement already satisfied: six in /usr/local/lib/python3.6/dist-packages (from plotly) (1.15.0)\n",
            "Requirement already satisfied: retrying>=1.3.3 in /usr/local/lib/python3.6/dist-packages (from plotly) (1.3.3)\n"
          ],
          "name": "stdout"
        }
      ]
    },
    {
      "cell_type": "markdown",
      "metadata": {
        "tags": [],
        "cell_id": "00003-d04a7ee8-543a-457b-aa7b-b0d25777c307",
        "output_cleared": false,
        "id": "MOShBRs74CDP"
      },
      "source": [
        "### 1.2 - Import pandas, matplotlib, plotly and seaborn\n",
        "\n",
        "- We are importing all of the *potenital libraries* that \n",
        "we would need down the line for the project. \n",
        "- Those are \n",
        "    - **matplotlib (visualization)** \n",
        "    - **pandas (reading data and generating dataframes)**\n",
        "    - **seaborn (visualiztions used for distribution charts in this project)**"
      ]
    },
    {
      "cell_type": "code",
      "metadata": {
        "id": "5Nqjl8CqwF5c",
        "cell_id": "00000-00385d2f-e11c-49fd-802a-0717ab4802e1",
        "output_cleared": false,
        "source_hash": "3bc44cd8",
        "execution_millis": 1634,
        "execution_start": 1603664110720
      },
      "source": [
        "import pandas as pd\n",
        "import matplotlib.pyplot as plt\n",
        "import seaborn as sns"
      ],
      "execution_count": 3,
      "outputs": []
    },
    {
      "cell_type": "markdown",
      "metadata": {
        "id": "R5xKuD707ZdL",
        "cell_id": "00001-589edc15-f042-4cfe-b845-bf43a10dc0e5",
        "output_cleared": false
      },
      "source": [
        "## Step 2. Read the Data \n",
        "- We will **read the data** from a csv file. The dataset has **7 columns** and **1338 rows**.\n",
        "- We will use *Pandas to read the csv file* and convert it to a **dataframe**.  \n",
        "- There are *7 features* in the dataset that may play a role in describing the dataset further. "
      ]
    },
    {
      "cell_type": "code",
      "metadata": {
        "id": "xp0bhg-_w3mA",
        "cell_id": "00002-93f580b5-b951-4fbf-8b24-291f0094b40b",
        "output_cleared": false,
        "source_hash": "2f2d8cda",
        "execution_millis": 52,
        "execution_start": 1603664112371,
        "outputId": "2f24daec-391d-4653-9fe5-21ba6f0ca35c",
        "colab": {
          "base_uri": "https://localhost:8080/",
          "height": 34
        }
      },
      "source": [
        "df = pd.read_csv(\"insurance.csv\")\n",
        "df.shape"
      ],
      "execution_count": 4,
      "outputs": [
        {
          "output_type": "execute_result",
          "data": {
            "text/plain": [
              "(1338, 7)"
            ]
          },
          "metadata": {
            "tags": []
          },
          "execution_count": 4
        }
      ]
    },
    {
      "cell_type": "markdown",
      "metadata": {
        "id": "20FSZ8Iw7fvD",
        "cell_id": "00003-7b9cd218-a479-497e-b844-dc9f56323af3",
        "output_cleared": false
      },
      "source": [
        "### 2.1 - First five rows \n",
        "- We do this to get an idea of the dataset and how it looks. \n",
        "- This is the **first five rows** in our dataset. "
      ]
    },
    {
      "cell_type": "code",
      "metadata": {
        "id": "o_FUoMnFyoRw",
        "cell_id": "00004-90e61080-2d58-43da-a58c-72aa98dbeee9",
        "output_cleared": false,
        "source_hash": "c085b6ba",
        "execution_millis": 61,
        "execution_start": 1603664112481,
        "outputId": "894047b7-b9b1-4bfc-a23e-79262430ee3a",
        "colab": {
          "base_uri": "https://localhost:8080/",
          "height": 195
        }
      },
      "source": [
        "df.head()"
      ],
      "execution_count": 5,
      "outputs": [
        {
          "output_type": "execute_result",
          "data": {
            "text/html": [
              "<div>\n",
              "<style scoped>\n",
              "    .dataframe tbody tr th:only-of-type {\n",
              "        vertical-align: middle;\n",
              "    }\n",
              "\n",
              "    .dataframe tbody tr th {\n",
              "        vertical-align: top;\n",
              "    }\n",
              "\n",
              "    .dataframe thead th {\n",
              "        text-align: right;\n",
              "    }\n",
              "</style>\n",
              "<table border=\"1\" class=\"dataframe\">\n",
              "  <thead>\n",
              "    <tr style=\"text-align: right;\">\n",
              "      <th></th>\n",
              "      <th>age</th>\n",
              "      <th>sex</th>\n",
              "      <th>bmi</th>\n",
              "      <th>children</th>\n",
              "      <th>smoker</th>\n",
              "      <th>region</th>\n",
              "      <th>charges</th>\n",
              "    </tr>\n",
              "  </thead>\n",
              "  <tbody>\n",
              "    <tr>\n",
              "      <th>0</th>\n",
              "      <td>19</td>\n",
              "      <td>female</td>\n",
              "      <td>27.900</td>\n",
              "      <td>0</td>\n",
              "      <td>yes</td>\n",
              "      <td>southwest</td>\n",
              "      <td>16884.92400</td>\n",
              "    </tr>\n",
              "    <tr>\n",
              "      <th>1</th>\n",
              "      <td>18</td>\n",
              "      <td>male</td>\n",
              "      <td>33.770</td>\n",
              "      <td>1</td>\n",
              "      <td>no</td>\n",
              "      <td>southeast</td>\n",
              "      <td>1725.55230</td>\n",
              "    </tr>\n",
              "    <tr>\n",
              "      <th>2</th>\n",
              "      <td>28</td>\n",
              "      <td>male</td>\n",
              "      <td>33.000</td>\n",
              "      <td>3</td>\n",
              "      <td>no</td>\n",
              "      <td>southeast</td>\n",
              "      <td>4449.46200</td>\n",
              "    </tr>\n",
              "    <tr>\n",
              "      <th>3</th>\n",
              "      <td>33</td>\n",
              "      <td>male</td>\n",
              "      <td>22.705</td>\n",
              "      <td>0</td>\n",
              "      <td>no</td>\n",
              "      <td>northwest</td>\n",
              "      <td>21984.47061</td>\n",
              "    </tr>\n",
              "    <tr>\n",
              "      <th>4</th>\n",
              "      <td>32</td>\n",
              "      <td>male</td>\n",
              "      <td>28.880</td>\n",
              "      <td>0</td>\n",
              "      <td>no</td>\n",
              "      <td>northwest</td>\n",
              "      <td>3866.85520</td>\n",
              "    </tr>\n",
              "  </tbody>\n",
              "</table>\n",
              "</div>"
            ],
            "text/plain": [
              "   age     sex     bmi  children smoker     region      charges\n",
              "0   19  female  27.900         0    yes  southwest  16884.92400\n",
              "1   18    male  33.770         1     no  southeast   1725.55230\n",
              "2   28    male  33.000         3     no  southeast   4449.46200\n",
              "3   33    male  22.705         0     no  northwest  21984.47061\n",
              "4   32    male  28.880         0     no  northwest   3866.85520"
            ]
          },
          "metadata": {
            "tags": []
          },
          "execution_count": 5
        }
      ]
    },
    {
      "cell_type": "markdown",
      "metadata": {
        "id": "O2HIHoNr7lG0",
        "cell_id": "00005-2a8d7355-c57b-425b-a25e-7c243f6cd3d9",
        "output_cleared": false
      },
      "source": [
        "### 2.2 - Last five rows \n",
        "- We do this to get an idea of the dataset and how it looks. \n",
        "- This is **the last five rows** in our dataset. "
      ]
    },
    {
      "cell_type": "code",
      "metadata": {
        "id": "Gf4NZTKiy03D",
        "cell_id": "00006-1d2862e3-458d-4b65-bf5c-48c41d12e397",
        "output_cleared": false,
        "source_hash": "838c0c28",
        "execution_millis": 133,
        "execution_start": 1603664112550,
        "outputId": "7c4f58ae-31d0-4b1e-e60d-a4f8b11fe215",
        "colab": {
          "base_uri": "https://localhost:8080/",
          "height": 195
        }
      },
      "source": [
        "df.tail()"
      ],
      "execution_count": 6,
      "outputs": [
        {
          "output_type": "execute_result",
          "data": {
            "text/html": [
              "<div>\n",
              "<style scoped>\n",
              "    .dataframe tbody tr th:only-of-type {\n",
              "        vertical-align: middle;\n",
              "    }\n",
              "\n",
              "    .dataframe tbody tr th {\n",
              "        vertical-align: top;\n",
              "    }\n",
              "\n",
              "    .dataframe thead th {\n",
              "        text-align: right;\n",
              "    }\n",
              "</style>\n",
              "<table border=\"1\" class=\"dataframe\">\n",
              "  <thead>\n",
              "    <tr style=\"text-align: right;\">\n",
              "      <th></th>\n",
              "      <th>age</th>\n",
              "      <th>sex</th>\n",
              "      <th>bmi</th>\n",
              "      <th>children</th>\n",
              "      <th>smoker</th>\n",
              "      <th>region</th>\n",
              "      <th>charges</th>\n",
              "    </tr>\n",
              "  </thead>\n",
              "  <tbody>\n",
              "    <tr>\n",
              "      <th>1333</th>\n",
              "      <td>50</td>\n",
              "      <td>male</td>\n",
              "      <td>30.97</td>\n",
              "      <td>3</td>\n",
              "      <td>no</td>\n",
              "      <td>northwest</td>\n",
              "      <td>10600.5483</td>\n",
              "    </tr>\n",
              "    <tr>\n",
              "      <th>1334</th>\n",
              "      <td>18</td>\n",
              "      <td>female</td>\n",
              "      <td>31.92</td>\n",
              "      <td>0</td>\n",
              "      <td>no</td>\n",
              "      <td>northeast</td>\n",
              "      <td>2205.9808</td>\n",
              "    </tr>\n",
              "    <tr>\n",
              "      <th>1335</th>\n",
              "      <td>18</td>\n",
              "      <td>female</td>\n",
              "      <td>36.85</td>\n",
              "      <td>0</td>\n",
              "      <td>no</td>\n",
              "      <td>southeast</td>\n",
              "      <td>1629.8335</td>\n",
              "    </tr>\n",
              "    <tr>\n",
              "      <th>1336</th>\n",
              "      <td>21</td>\n",
              "      <td>female</td>\n",
              "      <td>25.80</td>\n",
              "      <td>0</td>\n",
              "      <td>no</td>\n",
              "      <td>southwest</td>\n",
              "      <td>2007.9450</td>\n",
              "    </tr>\n",
              "    <tr>\n",
              "      <th>1337</th>\n",
              "      <td>61</td>\n",
              "      <td>female</td>\n",
              "      <td>29.07</td>\n",
              "      <td>0</td>\n",
              "      <td>yes</td>\n",
              "      <td>northwest</td>\n",
              "      <td>29141.3603</td>\n",
              "    </tr>\n",
              "  </tbody>\n",
              "</table>\n",
              "</div>"
            ],
            "text/plain": [
              "      age     sex    bmi  children smoker     region     charges\n",
              "1333   50    male  30.97         3     no  northwest  10600.5483\n",
              "1334   18  female  31.92         0     no  northeast   2205.9808\n",
              "1335   18  female  36.85         0     no  southeast   1629.8335\n",
              "1336   21  female  25.80         0     no  southwest   2007.9450\n",
              "1337   61  female  29.07         0    yes  northwest  29141.3603"
            ]
          },
          "metadata": {
            "tags": []
          },
          "execution_count": 6
        }
      ]
    },
    {
      "cell_type": "markdown",
      "metadata": {
        "id": "N4qpnsJb74mz",
        "cell_id": "00009-67ecbbd4-9837-413f-8aee-dbbcd7234639",
        "output_cleared": false
      },
      "source": [
        "### 2.3 - Column dataset\n",
        "As we can see we have the columns of age, sex, bmi, \n",
        "number of children, whether the user is a smoker or not, \n",
        "the regions and the charges of the insurance premium.\n",
        "\n",
        "**Column details: **\n",
        "- age :- This shows the *age of each of the individuals*\n",
        "that are taken to calculate the insurance charges. \n",
        "- bmi :- The overall *body mass index* of each of the individuals\n",
        "- sex :- The *gender* of each of the individuals.\n",
        "- children :- *Number of children* each individual has.\n",
        "- smoker :- A value that checks if an *individual smokes or not*. \n",
        "- region :- The *region in the US* where an individual may live -\n",
        " *(Northwest, Southwest, Northeast, Southeast)*\n",
        "- charges :- The *insurance premium prices* that each individual\n",
        "may have to pay. "
      ]
    },
    {
      "cell_type": "code",
      "metadata": {
        "id": "lqlDPciwyuSN",
        "cell_id": "00010-58eb25bd-3958-4984-9b52-919bff26cd58",
        "output_cleared": false,
        "source_hash": "25d43fa0",
        "execution_millis": 5,
        "execution_start": 1603664112685,
        "outputId": "4277cd12-9ac0-46bf-ce42-da85ac73abd5",
        "colab": {
          "base_uri": "https://localhost:8080/",
          "height": 34
        }
      },
      "source": [
        "df.columns"
      ],
      "execution_count": 7,
      "outputs": [
        {
          "output_type": "execute_result",
          "data": {
            "text/plain": [
              "Index(['age', 'sex', 'bmi', 'children', 'smoker', 'region', 'charges'], dtype='object')"
            ]
          },
          "metadata": {
            "tags": []
          },
          "execution_count": 7
        }
      ]
    },
    {
      "cell_type": "markdown",
      "metadata": {
        "tags": [],
        "cell_id": "00013-9022a516-f07b-42a0-bf16-63c45d3869b2",
        "output_cleared": false,
        "id": "Ypnww-qH4CDd"
      },
      "source": [
        "### 2.4 - Overall dataset information\n",
        "- This shows us the row and column count along with all the *features, column data type and all other info*"
      ]
    },
    {
      "cell_type": "code",
      "metadata": {
        "id": "pmUCkqH5Ru3d",
        "cell_id": "00011-530a4282-4d3a-4bfd-8fea-2de69cb74375",
        "output_cleared": false,
        "source_hash": "de1e323c",
        "execution_millis": 37,
        "execution_start": 1603664112693,
        "outputId": "e7581722-8b04-4c99-b905-9ec906f720cc",
        "colab": {
          "base_uri": "https://localhost:8080/",
          "height": 252
        }
      },
      "source": [
        "df.info()"
      ],
      "execution_count": 8,
      "outputs": [
        {
          "output_type": "stream",
          "text": [
            "<class 'pandas.core.frame.DataFrame'>\n",
            "RangeIndex: 1338 entries, 0 to 1337\n",
            "Data columns (total 7 columns):\n",
            " #   Column    Non-Null Count  Dtype  \n",
            "---  ------    --------------  -----  \n",
            " 0   age       1338 non-null   int64  \n",
            " 1   sex       1338 non-null   object \n",
            " 2   bmi       1338 non-null   float64\n",
            " 3   children  1338 non-null   int64  \n",
            " 4   smoker    1338 non-null   object \n",
            " 5   region    1338 non-null   object \n",
            " 6   charges   1338 non-null   float64\n",
            "dtypes: float64(2), int64(2), object(3)\n",
            "memory usage: 73.3+ KB\n"
          ],
          "name": "stdout"
        }
      ]
    },
    {
      "cell_type": "markdown",
      "metadata": {
        "tags": [],
        "cell_id": "00017-c94e018f-6f74-4d6e-91a4-1b41f9bc531c",
        "output_cleared": false,
        "id": "0L5rz5AI4CDf"
      },
      "source": [
        "### 2.5 - Summary Statistics\n",
        "This will show us the *count, average, standard devation and all statistical details* of the numeric columns. "
      ]
    },
    {
      "cell_type": "code",
      "metadata": {
        "tags": [],
        "cell_id": "00018-9e05edbd-94da-4aab-aba8-a1c93dc5cccf",
        "output_cleared": false,
        "source_hash": "f88152d9",
        "execution_millis": 104,
        "execution_start": 1603664112802,
        "id": "m-WY5QAn4CDf",
        "outputId": "aa02b76f-a772-4457-b605-9e4e4293362f",
        "colab": {
          "base_uri": "https://localhost:8080/",
          "height": 284
        }
      },
      "source": [
        "df.describe()"
      ],
      "execution_count": 9,
      "outputs": [
        {
          "output_type": "execute_result",
          "data": {
            "text/html": [
              "<div>\n",
              "<style scoped>\n",
              "    .dataframe tbody tr th:only-of-type {\n",
              "        vertical-align: middle;\n",
              "    }\n",
              "\n",
              "    .dataframe tbody tr th {\n",
              "        vertical-align: top;\n",
              "    }\n",
              "\n",
              "    .dataframe thead th {\n",
              "        text-align: right;\n",
              "    }\n",
              "</style>\n",
              "<table border=\"1\" class=\"dataframe\">\n",
              "  <thead>\n",
              "    <tr style=\"text-align: right;\">\n",
              "      <th></th>\n",
              "      <th>age</th>\n",
              "      <th>bmi</th>\n",
              "      <th>children</th>\n",
              "      <th>charges</th>\n",
              "    </tr>\n",
              "  </thead>\n",
              "  <tbody>\n",
              "    <tr>\n",
              "      <th>count</th>\n",
              "      <td>1338.000000</td>\n",
              "      <td>1338.000000</td>\n",
              "      <td>1338.000000</td>\n",
              "      <td>1338.000000</td>\n",
              "    </tr>\n",
              "    <tr>\n",
              "      <th>mean</th>\n",
              "      <td>39.207025</td>\n",
              "      <td>30.663397</td>\n",
              "      <td>1.094918</td>\n",
              "      <td>13270.422265</td>\n",
              "    </tr>\n",
              "    <tr>\n",
              "      <th>std</th>\n",
              "      <td>14.049960</td>\n",
              "      <td>6.098187</td>\n",
              "      <td>1.205493</td>\n",
              "      <td>12110.011237</td>\n",
              "    </tr>\n",
              "    <tr>\n",
              "      <th>min</th>\n",
              "      <td>18.000000</td>\n",
              "      <td>15.960000</td>\n",
              "      <td>0.000000</td>\n",
              "      <td>1121.873900</td>\n",
              "    </tr>\n",
              "    <tr>\n",
              "      <th>25%</th>\n",
              "      <td>27.000000</td>\n",
              "      <td>26.296250</td>\n",
              "      <td>0.000000</td>\n",
              "      <td>4740.287150</td>\n",
              "    </tr>\n",
              "    <tr>\n",
              "      <th>50%</th>\n",
              "      <td>39.000000</td>\n",
              "      <td>30.400000</td>\n",
              "      <td>1.000000</td>\n",
              "      <td>9382.033000</td>\n",
              "    </tr>\n",
              "    <tr>\n",
              "      <th>75%</th>\n",
              "      <td>51.000000</td>\n",
              "      <td>34.693750</td>\n",
              "      <td>2.000000</td>\n",
              "      <td>16639.912515</td>\n",
              "    </tr>\n",
              "    <tr>\n",
              "      <th>max</th>\n",
              "      <td>64.000000</td>\n",
              "      <td>53.130000</td>\n",
              "      <td>5.000000</td>\n",
              "      <td>63770.428010</td>\n",
              "    </tr>\n",
              "  </tbody>\n",
              "</table>\n",
              "</div>"
            ],
            "text/plain": [
              "               age          bmi     children       charges\n",
              "count  1338.000000  1338.000000  1338.000000   1338.000000\n",
              "mean     39.207025    30.663397     1.094918  13270.422265\n",
              "std      14.049960     6.098187     1.205493  12110.011237\n",
              "min      18.000000    15.960000     0.000000   1121.873900\n",
              "25%      27.000000    26.296250     0.000000   4740.287150\n",
              "50%      39.000000    30.400000     1.000000   9382.033000\n",
              "75%      51.000000    34.693750     2.000000  16639.912515\n",
              "max      64.000000    53.130000     5.000000  63770.428010"
            ]
          },
          "metadata": {
            "tags": []
          },
          "execution_count": 9
        }
      ]
    },
    {
      "cell_type": "markdown",
      "metadata": {
        "tags": [],
        "cell_id": "00015-8039e7b8-db3a-4752-965f-d0c5b5b4777b",
        "output_cleared": false,
        "id": "G6UgqXFe4CDi"
      },
      "source": [
        "## Step 3 - Check and Cleanse Data \n",
        "- We check if we have **columns with null values in them**. \n",
        "    - If we do then we can delete those.\n",
        "- We have **no null values** in the entire dataset. \n",
        "     - So, we have all values ***accounted for***."
      ]
    },
    {
      "cell_type": "code",
      "metadata": {
        "id": "914zNio3SDt6",
        "cell_id": "00013-c0f275e3-3704-4877-9e6d-2366b7b1283c",
        "output_cleared": false,
        "source_hash": "f3dd26da",
        "execution_millis": 6,
        "execution_start": 1603664112908,
        "outputId": "dfadbffc-b03e-40e6-d128-82c429792697",
        "colab": {
          "base_uri": "https://localhost:8080/",
          "height": 151
        }
      },
      "source": [
        "df.isnull().sum()"
      ],
      "execution_count": 10,
      "outputs": [
        {
          "output_type": "execute_result",
          "data": {
            "text/plain": [
              "age         0\n",
              "sex         0\n",
              "bmi         0\n",
              "children    0\n",
              "smoker      0\n",
              "region      0\n",
              "charges     0\n",
              "dtype: int64"
            ]
          },
          "metadata": {
            "tags": []
          },
          "execution_count": 10
        }
      ]
    },
    {
      "cell_type": "markdown",
      "metadata": {
        "tags": [],
        "cell_id": "00023-aad1a7df-2f25-4ad0-b5fb-cc7bf14f39f8",
        "output_cleared": false,
        "id": "-slbKwo84CDk"
      },
      "source": [
        "## Step 3.1 - Renaming Column\n",
        "**I renamed the sex column to gender to make it easier.** "
      ]
    },
    {
      "cell_type": "code",
      "metadata": {
        "tags": [],
        "cell_id": "00023-decf4528-4f68-45ec-9e16-a73a7a499d0f",
        "output_cleared": false,
        "source_hash": "f82c842a",
        "execution_millis": 172,
        "execution_start": 1603664112924,
        "id": "ZRYBDw9F4CDl",
        "outputId": "0b723222-cf30-40f6-a1a3-52f00378dd65",
        "colab": {
          "base_uri": "https://localhost:8080/",
          "height": 195
        }
      },
      "source": [
        "df = df.rename(columns=({'sex':'gender'}))\n",
        "df.head()"
      ],
      "execution_count": 11,
      "outputs": [
        {
          "output_type": "execute_result",
          "data": {
            "text/html": [
              "<div>\n",
              "<style scoped>\n",
              "    .dataframe tbody tr th:only-of-type {\n",
              "        vertical-align: middle;\n",
              "    }\n",
              "\n",
              "    .dataframe tbody tr th {\n",
              "        vertical-align: top;\n",
              "    }\n",
              "\n",
              "    .dataframe thead th {\n",
              "        text-align: right;\n",
              "    }\n",
              "</style>\n",
              "<table border=\"1\" class=\"dataframe\">\n",
              "  <thead>\n",
              "    <tr style=\"text-align: right;\">\n",
              "      <th></th>\n",
              "      <th>age</th>\n",
              "      <th>gender</th>\n",
              "      <th>bmi</th>\n",
              "      <th>children</th>\n",
              "      <th>smoker</th>\n",
              "      <th>region</th>\n",
              "      <th>charges</th>\n",
              "    </tr>\n",
              "  </thead>\n",
              "  <tbody>\n",
              "    <tr>\n",
              "      <th>0</th>\n",
              "      <td>19</td>\n",
              "      <td>female</td>\n",
              "      <td>27.900</td>\n",
              "      <td>0</td>\n",
              "      <td>yes</td>\n",
              "      <td>southwest</td>\n",
              "      <td>16884.92400</td>\n",
              "    </tr>\n",
              "    <tr>\n",
              "      <th>1</th>\n",
              "      <td>18</td>\n",
              "      <td>male</td>\n",
              "      <td>33.770</td>\n",
              "      <td>1</td>\n",
              "      <td>no</td>\n",
              "      <td>southeast</td>\n",
              "      <td>1725.55230</td>\n",
              "    </tr>\n",
              "    <tr>\n",
              "      <th>2</th>\n",
              "      <td>28</td>\n",
              "      <td>male</td>\n",
              "      <td>33.000</td>\n",
              "      <td>3</td>\n",
              "      <td>no</td>\n",
              "      <td>southeast</td>\n",
              "      <td>4449.46200</td>\n",
              "    </tr>\n",
              "    <tr>\n",
              "      <th>3</th>\n",
              "      <td>33</td>\n",
              "      <td>male</td>\n",
              "      <td>22.705</td>\n",
              "      <td>0</td>\n",
              "      <td>no</td>\n",
              "      <td>northwest</td>\n",
              "      <td>21984.47061</td>\n",
              "    </tr>\n",
              "    <tr>\n",
              "      <th>4</th>\n",
              "      <td>32</td>\n",
              "      <td>male</td>\n",
              "      <td>28.880</td>\n",
              "      <td>0</td>\n",
              "      <td>no</td>\n",
              "      <td>northwest</td>\n",
              "      <td>3866.85520</td>\n",
              "    </tr>\n",
              "  </tbody>\n",
              "</table>\n",
              "</div>"
            ],
            "text/plain": [
              "   age  gender     bmi  children smoker     region      charges\n",
              "0   19  female  27.900         0    yes  southwest  16884.92400\n",
              "1   18    male  33.770         1     no  southeast   1725.55230\n",
              "2   28    male  33.000         3     no  southeast   4449.46200\n",
              "3   33    male  22.705         0     no  northwest  21984.47061\n",
              "4   32    male  28.880         0     no  northwest   3866.85520"
            ]
          },
          "metadata": {
            "tags": []
          },
          "execution_count": 11
        }
      ]
    },
    {
      "cell_type": "markdown",
      "metadata": {
        "tags": [],
        "cell_id": "00022-bf0af445-79ac-43c3-9c0a-83943f6100d9",
        "output_cleared": false,
        "id": "Hq6Tm5r44CDn"
      },
      "source": [
        "## Step 4 - Analyzing relationship with columns and premium\n",
        "- We check for the relationship between our **important features or columns**\n",
        " and the premium insurance to evaluate what possibly causes \n",
        " **higher or lower premium charges**"
      ]
    },
    {
      "cell_type": "markdown",
      "metadata": {
        "tags": [],
        "cell_id": "00023-b06d6730-f9e0-4d81-b168-658a883e5215",
        "output_cleared": false,
        "id": "Krby5HBZ4CDn"
      },
      "source": [
        "### Step 4.1 - Check for the unique datas\n",
        "- We check for *unique values* inside the region row"
      ]
    },
    {
      "cell_type": "code",
      "metadata": {
        "tags": [],
        "cell_id": "00018-55c18987-55c2-48a0-b1da-4b01dc1edac4",
        "output_cleared": false,
        "source_hash": "d4984923",
        "execution_millis": 42,
        "execution_start": 1603664113106,
        "id": "08aliaUU4CDn",
        "outputId": "3e9eebff-0fd2-4139-b430-5dbfc692cf0b",
        "colab": {
          "base_uri": "https://localhost:8080/",
          "height": 34
        }
      },
      "source": [
        "df[\"region\"].unique()"
      ],
      "execution_count": 12,
      "outputs": [
        {
          "output_type": "execute_result",
          "data": {
            "text/plain": [
              "array(['southwest', 'southeast', 'northwest', 'northeast'], dtype=object)"
            ]
          },
          "metadata": {
            "tags": []
          },
          "execution_count": 12
        }
      ]
    },
    {
      "cell_type": "markdown",
      "metadata": {
        "tags": [],
        "cell_id": "00025-7f080715-5acc-4949-834b-9f514b10e05b",
        "output_cleared": false,
        "id": "3YyFaRWG4CDp"
      },
      "source": [
        "### Step 4.2 - Aggregate Data and check realtionships with premium charge\n",
        "- We find the **average insurance premium charges** with respect to the columns like region, age, number of children and all to see who has an *overall higher premium*."
      ]
    },
    {
      "cell_type": "markdown",
      "metadata": {
        "tags": [],
        "cell_id": "00028-db222918-6c36-4ec2-b434-e0e7d0429d02",
        "output_cleared": false,
        "id": "F-ha6xkV4CDq"
      },
      "source": [
        "**1st Research Question** - How are the overall premium charges\n",
        "affected in respect to the regions that an individual lives in?"
      ]
    },
    {
      "cell_type": "code",
      "metadata": {
        "tags": [],
        "cell_id": "00020-73b5586b-80c0-4188-90a7-8b1ddca010cc",
        "output_cleared": false,
        "source_hash": "303a3e32",
        "execution_millis": 126,
        "execution_start": 1603664113167,
        "id": "R-eXBHVH4CDq",
        "outputId": "418140c9-5acd-4c3a-f808-3e25bab83750",
        "colab": {
          "base_uri": "https://localhost:8080/",
          "height": 166
        }
      },
      "source": [
        "##We aggregate average charges for each value in the region column. \n",
        "region_df = df[[\"region\",\"charges\"]].groupby('region').agg(\n",
        "    Mean_charges=pd.NamedAgg(\"charges\", \"mean\") \n",
        ")\n",
        "region_df = region_df.reset_index()\n",
        "region_df.head()"
      ],
      "execution_count": 13,
      "outputs": [
        {
          "output_type": "execute_result",
          "data": {
            "text/html": [
              "<div>\n",
              "<style scoped>\n",
              "    .dataframe tbody tr th:only-of-type {\n",
              "        vertical-align: middle;\n",
              "    }\n",
              "\n",
              "    .dataframe tbody tr th {\n",
              "        vertical-align: top;\n",
              "    }\n",
              "\n",
              "    .dataframe thead th {\n",
              "        text-align: right;\n",
              "    }\n",
              "</style>\n",
              "<table border=\"1\" class=\"dataframe\">\n",
              "  <thead>\n",
              "    <tr style=\"text-align: right;\">\n",
              "      <th></th>\n",
              "      <th>region</th>\n",
              "      <th>Mean_charges</th>\n",
              "    </tr>\n",
              "  </thead>\n",
              "  <tbody>\n",
              "    <tr>\n",
              "      <th>0</th>\n",
              "      <td>northeast</td>\n",
              "      <td>13406.384516</td>\n",
              "    </tr>\n",
              "    <tr>\n",
              "      <th>1</th>\n",
              "      <td>northwest</td>\n",
              "      <td>12417.575374</td>\n",
              "    </tr>\n",
              "    <tr>\n",
              "      <th>2</th>\n",
              "      <td>southeast</td>\n",
              "      <td>14735.411438</td>\n",
              "    </tr>\n",
              "    <tr>\n",
              "      <th>3</th>\n",
              "      <td>southwest</td>\n",
              "      <td>12346.937377</td>\n",
              "    </tr>\n",
              "  </tbody>\n",
              "</table>\n",
              "</div>"
            ],
            "text/plain": [
              "      region  Mean_charges\n",
              "0  northeast  13406.384516\n",
              "1  northwest  12417.575374\n",
              "2  southeast  14735.411438\n",
              "3  southwest  12346.937377"
            ]
          },
          "metadata": {
            "tags": []
          },
          "execution_count": 13
        }
      ]
    },
    {
      "cell_type": "code",
      "metadata": {
        "tags": [],
        "cell_id": "00021-19f6dd47-0307-4d2e-8193-daa8e66a250d",
        "output_cleared": false,
        "source_hash": "70a10ae8",
        "execution_millis": 318,
        "execution_start": 1603664113346,
        "id": "SYYg-rUa4CDs",
        "outputId": "d5263cab-7831-4eed-946d-ace8e82f93eb",
        "colab": {
          "base_uri": "https://localhost:8080/",
          "height": 555
        }
      },
      "source": [
        "\"\"\"\n",
        "Visualization of the aggregation of the premium charges with respect to the region\n",
        "As we can see individuals in the SouthEast have a higher charge.\n",
        "\"\"\"\n",
        "region_df.sort_values(by=\"Mean_charges\").plot.bar(\n",
        "    x=\"region\", \n",
        "    y=\"Mean_charges\",\n",
        "    figsize=(12,8)\n",
        ")"
      ],
      "execution_count": 14,
      "outputs": [
        {
          "output_type": "execute_result",
          "data": {
            "text/plain": [
              "<matplotlib.axes._subplots.AxesSubplot at 0x7f3231f367f0>"
            ]
          },
          "metadata": {
            "tags": []
          },
          "execution_count": 14
        },
        {
          "output_type": "display_data",
          "data": {
            "image/png": "[encoded data removed]",
            "text/plain": [
              "<Figure size 864x576 with 1 Axes>"
            ]
          },
          "metadata": {
            "tags": [],
            "needs_background": "light"
          }
        }
      ]
    },
    {
      "cell_type": "markdown",
      "metadata": {
        "tags": [],
        "cell_id": "00031-ce69092a-1a23-4bc5-a987-dce7507544cd",
        "output_cleared": false,
        "id": "sj-iffxy4CDu"
      },
      "source": [
        "- As we can see in the visualization above, individuals\n",
        "who live in the Southeast region of the United States seem to be\n",
        "paying a higher overall premium with respect to individuals in\n",
        "all other regions."
      ]
    },
    {
      "cell_type": "markdown",
      "metadata": {
        "tags": [],
        "cell_id": "00031-ee356897-a4d4-4947-b851-fee571376444",
        "output_cleared": false,
        "id": "AW00EVRN4CDu"
      },
      "source": [
        "**2nd Research Question** - How are the overall premium charges\n",
        "affected in respect to whether an individual smokes or not?"
      ]
    },
    {
      "cell_type": "code",
      "metadata": {
        "tags": [],
        "cell_id": "00025-ae69e24f-ecfb-41e8-9bbc-a4e7d1056031",
        "output_cleared": false,
        "source_hash": "e6edd87",
        "execution_millis": 130,
        "execution_start": 1603664113680,
        "id": "P8mGhf-K4CDv",
        "outputId": "45b5a397-0f84-4708-9f48-7d75c42e53da",
        "colab": {
          "base_uri": "https://localhost:8080/",
          "height": 106
        }
      },
      "source": [
        "\"\"\"\n",
        "We aggregate average charges for each value in the smoker column to see \n",
        "if smokers or non smokers have higher charges. \n",
        "\"\"\"\n",
        "smoker_df = df[[\"smoker\",\"charges\"]].groupby('smoker').agg(\n",
        "    Mean_charges=pd.NamedAgg(\"charges\", \"mean\") \n",
        ")\n",
        "smoker_df = smoker_df.reset_index()\n",
        "smoker_df.head()"
      ],
      "execution_count": 15,
      "outputs": [
        {
          "output_type": "execute_result",
          "data": {
            "text/html": [
              "<div>\n",
              "<style scoped>\n",
              "    .dataframe tbody tr th:only-of-type {\n",
              "        vertical-align: middle;\n",
              "    }\n",
              "\n",
              "    .dataframe tbody tr th {\n",
              "        vertical-align: top;\n",
              "    }\n",
              "\n",
              "    .dataframe thead th {\n",
              "        text-align: right;\n",
              "    }\n",
              "</style>\n",
              "<table border=\"1\" class=\"dataframe\">\n",
              "  <thead>\n",
              "    <tr style=\"text-align: right;\">\n",
              "      <th></th>\n",
              "      <th>smoker</th>\n",
              "      <th>Mean_charges</th>\n",
              "    </tr>\n",
              "  </thead>\n",
              "  <tbody>\n",
              "    <tr>\n",
              "      <th>0</th>\n",
              "      <td>no</td>\n",
              "      <td>8434.268298</td>\n",
              "    </tr>\n",
              "    <tr>\n",
              "      <th>1</th>\n",
              "      <td>yes</td>\n",
              "      <td>32050.231832</td>\n",
              "    </tr>\n",
              "  </tbody>\n",
              "</table>\n",
              "</div>"
            ],
            "text/plain": [
              "  smoker  Mean_charges\n",
              "0     no   8434.268298\n",
              "1    yes  32050.231832"
            ]
          },
          "metadata": {
            "tags": []
          },
          "execution_count": 15
        }
      ]
    },
    {
      "cell_type": "code",
      "metadata": {
        "tags": [],
        "cell_id": "00025-b2fd0729-0c0f-4120-8cb8-18980ead7c11",
        "output_cleared": false,
        "source_hash": "6c85d1c7",
        "execution_millis": 536,
        "execution_start": 1603664113832,
        "id": "tbVD907z4CDx",
        "outputId": "fd2416b3-1eb9-4180-e5e9-d4788bc69073",
        "colab": {
          "base_uri": "https://localhost:8080/",
          "height": 521
        }
      },
      "source": [
        "\"\"\"\n",
        "Visualization of the aggregation of the premium charges with respect to smokers\n",
        "As we can see those who smoke tend to have a higher charge.\n",
        "\"\"\"\n",
        "smoker_df.sort_values(by=\"Mean_charges\").plot.bar(\n",
        "    x=\"smoker\", \n",
        "    y=\"Mean_charges\",\n",
        "    figsize=(12,8)\n",
        ")"
      ],
      "execution_count": 16,
      "outputs": [
        {
          "output_type": "execute_result",
          "data": {
            "text/plain": [
              "<matplotlib.axes._subplots.AxesSubplot at 0x7f3231e9c8d0>"
            ]
          },
          "metadata": {
            "tags": []
          },
          "execution_count": 16
        },
        {
          "output_type": "display_data",
          "data": {
            "image/png": "[encoded data removed]",
            "text/plain": [
              "<Figure size 864x576 with 1 Axes>"
            ]
          },
          "metadata": {
            "tags": [],
            "needs_background": "light"
          }
        }
      ]
    },
    {
      "cell_type": "markdown",
      "metadata": {
        "tags": [],
        "cell_id": "00035-ac8021e0-7bdf-4ea1-8991-de573e7c77e2",
        "output_cleared": false,
        "id": "1mRzhx124CDy"
      },
      "source": [
        "- As we can see in the visualization above, individuals\n",
        "who are smokers would be paying a higher overall premium than \n",
        "the non-smokers. "
      ]
    },
    {
      "cell_type": "markdown",
      "metadata": {
        "tags": [],
        "cell_id": "00036-064d876f-e512-4c68-a805-e5de65759a35",
        "output_cleared": false,
        "id": "FUCdGfxl4CDz"
      },
      "source": [
        "**3rd Research Question** - How are the overall premium charges\n",
        "affected in respect to the number of childrens each of the\n",
        "individuals have?"
      ]
    },
    {
      "cell_type": "code",
      "metadata": {
        "tags": [],
        "cell_id": "00027-c6e54b00-22e2-4205-a4d7-c8fb63fc6c6e",
        "output_cleared": false,
        "source_hash": "81a7a9e3",
        "execution_millis": 40,
        "execution_start": 1603664114400,
        "id": "z3Ucx-Vs4CDz",
        "outputId": "451bcc21-1076-46ea-966d-a167993eb811",
        "colab": {
          "base_uri": "https://localhost:8080/",
          "height": 195
        }
      },
      "source": [
        "\"\"\"\n",
        "We aggregate average charges for each value in the column showing \n",
        "the number of childrens for each user. \n",
        "\"\"\"\n",
        "children_df = df[[\"children\",\"charges\"]].groupby('children').agg(\n",
        "    Mean_charges=pd.NamedAgg(\"charges\", \"mean\") \n",
        ")\n",
        "children_df = children_df.reset_index()\n",
        "children_df.head()"
      ],
      "execution_count": 17,
      "outputs": [
        {
          "output_type": "execute_result",
          "data": {
            "text/html": [
              "<div>\n",
              "<style scoped>\n",
              "    .dataframe tbody tr th:only-of-type {\n",
              "        vertical-align: middle;\n",
              "    }\n",
              "\n",
              "    .dataframe tbody tr th {\n",
              "        vertical-align: top;\n",
              "    }\n",
              "\n",
              "    .dataframe thead th {\n",
              "        text-align: right;\n",
              "    }\n",
              "</style>\n",
              "<table border=\"1\" class=\"dataframe\">\n",
              "  <thead>\n",
              "    <tr style=\"text-align: right;\">\n",
              "      <th></th>\n",
              "      <th>children</th>\n",
              "      <th>Mean_charges</th>\n",
              "    </tr>\n",
              "  </thead>\n",
              "  <tbody>\n",
              "    <tr>\n",
              "      <th>0</th>\n",
              "      <td>0</td>\n",
              "      <td>12365.975602</td>\n",
              "    </tr>\n",
              "    <tr>\n",
              "      <th>1</th>\n",
              "      <td>1</td>\n",
              "      <td>12731.171832</td>\n",
              "    </tr>\n",
              "    <tr>\n",
              "      <th>2</th>\n",
              "      <td>2</td>\n",
              "      <td>15073.563734</td>\n",
              "    </tr>\n",
              "    <tr>\n",
              "      <th>3</th>\n",
              "      <td>3</td>\n",
              "      <td>15355.318367</td>\n",
              "    </tr>\n",
              "    <tr>\n",
              "      <th>4</th>\n",
              "      <td>4</td>\n",
              "      <td>13850.656311</td>\n",
              "    </tr>\n",
              "  </tbody>\n",
              "</table>\n",
              "</div>"
            ],
            "text/plain": [
              "   children  Mean_charges\n",
              "0         0  12365.975602\n",
              "1         1  12731.171832\n",
              "2         2  15073.563734\n",
              "3         3  15355.318367\n",
              "4         4  13850.656311"
            ]
          },
          "metadata": {
            "tags": []
          },
          "execution_count": 17
        }
      ]
    },
    {
      "cell_type": "code",
      "metadata": {
        "tags": [],
        "cell_id": "00028-c19dbef7-718f-4e80-9c16-1302ff49a3f3",
        "output_cleared": false,
        "source_hash": "31ee778d",
        "execution_millis": 578,
        "execution_start": 1603664114444,
        "id": "MXHrxXDR4CD1",
        "outputId": "262ea1ef-fa7e-480c-c8cc-8dd979a01bb3",
        "colab": {
          "base_uri": "https://localhost:8080/",
          "height": 511
        }
      },
      "source": [
        "\"\"\"\n",
        "Visualization of the aggregation of the premium charges with respect to \n",
        "how many children each individual has. As we can see those who have\n",
        "about 5 children seem to be paying the least.\n",
        "\"\"\"\n",
        "children_df.sort_values(by=\"Mean_charges\").plot.bar(\n",
        "    x=\"children\", \n",
        "    y=\"Mean_charges\",\n",
        "    figsize=(12,8)\n",
        ")"
      ],
      "execution_count": 18,
      "outputs": [
        {
          "output_type": "execute_result",
          "data": {
            "text/plain": [
              "<matplotlib.axes._subplots.AxesSubplot at 0x7f32319b2828>"
            ]
          },
          "metadata": {
            "tags": []
          },
          "execution_count": 18
        },
        {
          "output_type": "display_data",
          "data": {
            "image/png": "[encoded data removed]",
            "text/plain": [
              "<Figure size 864x576 with 1 Axes>"
            ]
          },
          "metadata": {
            "tags": [],
            "needs_background": "light"
          }
        }
      ]
    },
    {
      "cell_type": "markdown",
      "metadata": {
        "tags": [],
        "cell_id": "00039-6d911152-9888-423c-8b06-8aa3d1fe7ea8",
        "output_cleared": false,
        "id": "-8USUjvT4CD5"
      },
      "source": [
        "- As we can see in the visualization above, those who have about 5\n",
        "children seem to have the least amount of premium and then it goes up by the\n",
        "number oof children you have, but as one would expect those who have \n",
        "four or five children are not in the **top two highest** categories of\n",
        "premium charges. "
      ]
    },
    {
      "cell_type": "markdown",
      "metadata": {
        "tags": [],
        "cell_id": "00040-4d86940d-4777-46ca-afbe-1f767fee11f0",
        "output_cleared": false,
        "id": "KImMnfxY4CD6"
      },
      "source": [
        "**4th Research Question** - How are the overall premium charges\n",
        "affected in respect to the gender of each individual?"
      ]
    },
    {
      "cell_type": "code",
      "metadata": {
        "tags": [],
        "cell_id": "00026-5f99f50c-c151-4acd-bdf0-326ae711b933",
        "output_cleared": false,
        "source_hash": "e9f3c868",
        "execution_millis": 21,
        "execution_start": 1603664115122,
        "id": "ffQgQlum4CD6",
        "outputId": "6c53f338-47a0-40c6-8cd3-87e55d239486",
        "colab": {
          "base_uri": "https://localhost:8080/",
          "height": 106
        }
      },
      "source": [
        "\"\"\"\n",
        "We aggregate average charges for each value in the column showing \n",
        "the sex or gender for each of the users. \n",
        "\"\"\"\n",
        "gender_df = df[[\"gender\",\"charges\"]].groupby('gender').agg(\n",
        "    Mean_charges=pd.NamedAgg(\"charges\", \"mean\") \n",
        ")\n",
        "gender_df = gender_df.reset_index()\n",
        "gender_df.head()"
      ],
      "execution_count": 19,
      "outputs": [
        {
          "output_type": "execute_result",
          "data": {
            "text/html": [
              "<div>\n",
              "<style scoped>\n",
              "    .dataframe tbody tr th:only-of-type {\n",
              "        vertical-align: middle;\n",
              "    }\n",
              "\n",
              "    .dataframe tbody tr th {\n",
              "        vertical-align: top;\n",
              "    }\n",
              "\n",
              "    .dataframe thead th {\n",
              "        text-align: right;\n",
              "    }\n",
              "</style>\n",
              "<table border=\"1\" class=\"dataframe\">\n",
              "  <thead>\n",
              "    <tr style=\"text-align: right;\">\n",
              "      <th></th>\n",
              "      <th>gender</th>\n",
              "      <th>Mean_charges</th>\n",
              "    </tr>\n",
              "  </thead>\n",
              "  <tbody>\n",
              "    <tr>\n",
              "      <th>0</th>\n",
              "      <td>female</td>\n",
              "      <td>12569.578844</td>\n",
              "    </tr>\n",
              "    <tr>\n",
              "      <th>1</th>\n",
              "      <td>male</td>\n",
              "      <td>13956.751178</td>\n",
              "    </tr>\n",
              "  </tbody>\n",
              "</table>\n",
              "</div>"
            ],
            "text/plain": [
              "   gender  Mean_charges\n",
              "0  female  12569.578844\n",
              "1    male  13956.751178"
            ]
          },
          "metadata": {
            "tags": []
          },
          "execution_count": 19
        }
      ]
    },
    {
      "cell_type": "code",
      "metadata": {
        "tags": [],
        "cell_id": "00027-a03fe5d6-e204-4c26-9d0f-6ae03ec63595",
        "output_cleared": false,
        "source_hash": "cc9cebfc",
        "execution_millis": 472,
        "execution_start": 1603664115228,
        "id": "5XCEdxhf4CD9",
        "outputId": "f94c1e5d-5907-4e1a-baaa-a67c0d14ef0b",
        "colab": {
          "base_uri": "https://localhost:8080/",
          "height": 538
        }
      },
      "source": [
        "\"\"\"\n",
        "Visualization of the aggregation of the premium charges \n",
        "with respect to the sex or gender of each individual. As we can\n",
        "see, males seem to have a higher premium charge..\n",
        "\"\"\"\n",
        "gender_df.sort_values(by=\"Mean_charges\").plot.bar(\n",
        "    x=\"gender\", \n",
        "    y=\"Mean_charges\",\n",
        "    figsize=(12,8)\n",
        ")"
      ],
      "execution_count": 20,
      "outputs": [
        {
          "output_type": "execute_result",
          "data": {
            "text/plain": [
              "<matplotlib.axes._subplots.AxesSubplot at 0x7f323191db70>"
            ]
          },
          "metadata": {
            "tags": []
          },
          "execution_count": 20
        },
        {
          "output_type": "display_data",
          "data": {
            "image/png": "[encoded data removed]",
            "text/plain": [
              "<Figure size 864x576 with 1 Axes>"
            ]
          },
          "metadata": {
            "tags": [],
            "needs_background": "light"
          }
        }
      ]
    },
    {
      "cell_type": "markdown",
      "metadata": {
        "tags": [],
        "cell_id": "00043-6f4e1a70-6ac8-4849-809b-f7cf7a1fdff4",
        "output_cleared": false,
        "id": "v7rXPkRY4CD_"
      },
      "source": [
        "- As we can see in the visualization above, *males* seem to have a slightly\n",
        "higher overall charge than *females* in the dataset. "
      ]
    },
    {
      "cell_type": "markdown",
      "metadata": {
        "tags": [],
        "cell_id": "00044-4d9be98b-43f8-4419-9b8e-ddc0d4a0b9bf",
        "output_cleared": false,
        "id": "hIk-BySW4CEA"
      },
      "source": [
        "## Step 5 - Analyzing relationship of charges with age and BMI\n",
        "- We plan in looking into the **age** of an individual and personal\n",
        "health details like the BMI or **Body Mass Index** to understand how\n",
        "they both play a role in determining how **overall age and health**\n",
        "would play a factor in analyzing the premium charges of the \n",
        "individual who is looking for insurance. "
      ]
    },
    {
      "cell_type": "markdown",
      "metadata": {
        "tags": [],
        "cell_id": "00048-2fe00832-dc98-412d-8abc-bd87a60647c3",
        "output_cleared": false,
        "id": "cFAygKnV4CEA"
      },
      "source": [
        "## Step 5.1.1 - Distribution plots for age\n",
        "- We would be evaluating the distribution or seeing the number\n",
        "of individuals in a specific category. \n",
        "- Below we are finding the Distrbution of the individuals of sepcific age."
      ]
    },
    {
      "cell_type": "code",
      "metadata": {
        "tags": [],
        "cell_id": "00029-eabd5d85-f3bc-4df9-949d-6e684d0eca44",
        "output_cleared": false,
        "source_hash": "1582e6b1",
        "execution_millis": 26,
        "execution_start": 1603664115712,
        "id": "gnJ8EFnR4CEB",
        "outputId": "e1c31e18-9f64-4eef-fc37-d92855ac0f2d",
        "colab": {
          "base_uri": "https://localhost:8080/",
          "height": 67
        }
      },
      "source": [
        "## Find out how many unique ages are in the dataset.\n",
        "\n",
        "df[\"age\"].unique()"
      ],
      "execution_count": 21,
      "outputs": [
        {
          "output_type": "execute_result",
          "data": {
            "text/plain": [
              "array([19, 18, 28, 33, 32, 31, 46, 37, 60, 25, 62, 23, 56, 27, 52, 30, 34,\n",
              "       59, 63, 55, 22, 26, 35, 24, 41, 38, 36, 21, 48, 40, 58, 53, 43, 64,\n",
              "       20, 61, 44, 57, 29, 45, 54, 49, 47, 51, 42, 50, 39])"
            ]
          },
          "metadata": {
            "tags": []
          },
          "execution_count": 21
        }
      ]
    },
    {
      "cell_type": "code",
      "metadata": {
        "tags": [],
        "cell_id": "00025-e87a340d-25d7-4269-8b7c-104c9daea6e2",
        "output_cleared": false,
        "source_hash": "7e7de499",
        "execution_millis": 714,
        "execution_start": 1603664115767,
        "id": "u2yRMpNN4CED",
        "outputId": "70f7ca19-8a8d-4405-e341-da162f1952c2",
        "colab": {
          "base_uri": "https://localhost:8080/",
          "height": 386
        }
      },
      "source": [
        "\"\"\"\n",
        "Below is a distribution of the ages of individuals in the dataset\n",
        "and we can see which age has more occurence and which has lower\n",
        "occurence.\n",
        "\"\"\"\n",
        "\n",
        "sns.displot(df, x=\"age\")"
      ],
      "execution_count": 22,
      "outputs": [
        {
          "output_type": "execute_result",
          "data": {
            "text/plain": [
              "<seaborn.axisgrid.FacetGrid at 0x7f323192e748>"
            ]
          },
          "metadata": {
            "tags": []
          },
          "execution_count": 22
        },
        {
          "output_type": "display_data",
          "data": {
            "image/png": "[encoded data removed]",
            "text/plain": [
              "<Figure size 360x360 with 1 Axes>"
            ]
          },
          "metadata": {
            "tags": [],
            "needs_background": "light"
          }
        }
      ]
    },
    {
      "cell_type": "markdown",
      "metadata": {
        "tags": [],
        "cell_id": "00047-9a51f91d-175f-4be6-a576-e17dc7f41231",
        "output_cleared": false,
        "id": "3bo2wm6J4CEF"
      },
      "source": [
        "- As we can see in the visualization above, the individuals who are\n",
        "maybe in **late teens and in their early 20's** have a significantly\n",
        "*higher occurence* than the others. "
      ]
    },
    {
      "cell_type": "markdown",
      "metadata": {
        "tags": [],
        "cell_id": "00052-499d06d2-4110-45af-8a2b-bf3b0a5ccdd8",
        "output_cleared": false,
        "id": "lftVs5D04CEF"
      },
      "source": [
        "## Step 5.1.2 - Distribution plots for BMI\n",
        "- We would be evaluating the distribution or seeing the number\n",
        "of individuals in a specific category. \n",
        "- Below we are finding the Distrbution of the individuals of sepcific BMI scores."
      ]
    },
    {
      "cell_type": "code",
      "metadata": {
        "tags": [],
        "cell_id": "00028-5673cdbc-0f90-4cb3-bc34-151b866ae912",
        "output_cleared": false,
        "source_hash": "233cb405",
        "execution_millis": 1129,
        "execution_start": 1603664116485,
        "id": "2SN8CJZS4CEG",
        "outputId": "b3855daf-4504-42d1-cd94-66d14ea7de03",
        "colab": {
          "base_uri": "https://localhost:8080/",
          "height": 386
        }
      },
      "source": [
        "sns.displot(df, x=\"bmi\")"
      ],
      "execution_count": 23,
      "outputs": [
        {
          "output_type": "execute_result",
          "data": {
            "text/plain": [
              "<seaborn.axisgrid.FacetGrid at 0x7f32318f7e48>"
            ]
          },
          "metadata": {
            "tags": []
          },
          "execution_count": 23
        },
        {
          "output_type": "display_data",
          "data": {
            "image/png": "[encoded data removed]",
            "text/plain": [
              "<Figure size 360x360 with 1 Axes>"
            ]
          },
          "metadata": {
            "tags": [],
            "needs_background": "light"
          }
        }
      ]
    },
    {
      "cell_type": "markdown",
      "metadata": {
        "tags": [],
        "cell_id": "00049-d8c3b059-18fd-4a7a-a741-80ab2a22df88",
        "output_cleared": false,
        "id": "tx2wIewH4CEI"
      },
      "source": [
        "- As we can see in the visualization above, the individuals who may\n",
        "have a **BMI score between 30-35** seem to be in a higher occurence than\n",
        "the rest. Those who have a **BMI score of 50** seem to be in the least\n",
        "occurence."
      ]
    },
    {
      "cell_type": "markdown",
      "metadata": {
        "tags": [],
        "cell_id": "00055-dce27247-f951-452a-a71f-c86289ece3d9",
        "output_cleared": false,
        "id": "QdPj2cAS4CEI"
      },
      "source": [
        "### Step 5.2 - Aggregate average BMI data and average charges\n",
        "- We find the **average insurance premium charges** and **average\n",
        "BMI data** for individuals of a specific age and we would be\n",
        "evaluating how the BMI, age and the insurance charges are related. "
      ]
    },
    {
      "cell_type": "markdown",
      "metadata": {
        "tags": [],
        "cell_id": "00049-ce1ea91e-7daf-4c7a-bda6-eb0540a7467f",
        "output_cleared": false,
        "id": "xrxWeq0h4CEI"
      },
      "source": [
        "**Research Question** - How are the premium charges of individuals calculated when\n",
        "we take their age adn the Body Mass Index into consideration? Will those \n",
        "who are younger and have a higher BMI pay less or would those who are older with a higher BMI \n",
        "pay a higher premium? or would those who have a lower BMI pay higher?"
      ]
    },
    {
      "cell_type": "code",
      "metadata": {
        "tags": [],
        "cell_id": "00027-0132e63c-7677-4221-881c-bb684d67610d",
        "output_cleared": false,
        "source_hash": "f742cb99",
        "execution_millis": 135,
        "execution_start": 1603664117617,
        "id": "iAPl6GMl4CEJ",
        "outputId": "79765ee7-57d7-4e0c-f4bd-8cf57ce1eb3b",
        "colab": {
          "base_uri": "https://localhost:8080/",
          "height": 195
        }
      },
      "source": [
        "\"\"\"\n",
        "We use aggregates for average charges and BMI. We will be calculating\n",
        "the mean BMI and mean charges of individuals of each age.\n",
        "\"\"\"\n",
        "df2 = df[[\"age\", \"bmi\",\"charges\"]].groupby('age').agg(\n",
        "    Mean_BMI=pd.NamedAgg(\"bmi\", \"mean\"),\n",
        "    Mean_Insurance_Charges=pd.NamedAgg(\"charges\", \"mean\")\n",
        ")\n",
        "df2 = df2.reset_index()\n",
        "df2.head()"
      ],
      "execution_count": 24,
      "outputs": [
        {
          "output_type": "execute_result",
          "data": {
            "text/html": [
              "<div>\n",
              "<style scoped>\n",
              "    .dataframe tbody tr th:only-of-type {\n",
              "        vertical-align: middle;\n",
              "    }\n",
              "\n",
              "    .dataframe tbody tr th {\n",
              "        vertical-align: top;\n",
              "    }\n",
              "\n",
              "    .dataframe thead th {\n",
              "        text-align: right;\n",
              "    }\n",
              "</style>\n",
              "<table border=\"1\" class=\"dataframe\">\n",
              "  <thead>\n",
              "    <tr style=\"text-align: right;\">\n",
              "      <th></th>\n",
              "      <th>age</th>\n",
              "      <th>Mean_BMI</th>\n",
              "      <th>Mean_Insurance_Charges</th>\n",
              "    </tr>\n",
              "  </thead>\n",
              "  <tbody>\n",
              "    <tr>\n",
              "      <th>0</th>\n",
              "      <td>18</td>\n",
              "      <td>31.326159</td>\n",
              "      <td>7086.217556</td>\n",
              "    </tr>\n",
              "    <tr>\n",
              "      <th>1</th>\n",
              "      <td>19</td>\n",
              "      <td>28.596912</td>\n",
              "      <td>9747.909335</td>\n",
              "    </tr>\n",
              "    <tr>\n",
              "      <th>2</th>\n",
              "      <td>20</td>\n",
              "      <td>30.632759</td>\n",
              "      <td>10159.697736</td>\n",
              "    </tr>\n",
              "    <tr>\n",
              "      <th>3</th>\n",
              "      <td>21</td>\n",
              "      <td>28.185714</td>\n",
              "      <td>4730.464330</td>\n",
              "    </tr>\n",
              "    <tr>\n",
              "      <th>4</th>\n",
              "      <td>22</td>\n",
              "      <td>31.087679</td>\n",
              "      <td>10012.932802</td>\n",
              "    </tr>\n",
              "  </tbody>\n",
              "</table>\n",
              "</div>"
            ],
            "text/plain": [
              "   age   Mean_BMI  Mean_Insurance_Charges\n",
              "0   18  31.326159             7086.217556\n",
              "1   19  28.596912             9747.909335\n",
              "2   20  30.632759            10159.697736\n",
              "3   21  28.185714             4730.464330\n",
              "4   22  31.087679            10012.932802"
            ]
          },
          "metadata": {
            "tags": []
          },
          "execution_count": 24
        }
      ]
    },
    {
      "cell_type": "code",
      "metadata": {
        "tags": [],
        "cell_id": "00028-8a5e6506-25c0-48ce-84f7-9e6e38d2056f",
        "output_cleared": false,
        "source_hash": "9dad97d0",
        "execution_millis": 64,
        "execution_start": 1603664117773,
        "id": "lv_h5xzS4CEL",
        "outputId": "1e73ff86-c390-484b-d27b-d04e3ebaac00",
        "colab": {
          "base_uri": "https://localhost:8080/",
          "height": 195
        }
      },
      "source": [
        "\"\"\"\n",
        "We rounded each of the mean values to two decimal places to\n",
        "keep the data in a simpler format and easier to understand.\n",
        "\"\"\"\n",
        "df2 = df2.round(2)\n",
        "df2.head()"
      ],
      "execution_count": 25,
      "outputs": [
        {
          "output_type": "execute_result",
          "data": {
            "text/html": [
              "<div>\n",
              "<style scoped>\n",
              "    .dataframe tbody tr th:only-of-type {\n",
              "        vertical-align: middle;\n",
              "    }\n",
              "\n",
              "    .dataframe tbody tr th {\n",
              "        vertical-align: top;\n",
              "    }\n",
              "\n",
              "    .dataframe thead th {\n",
              "        text-align: right;\n",
              "    }\n",
              "</style>\n",
              "<table border=\"1\" class=\"dataframe\">\n",
              "  <thead>\n",
              "    <tr style=\"text-align: right;\">\n",
              "      <th></th>\n",
              "      <th>age</th>\n",
              "      <th>Mean_BMI</th>\n",
              "      <th>Mean_Insurance_Charges</th>\n",
              "    </tr>\n",
              "  </thead>\n",
              "  <tbody>\n",
              "    <tr>\n",
              "      <th>0</th>\n",
              "      <td>18</td>\n",
              "      <td>31.33</td>\n",
              "      <td>7086.22</td>\n",
              "    </tr>\n",
              "    <tr>\n",
              "      <th>1</th>\n",
              "      <td>19</td>\n",
              "      <td>28.60</td>\n",
              "      <td>9747.91</td>\n",
              "    </tr>\n",
              "    <tr>\n",
              "      <th>2</th>\n",
              "      <td>20</td>\n",
              "      <td>30.63</td>\n",
              "      <td>10159.70</td>\n",
              "    </tr>\n",
              "    <tr>\n",
              "      <th>3</th>\n",
              "      <td>21</td>\n",
              "      <td>28.19</td>\n",
              "      <td>4730.46</td>\n",
              "    </tr>\n",
              "    <tr>\n",
              "      <th>4</th>\n",
              "      <td>22</td>\n",
              "      <td>31.09</td>\n",
              "      <td>10012.93</td>\n",
              "    </tr>\n",
              "  </tbody>\n",
              "</table>\n",
              "</div>"
            ],
            "text/plain": [
              "   age  Mean_BMI  Mean_Insurance_Charges\n",
              "0   18     31.33                 7086.22\n",
              "1   19     28.60                 9747.91\n",
              "2   20     30.63                10159.70\n",
              "3   21     28.19                 4730.46\n",
              "4   22     31.09                10012.93"
            ]
          },
          "metadata": {
            "tags": []
          },
          "execution_count": 25
        }
      ]
    },
    {
      "cell_type": "code",
      "metadata": {
        "tags": [],
        "cell_id": "00028-c6546fe7-1a07-47d8-8c4d-706103b010d2",
        "output_cleared": false,
        "source_hash": "5f054cb2",
        "execution_millis": 1848,
        "execution_start": 1603664117844,
        "id": "8Ag-1fJx4CEN",
        "outputId": "575a7107-67ea-4836-85c0-a472fdc9aa13",
        "colab": {
          "base_uri": "https://localhost:8080/",
          "height": 517
        }
      },
      "source": [
        "\"\"\"\n",
        "Visualization of the aggregation of the premium charges \n",
        "with respect to the age of the individuals.\n",
        "\"\"\"\n",
        "df2.sort_values(by=\"age\").plot.bar(\n",
        "    x=\"age\", \n",
        "    y=\"Mean_Insurance_Charges\",\n",
        "    figsize=(12,8)\n",
        ")"
      ],
      "execution_count": 26,
      "outputs": [
        {
          "output_type": "execute_result",
          "data": {
            "text/plain": [
              "<matplotlib.axes._subplots.AxesSubplot at 0x7f322dcf2fd0>"
            ]
          },
          "metadata": {
            "tags": []
          },
          "execution_count": 26
        },
        {
          "output_type": "display_data",
          "data": {
            "image/png": "[encoded data removed]",
            "text/plain": [
              "<Figure size 864x576 with 1 Axes>"
            ]
          },
          "metadata": {
            "tags": [],
            "needs_background": "light"
          }
        }
      ]
    },
    {
      "cell_type": "markdown",
      "metadata": {
        "tags": [],
        "cell_id": "00053-847ed7be-63ac-4a9d-8488-8f6f5207a47f",
        "output_cleared": false,
        "id": "niuzWBB34CEO"
      },
      "source": [
        "- In the visualization above, we can see that in most cases \n",
        "**younger individuals around 20's and 30's** seem to be paying \n",
        "a significantly lower premiuim charge than \n",
        "**realtively older individuals** that may be paying a higher charge.  "
      ]
    },
    {
      "cell_type": "code",
      "metadata": {
        "tags": [],
        "cell_id": "00032-64adcd83-9c2d-481c-9139-426da7a4be0d",
        "output_cleared": false,
        "source_hash": "a6cb251e",
        "execution_millis": 1601,
        "execution_start": 1603664119706,
        "id": "Gn_QmbPZ4CEP",
        "outputId": "6977f5dd-4d65-4500-a0a5-a59055c9238e",
        "colab": {
          "base_uri": "https://localhost:8080/",
          "height": 517
        }
      },
      "source": [
        "\"\"\"\n",
        "Visualization of the aggregation of the BMI scores\n",
        "with respect to the age of the individuals.\n",
        "\"\"\"\n",
        "df2.sort_values(by=\"age\").plot.bar(\n",
        "    x=\"age\",\n",
        "    y=\"Mean_BMI\",\n",
        "    figsize=(12,8)\n",
        ")"
      ],
      "execution_count": 27,
      "outputs": [
        {
          "output_type": "execute_result",
          "data": {
            "text/plain": [
              "<matplotlib.axes._subplots.AxesSubplot at 0x7f322dc02668>"
            ]
          },
          "metadata": {
            "tags": []
          },
          "execution_count": 27
        },
        {
          "output_type": "display_data",
          "data": {
            "image/png": "[encoded data removed]",
            "text/plain": [
              "<Figure size 864x576 with 1 Axes>"
            ]
          },
          "metadata": {
            "tags": [],
            "needs_background": "light"
          }
        }
      ]
    },
    {
      "cell_type": "markdown",
      "metadata": {
        "tags": [],
        "cell_id": "00055-6b550edf-eaa5-4d89-bd79-c06f0ca77beb",
        "output_cleared": false,
        "id": "HBgbppnx4CEQ"
      },
      "source": [
        "- As we can see in the visualization above, **the age may not play\n",
        "as much of a factor in determining the BMI scores**. "
      ]
    },
    {
      "cell_type": "markdown",
      "metadata": {
        "tags": [],
        "cell_id": "00056-6edc4e9a-0ff5-4663-9a7c-7a8c88b9f363",
        "output_cleared": false,
        "id": "-FWT442B4CER"
      },
      "source": [
        "We want to evaluate if there is a possible relationship between\n",
        "the insurance cahrges and the BMI of an individual and we also see\n",
        "the *age of the individual (by hovering over the dots)* to see how that could play a role."
      ]
    },
    {
      "cell_type": "code",
      "metadata": {
        "tags": [],
        "cell_id": "00028-10383f30-c18f-46dd-a9d5-42b65a9be2a6",
        "output_cleared": false,
        "source_hash": "3daff6c",
        "execution_millis": 1595,
        "execution_start": 1603664121342,
        "id": "vCsKkETG4CER",
        "outputId": "3224b8a6-09ef-415c-d507-bcc8ef352cc5",
        "colab": {
          "base_uri": "https://localhost:8080/",
          "height": 542
        }
      },
      "source": [
        "pd.options.plotting.backend = \"plotly\"\n",
        "\n",
        "df2.plot.scatter(x=\"Mean_BMI\", y=\"Mean_Insurance_Charges\",  hover_data=[\"age\"])"
      ],
      "execution_count": 28,
      "outputs": [
        {
          "output_type": "display_data",
          "data": {
            "text/html": [
              "<html>\n",
              "<head><meta charset=\"utf-8\" /></head>\n",
              "<body>\n",
              "    <div>            <script src=\"https://cdnjs.cloudflare.com/ajax/libs/mathjax/2.7.5/MathJax.js?config=TeX-AMS-MML_SVG\"></script><script type=\"text/javascript\">if (window.MathJax) {MathJax.Hub.Config({SVG: {font: \"STIX-Web\"}});}</script>                <script type=\"text/javascript\">window.PlotlyConfig = {MathJaxConfig: 'local'};</script>\n",
              "        <script src=\"https://cdn.plot.ly/plotly-latest.min.js\"></script>                <div id=\"6d1feb21-8185-482b-8ff0-b40b5b9d9538\" class=\"plotly-graph-div\" style=\"height:525px; width:100%;\"></div>            <script type=\"text/javascript\">                                    window.PLOTLYENV=window.PLOTLYENV || {};                                    if (document.getElementById(\"6d1feb21-8185-482b-8ff0-b40b5b9d9538\")) {                    Plotly.newPlot(                        \"6d1feb21-8185-482b-8ff0-b40b5b9d9538\",                        [{\"customdata\": [[18], [19], [20], [21], [22], [23], [24], [25], [26], [27], [28], [29], [30], [31], [32], [33], [34], [35], [36], [37], [38], [39], [40], [41], [42], [43], [44], [45], [46], [47], [48], [49], [50], [51], [52], [53], [54], [55], [56], [57], [58], [59], [60], [61], [62], [63], [64]], \"hovertemplate\": \"Mean_BMI=%{x}<br>Mean_Insurance_Charges=%{y}<br>age=%{customdata[0]}<extra></extra>\", \"legendgroup\": \"\", \"marker\": {\"color\": \"#636efa\", \"symbol\": \"circle\"}, \"mode\": \"markers\", \"name\": \"\", \"orientation\": \"v\", \"showlegend\": false, \"type\": \"scatter\", \"x\": [31.33, 28.6, 30.63, 28.19, 31.09, 31.45, 29.14, 29.69, 29.43, 29.33, 29.48, 29.38, 30.56, 29.92, 31.6, 31.16, 30.27, 31.39, 29.37, 31.22, 29.0, 29.91, 30.14, 31.51, 30.33, 30.2, 30.84, 29.78, 31.34, 30.66, 31.93, 30.31, 31.13, 31.73, 32.94, 30.36, 31.23, 31.95, 31.6, 30.84, 32.72, 30.57, 30.33, 32.55, 32.34, 31.92, 32.98], \"xaxis\": \"x\", \"y\": [7086.22, 9747.91, 10159.7, 4730.46, 10012.93, 12419.82, 10648.02, 9838.37, 6133.83, 12184.7, 9069.19, 10430.16, 12719.11, 10196.98, 9220.3, 12351.53, 11613.53, 11307.18, 12204.48, 18019.91, 8102.73, 11778.24, 11772.25, 9653.75, 13061.04, 19267.28, 15859.4, 14830.2, 14342.59, 17654.0, 14632.5, 12696.01, 15663.0, 15682.26, 18256.27, 16020.93, 18758.55, 16164.55, 15025.52, 16447.19, 13878.93, 18895.87, 21979.42, 22024.46, 19163.86, 19885.0, 23275.53], \"yaxis\": \"y\"}],                        {\"legend\": {\"tracegroupgap\": 0}, \"margin\": {\"t\": 60}, \"template\": {\"data\": {\"bar\": [{\"error_x\": {\"color\": \"#2a3f5f\"}, \"error_y\": {\"color\": \"#2a3f5f\"}, \"marker\": {\"line\": {\"color\": \"#E5ECF6\", \"width\": 0.5}}, \"type\": \"bar\"}], \"barpolar\": [{\"marker\": {\"line\": {\"color\": \"#E5ECF6\", \"width\": 0.5}}, \"type\": \"barpolar\"}], \"carpet\": [{\"aaxis\": {\"endlinecolor\": \"#2a3f5f\", \"gridcolor\": \"white\", \"linecolor\": \"white\", \"minorgridcolor\": \"white\", \"startlinecolor\": \"#2a3f5f\"}, \"baxis\": {\"endlinecolor\": \"#2a3f5f\", \"gridcolor\": \"white\", \"linecolor\": \"white\", \"minorgridcolor\": \"white\", \"startlinecolor\": \"#2a3f5f\"}, \"type\": \"carpet\"}], \"choropleth\": [{\"colorbar\": {\"outlinewidth\": 0, \"ticks\": \"\"}, \"type\": \"choropleth\"}], \"contour\": [{\"colorbar\": {\"outlinewidth\": 0, \"ticks\": \"\"}, \"colorscale\": [[0.0, \"#0d0887\"], [0.1111111111111111, \"#46039f\"], [0.2222222222222222, \"#7201a8\"], [0.3333333333333333, \"#9c179e\"], [0.4444444444444444, \"#bd3786\"], [0.5555555555555556, \"#d8576b\"], [0.6666666666666666, \"#ed7953\"], [0.7777777777777778, \"#fb9f3a\"], [0.8888888888888888, \"#fdca26\"], [1.0, \"#f0f921\"]], \"type\": \"contour\"}], \"contourcarpet\": [{\"colorbar\": {\"outlinewidth\": 0, \"ticks\": \"\"}, \"type\": \"contourcarpet\"}], \"heatmap\": [{\"colorbar\": {\"outlinewidth\": 0, \"ticks\": \"\"}, \"colorscale\": [[0.0, \"#0d0887\"], [0.1111111111111111, \"#46039f\"], [0.2222222222222222, \"#7201a8\"], [0.3333333333333333, \"#9c179e\"], [0.4444444444444444, \"#bd3786\"], [0.5555555555555556, \"#d8576b\"], [0.6666666666666666, \"#ed7953\"], [0.7777777777777778, \"#fb9f3a\"], [0.8888888888888888, \"#fdca26\"], [1.0, \"#f0f921\"]], \"type\": \"heatmap\"}], \"heatmapgl\": [{\"colorbar\": {\"outlinewidth\": 0, \"ticks\": \"\"}, \"colorscale\": [[0.0, \"#0d0887\"], [0.1111111111111111, \"#46039f\"], [0.2222222222222222, \"#7201a8\"], [0.3333333333333333, \"#9c179e\"], [0.4444444444444444, \"#bd3786\"], [0.5555555555555556, \"#d8576b\"], [0.6666666666666666, \"#ed7953\"], [0.7777777777777778, \"#fb9f3a\"], [0.8888888888888888, \"#fdca26\"], [1.0, \"#f0f921\"]], \"type\": \"heatmapgl\"}], \"histogram\": [{\"marker\": {\"colorbar\": {\"outlinewidth\": 0, \"ticks\": \"\"}}, \"type\": \"histogram\"}], \"histogram2d\": [{\"colorbar\": {\"outlinewidth\": 0, \"ticks\": \"\"}, \"colorscale\": [[0.0, \"#0d0887\"], [0.1111111111111111, \"#46039f\"], [0.2222222222222222, \"#7201a8\"], [0.3333333333333333, \"#9c179e\"], [0.4444444444444444, \"#bd3786\"], [0.5555555555555556, \"#d8576b\"], [0.6666666666666666, \"#ed7953\"], [0.7777777777777778, \"#fb9f3a\"], [0.8888888888888888, \"#fdca26\"], [1.0, \"#f0f921\"]], \"type\": \"histogram2d\"}], \"histogram2dcontour\": [{\"colorbar\": {\"outlinewidth\": 0, \"ticks\": \"\"}, \"colorscale\": [[0.0, \"#0d0887\"], [0.1111111111111111, \"#46039f\"], [0.2222222222222222, \"#7201a8\"], [0.3333333333333333, \"#9c179e\"], [0.4444444444444444, \"#bd3786\"], [0.5555555555555556, \"#d8576b\"], [0.6666666666666666, \"#ed7953\"], [0.7777777777777778, \"#fb9f3a\"], [0.8888888888888888, \"#fdca26\"], [1.0, \"#f0f921\"]], \"type\": \"histogram2dcontour\"}], \"mesh3d\": [{\"colorbar\": {\"outlinewidth\": 0, \"ticks\": \"\"}, \"type\": \"mesh3d\"}], \"parcoords\": [{\"line\": {\"colorbar\": {\"outlinewidth\": 0, \"ticks\": \"\"}}, \"type\": \"parcoords\"}], \"pie\": [{\"automargin\": true, \"type\": \"pie\"}], \"scatter\": [{\"marker\": {\"colorbar\": {\"outlinewidth\": 0, \"ticks\": \"\"}}, \"type\": \"scatter\"}], \"scatter3d\": [{\"line\": {\"colorbar\": {\"outlinewidth\": 0, \"ticks\": \"\"}}, \"marker\": {\"colorbar\": {\"outlinewidth\": 0, \"ticks\": \"\"}}, \"type\": \"scatter3d\"}], \"scattercarpet\": [{\"marker\": {\"colorbar\": {\"outlinewidth\": 0, \"ticks\": \"\"}}, \"type\": \"scattercarpet\"}], \"scattergeo\": [{\"marker\": {\"colorbar\": {\"outlinewidth\": 0, \"ticks\": \"\"}}, \"type\": \"scattergeo\"}], \"scattergl\": [{\"marker\": {\"colorbar\": {\"outlinewidth\": 0, \"ticks\": \"\"}}, \"type\": \"scattergl\"}], \"scattermapbox\": [{\"marker\": {\"colorbar\": {\"outlinewidth\": 0, \"ticks\": \"\"}}, \"type\": \"scattermapbox\"}], \"scatterpolar\": [{\"marker\": {\"colorbar\": {\"outlinewidth\": 0, \"ticks\": \"\"}}, \"type\": \"scatterpolar\"}], \"scatterpolargl\": [{\"marker\": {\"colorbar\": {\"outlinewidth\": 0, \"ticks\": \"\"}}, \"type\": \"scatterpolargl\"}], \"scatterternary\": [{\"marker\": {\"colorbar\": {\"outlinewidth\": 0, \"ticks\": \"\"}}, \"type\": \"scatterternary\"}], \"surface\": [{\"colorbar\": {\"outlinewidth\": 0, \"ticks\": \"\"}, \"colorscale\": [[0.0, \"#0d0887\"], [0.1111111111111111, \"#46039f\"], [0.2222222222222222, \"#7201a8\"], [0.3333333333333333, \"#9c179e\"], [0.4444444444444444, \"#bd3786\"], [0.5555555555555556, \"#d8576b\"], [0.6666666666666666, \"#ed7953\"], [0.7777777777777778, \"#fb9f3a\"], [0.8888888888888888, \"#fdca26\"], [1.0, \"#f0f921\"]], \"type\": \"surface\"}], \"table\": [{\"cells\": {\"fill\": {\"color\": \"#EBF0F8\"}, \"line\": {\"color\": \"white\"}}, \"header\": {\"fill\": {\"color\": \"#C8D4E3\"}, \"line\": {\"color\": \"white\"}}, \"type\": \"table\"}]}, \"layout\": {\"annotationdefaults\": {\"arrowcolor\": \"#2a3f5f\", \"arrowhead\": 0, \"arrowwidth\": 1}, \"coloraxis\": {\"colorbar\": {\"outlinewidth\": 0, \"ticks\": \"\"}}, \"colorscale\": {\"diverging\": [[0, \"#8e0152\"], [0.1, \"#c51b7d\"], [0.2, \"#de77ae\"], [0.3, \"#f1b6da\"], [0.4, \"#fde0ef\"], [0.5, \"#f7f7f7\"], [0.6, \"#e6f5d0\"], [0.7, \"#b8e186\"], [0.8, \"#7fbc41\"], [0.9, \"#4d9221\"], [1, \"#276419\"]], \"sequential\": [[0.0, \"#0d0887\"], [0.1111111111111111, \"#46039f\"], [0.2222222222222222, \"#7201a8\"], [0.3333333333333333, \"#9c179e\"], [0.4444444444444444, \"#bd3786\"], [0.5555555555555556, \"#d8576b\"], [0.6666666666666666, \"#ed7953\"], [0.7777777777777778, \"#fb9f3a\"], [0.8888888888888888, \"#fdca26\"], [1.0, \"#f0f921\"]], \"sequentialminus\": [[0.0, \"#0d0887\"], [0.1111111111111111, \"#46039f\"], [0.2222222222222222, \"#7201a8\"], [0.3333333333333333, \"#9c179e\"], [0.4444444444444444, \"#bd3786\"], [0.5555555555555556, \"#d8576b\"], [0.6666666666666666, \"#ed7953\"], [0.7777777777777778, \"#fb9f3a\"], [0.8888888888888888, \"#fdca26\"], [1.0, \"#f0f921\"]]}, \"colorway\": [\"#636efa\", \"#EF553B\", \"#00cc96\", \"#ab63fa\", \"#FFA15A\", \"#19d3f3\", \"#FF6692\", \"#B6E880\", \"#FF97FF\", \"#FECB52\"], \"font\": {\"color\": \"#2a3f5f\"}, \"geo\": {\"bgcolor\": \"white\", \"lakecolor\": \"white\", \"landcolor\": \"#E5ECF6\", \"showlakes\": true, \"showland\": true, \"subunitcolor\": \"white\"}, \"hoverlabel\": {\"align\": \"left\"}, \"hovermode\": \"closest\", \"mapbox\": {\"style\": \"light\"}, \"paper_bgcolor\": \"white\", \"plot_bgcolor\": \"#E5ECF6\", \"polar\": {\"angularaxis\": {\"gridcolor\": \"white\", \"linecolor\": \"white\", \"ticks\": \"\"}, \"bgcolor\": \"#E5ECF6\", \"radialaxis\": {\"gridcolor\": \"white\", \"linecolor\": \"white\", \"ticks\": \"\"}}, \"scene\": {\"xaxis\": {\"backgroundcolor\": \"#E5ECF6\", \"gridcolor\": \"white\", \"gridwidth\": 2, \"linecolor\": \"white\", \"showbackground\": true, \"ticks\": \"\", \"zerolinecolor\": \"white\"}, \"yaxis\": {\"backgroundcolor\": \"#E5ECF6\", \"gridcolor\": \"white\", \"gridwidth\": 2, \"linecolor\": \"white\", \"showbackground\": true, \"ticks\": \"\", \"zerolinecolor\": \"white\"}, \"zaxis\": {\"backgroundcolor\": \"#E5ECF6\", \"gridcolor\": \"white\", \"gridwidth\": 2, \"linecolor\": \"white\", \"showbackground\": true, \"ticks\": \"\", \"zerolinecolor\": \"white\"}}, \"shapedefaults\": {\"line\": {\"color\": \"#2a3f5f\"}}, \"ternary\": {\"aaxis\": {\"gridcolor\": \"white\", \"linecolor\": \"white\", \"ticks\": \"\"}, \"baxis\": {\"gridcolor\": \"white\", \"linecolor\": \"white\", \"ticks\": \"\"}, \"bgcolor\": \"#E5ECF6\", \"caxis\": {\"gridcolor\": \"white\", \"linecolor\": \"white\", \"ticks\": \"\"}}, \"title\": {\"x\": 0.05}, \"xaxis\": {\"automargin\": true, \"gridcolor\": \"white\", \"linecolor\": \"white\", \"ticks\": \"\", \"title\": {\"standoff\": 15}, \"zerolinecolor\": \"white\", \"zerolinewidth\": 2}, \"yaxis\": {\"automargin\": true, \"gridcolor\": \"white\", \"linecolor\": \"white\", \"ticks\": \"\", \"title\": {\"standoff\": 15}, \"zerolinecolor\": \"white\", \"zerolinewidth\": 2}}}, \"xaxis\": {\"anchor\": \"y\", \"domain\": [0.0, 1.0], \"title\": {\"text\": \"Mean_BMI\"}}, \"yaxis\": {\"anchor\": \"x\", \"domain\": [0.0, 1.0], \"title\": {\"text\": \"Mean_Insurance_Charges\"}}},                        {\"responsive\": true}                    ).then(function(){\n",
              "                            \n",
              "var gd = document.getElementById('6d1feb21-8185-482b-8ff0-b40b5b9d9538');\n",
              "var x = new MutationObserver(function (mutations, observer) {{\n",
              "        var display = window.getComputedStyle(gd).display;\n",
              "        if (!display || display === 'none') {{\n",
              "            console.log([gd, 'removed!']);\n",
              "            Plotly.purge(gd);\n",
              "            observer.disconnect();\n",
              "        }}\n",
              "}});\n",
              "\n",
              "// Listen for the removal of the full notebook cells\n",
              "var notebookContainer = gd.closest('#notebook-container');\n",
              "if (notebookContainer) {{\n",
              "    x.observe(notebookContainer, {childList: true});\n",
              "}}\n",
              "\n",
              "// Listen for the clearing of the current output cell\n",
              "var outputEl = gd.closest('.output');\n",
              "if (outputEl) {{\n",
              "    x.observe(outputEl, {childList: true});\n",
              "}}\n",
              "\n",
              "                        })                };                            </script>        </div>\n",
              "</body>\n",
              "</html>"
            ]
          },
          "metadata": {
            "tags": []
          }
        }
      ]
    },
    {
      "cell_type": "markdown",
      "metadata": {
        "tags": [],
        "cell_id": "00058-b01a0902-d043-41f4-a887-2eec84555f16",
        "output_cleared": false,
        "id": "H7vVTodD4CET"
      },
      "source": [
        "- According to the visualization above, we can see that as the\n",
        "**BMI of an individual would be rising** then the **insurance charges\n",
        "also increase** along with it. \n",
        "- If we take a look at the smallest calculation *(the plot in bottom left most)*. \n",
        "If we hover over the point the age of the individual is 18 years old,\n",
        "his BMI is between 28-29 and his charge is below 5000. \n",
        "- When we see the largest dataset *(the plot on the top left)*\n",
        "then we can see that the individual is 64 when we hover over the data point \n",
        "and insurance price is around 33k and BMI is close to 38.\n",
        "\n",
        "**Therefore, from my observations here I can notice that BMI\n",
        "may play a role with the prices, but it is the age that plays a bigger\n",
        "role when it comes to determining the premium charges.**"
      ]
    }
  ]
}