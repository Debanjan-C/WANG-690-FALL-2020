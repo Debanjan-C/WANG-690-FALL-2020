{
 "cells": [
  {
   "cell_type": "markdown",
   "metadata": {},
   "source": [
    "## Debanjan Chowdhury Data 690 HW-8"
   ]
  },
  {
   "cell_type": "markdown",
   "metadata": {
    "id": "-2fQAV7J6oI1"
   },
   "source": [
    "### Assignment 8\n",
    "For this assignment , we will use the college scorecard dataset. \n",
    "<pre>\n",
    "From the 22 individual school year data files, randomly (using Python) select one file. \n",
    "Only read the column \"TUITIONFEE_IN\" frm this file into a data frame.\n",
    "Find out how many observations this data frame has.\n",
    "Find out how many observations that have missing value. Drop those observations.\n",
    "Find out how many observations that have value of zero. Drop those observations.\n",
    "Calculate the mean of the tuition.\n",
    "Randomly select one observation, find out the tuition of that observation.\n",
    "Calculate the different between the tuition of this observation and the average tuition (mean) off all observations above.\n",
    "Randomly select another observation and repeat the above.\n",
    "Randomly select another observation and repeat the above.\n",
    "Randomly select 5 observations, display the tuition of these observation.\n",
    "Calculate the average of these 5 observations\n",
    "Calculate the different between the average tuition of thes 5 observations and the average tuition (mean) off all observations above.\n",
    "Randomly select another 5 observations and repeat the above.\n",
    "Randomly select another 5 observation and repeat the above.\n",
    "\n",
    "Randomly select 10 observations, display the tuition of these observation.\n",
    "Calculate the average of these 10 observations\n",
    "Calculate the different between the average tuition of thes 10 observations and the average tuition (mean) off all observations above.\n",
    "Randomly select another 10 observations and repeat the above.\n",
    "Randomly select another 10 observation and repeat the above.\n",
    "\n",
    "\n",
    "Randomly select 20 observations, display the tuition of these observation.\n",
    "Calculate the average of these 20 observations\n",
    "Calculate the different between the average tuition of thes 10 observations and the average tuition (mean) off all observations above.\n",
    "Randomly select another 20 observations and repeat the above.\n",
    "Randomly select another 20 observation and repeat the above.\n",
    "\n",
    "Randomly select 30 observations, display the tuition of these observation.\n",
    "Calculate the average of these 30 observations\n",
    "Calculate the different between the average tuition of thes 10 observations and the average tuition (mean) off all observations above.\n",
    "Randomly select another 30 observations and repeat the above.\n",
    "Randomly select another 30 observation and repeat the above.\n",
    "\n",
    "Write a function that take an input x (number of observations). \n",
    "The function will perform the following:\n",
    "\n",
    "Randomly select x observations, display the tuition of these observations.\n",
    "Calculate the average of these x observations\n",
    "Calculate the different between the average tuition of these x observations and the average tuition (mean) off all observations above.\n",
    "Display the difference.\n",
    "<pre>\n"
   ]
  },
  {
   "cell_type": "code",
   "execution_count": 1,
   "metadata": {
    "id": "HpZckaJR6oI8"
   },
   "outputs": [],
   "source": [
    "# 1 - Import necessary libraries\n",
    "import os\n",
    "import pandas as pd\n",
    "import matplotlib.pyplot as plt\n",
    "import numpy as np\n",
    "import random"
   ]
  },
  {
   "cell_type": "code",
   "execution_count": 2,
   "metadata": {
    "colab": {
     "base_uri": "https://localhost:8080/",
     "height": 35
    },
    "id": "6qafjqpb6oJC",
    "outputId": "7f925450-9b72-44be-a7c8-9fe725df2a2c"
   },
   "outputs": [],
   "source": [
    "# 2 - Retrieve the names of the 22 files and assign them to a List variable\n",
    "# You would need to filter out other files\n",
    "# Display the names of these 22 files\n",
    "dir = os.listdir(\"C:/Users/deban/Assignment8/CollegeScorecard_Raw_Data\")\n"
   ]
  },
  {
   "cell_type": "code",
   "execution_count": 5,
   "metadata": {},
   "outputs": [
    {
     "data": {
      "text/plain": [
       "['MERGED1996_97_PP.csv',\n",
       " 'MERGED1997_98_PP.csv',\n",
       " 'MERGED1998_99_PP.csv',\n",
       " 'MERGED1999_00_PP.csv',\n",
       " 'MERGED2000_01_PP.csv',\n",
       " 'MERGED2001_02_PP.csv',\n",
       " 'MERGED2002_03_PP.csv',\n",
       " 'MERGED2003_04_PP.csv',\n",
       " 'MERGED2004_05_PP.csv',\n",
       " 'MERGED2005_06_PP.csv',\n",
       " 'MERGED2006_07_PP.csv',\n",
       " 'MERGED2007_08_PP.csv',\n",
       " 'MERGED2008_09_PP.csv',\n",
       " 'MERGED2009_10_PP.csv',\n",
       " 'MERGED2010_11_PP.csv',\n",
       " 'MERGED2011_12_PP.csv',\n",
       " 'MERGED2012_13_PP.csv',\n",
       " 'MERGED2013_14_PP.csv',\n",
       " 'MERGED2014_15_PP.csv',\n",
       " 'MERGED2015_16_PP.csv',\n",
       " 'MERGED2016_17_PP.csv',\n",
       " 'MERGED2017_18_PP.csv',\n",
       " 'MERGED2018_19_PP.csv']"
      ]
     },
     "execution_count": 5,
     "metadata": {},
     "output_type": "execute_result"
    }
   ],
   "source": [
    "# Part of number 2 where we try to retrieve and display the files required.\n",
    "\n",
    "for i in dir:\n",
    "    if not (i.startswith(\"MERGED\") and i.endswith(\".csv\")):\n",
    "        dir.remove(i)\n",
    "\n",
    "dir"
   ]
  },
  {
   "cell_type": "code",
   "execution_count": 6,
   "metadata": {
    "id": "ft9Rn1lp6oJG"
   },
   "outputs": [
    {
     "data": {
      "text/plain": [
       "'MERGED2007_08_PP.csv'"
      ]
     },
     "execution_count": 6,
     "metadata": {},
     "output_type": "execute_result"
    }
   ],
   "source": [
    "# 3 - Write code to randomly select one file name out of the 22 files names. \n",
    "# Hint: generate a random integer between 0 and 21 first\n",
    "# Display the file name\n",
    "i = random.randint(0, 21)\n",
    "\n",
    "j = dir[i]\n",
    "j"
   ]
  },
  {
   "cell_type": "code",
   "execution_count": 7,
   "metadata": {
    "id": "DJy1hmWM6oJN"
   },
   "outputs": [
    {
     "name": "stdout",
     "output_type": "stream",
     "text": [
      "<class 'pandas.core.frame.DataFrame'>\n",
      "RangeIndex: 6971 entries, 0 to 6970\n",
      "Data columns (total 2 columns):\n",
      " #   Column         Non-Null Count  Dtype  \n",
      "---  ------         --------------  -----  \n",
      " 0   INSTNM         6971 non-null   object \n",
      " 1   TUITIONFEE_IN  4182 non-null   float64\n",
      "dtypes: float64(1), object(1)\n",
      "memory usage: 109.0+ KB\n"
     ]
    }
   ],
   "source": [
    "# 4 - Only read the two columns: college name (INSTNM) and in state tution (\"TUITIONFEE_IN\")\n",
    "# from this file into a data frame aand display use info() function to display a summary information\n",
    "Li = []\n",
    "df = pd.read_csv('C:/Users/deban/Assignment7/CollegeScorecard_Raw_Data/' + j, usecols=[\"INSTNM\", \"TUITIONFEE_IN\"])\n",
    "\n",
    "Li.append(df)\n",
    "\n",
    "df_new = pd.concat(Li)\n",
    "df_new.info()"
   ]
  },
  {
   "cell_type": "code",
   "execution_count": 8,
   "metadata": {
    "id": "wU5Ozu106oJR"
   },
   "outputs": [
    {
     "data": {
      "text/plain": [
       "INSTNM              0\n",
       "TUITIONFEE_IN    2789\n",
       "dtype: int64"
      ]
     },
     "execution_count": 8,
     "metadata": {},
     "output_type": "execute_result"
    }
   ],
   "source": [
    "# 5 - Find out how many observations have missing value.\n",
    "df_new.isna().sum()"
   ]
  },
  {
   "cell_type": "code",
   "execution_count": 9,
   "metadata": {
    "id": "V0MTbBwv6oJW"
   },
   "outputs": [
    {
     "data": {
      "text/plain": [
       "INSTNM           0\n",
       "TUITIONFEE_IN    0\n",
       "dtype: int64"
      ]
     },
     "execution_count": 9,
     "metadata": {},
     "output_type": "execute_result"
    }
   ],
   "source": [
    "# 6 - Drop those observations with missing value\n",
    "# Disaply the number of observations afterward\n",
    "df_new = df_new.dropna()\n",
    "df_new.isna().sum()"
   ]
  },
  {
   "cell_type": "code",
   "execution_count": 10,
   "metadata": {
    "id": "A-pfpASe6oJb"
   },
   "outputs": [
    {
     "data": {
      "text/html": [
       "<div>\n",
       "<style scoped>\n",
       "    .dataframe tbody tr th:only-of-type {\n",
       "        vertical-align: middle;\n",
       "    }\n",
       "\n",
       "    .dataframe tbody tr th {\n",
       "        vertical-align: top;\n",
       "    }\n",
       "\n",
       "    .dataframe thead th {\n",
       "        text-align: right;\n",
       "    }\n",
       "</style>\n",
       "<table border=\"1\" class=\"dataframe\">\n",
       "  <thead>\n",
       "    <tr style=\"text-align: right;\">\n",
       "      <th></th>\n",
       "      <th>INSTNM</th>\n",
       "      <th>TUITIONFEE_IN</th>\n",
       "    </tr>\n",
       "  </thead>\n",
       "  <tbody>\n",
       "    <tr>\n",
       "      <th>678</th>\n",
       "      <td>United States Air Force Academy</td>\n",
       "      <td>0.0</td>\n",
       "    </tr>\n",
       "    <tr>\n",
       "      <th>1805</th>\n",
       "      <td>United States Naval Academy</td>\n",
       "      <td>0.0</td>\n",
       "    </tr>\n",
       "    <tr>\n",
       "      <th>2907</th>\n",
       "      <td>United States Merchant Marine Academy</td>\n",
       "      <td>0.0</td>\n",
       "    </tr>\n",
       "    <tr>\n",
       "      <th>2908</th>\n",
       "      <td>United States Military Academy</td>\n",
       "      <td>0.0</td>\n",
       "    </tr>\n",
       "    <tr>\n",
       "      <th>2915</th>\n",
       "      <td>Webb Institute</td>\n",
       "      <td>0.0</td>\n",
       "    </tr>\n",
       "  </tbody>\n",
       "</table>\n",
       "</div>"
      ],
      "text/plain": [
       "                                     INSTNM  TUITIONFEE_IN\n",
       "678         United States Air Force Academy            0.0\n",
       "1805            United States Naval Academy            0.0\n",
       "2907  United States Merchant Marine Academy            0.0\n",
       "2908         United States Military Academy            0.0\n",
       "2915                         Webb Institute            0.0"
      ]
     },
     "execution_count": 10,
     "metadata": {},
     "output_type": "execute_result"
    }
   ],
   "source": [
    "# 7 - Find out how many observations have 0 tution. \n",
    "\n",
    "# I printed the number of observations in the next tab below.\n",
    "\n",
    "zero_df = df_new[df_new[\"TUITIONFEE_IN\"] == 0 ]\n",
    "zero_df"
   ]
  },
  {
   "cell_type": "code",
   "execution_count": 11,
   "metadata": {},
   "outputs": [
    {
     "data": {
      "text/plain": [
       "INSTNM           5\n",
       "TUITIONFEE_IN    5\n",
       "dtype: int64"
      ]
     },
     "execution_count": 11,
     "metadata": {},
     "output_type": "execute_result"
    }
   ],
   "source": [
    "# Part of number 7. There are 5 observations with 0 tuition\n",
    "zero_df.count()"
   ]
  },
  {
   "cell_type": "code",
   "execution_count": 12,
   "metadata": {
    "id": "UUp2iUlM6oJk"
   },
   "outputs": [
    {
     "data": {
      "text/plain": [
       "INSTNM           4177\n",
       "TUITIONFEE_IN    4177\n",
       "dtype: int64"
      ]
     },
     "execution_count": 12,
     "metadata": {},
     "output_type": "execute_result"
    }
   ],
   "source": [
    "# 8 - Drop those observations with 0 tuition\n",
    "# Disaply the number of observations afterward\n",
    "\n",
    "df_new.drop(df_new.index[df_new[\"TUITIONFEE_IN\"] == 0 ], inplace = True)\n",
    "df_new.count()"
   ]
  },
  {
   "cell_type": "code",
   "execution_count": 13,
   "metadata": {
    "id": "vXjrc9Km6oJq"
   },
   "outputs": [
    {
     "data": {
      "text/plain": [
       "10729.360785252573"
      ]
     },
     "execution_count": 13,
     "metadata": {},
     "output_type": "execute_result"
    }
   ],
   "source": [
    "# 9 - Calculate and display the mean (average) of the tuitions of all the remaining observations \n",
    "\n",
    "mean = df_new[\"TUITIONFEE_IN\"].mean()\n",
    "mean"
   ]
  },
  {
   "cell_type": "code",
   "execution_count": 16,
   "metadata": {
    "id": "Yyk1Kx456oJv"
   },
   "outputs": [
    {
     "data": {
      "text/plain": [
       "1376    19995.0\n",
       "Name: TUITIONFEE_IN, dtype: float64"
      ]
     },
     "execution_count": 16,
     "metadata": {},
     "output_type": "execute_result"
    }
   ],
   "source": [
    "# 10 - Randomly select just 1 observation from the data frame.\n",
    "# Display the tuition of that observation. \n",
    "df_one = df_new.sample()\n",
    "df_one['TUITIONFEE_IN']"
   ]
  },
  {
   "cell_type": "code",
   "execution_count": 17,
   "metadata": {
    "id": "2Jio5eDc6oJ0"
   },
   "outputs": [
    {
     "data": {
      "text/plain": [
       "1376    9265.639215\n",
       "Name: TUITIONFEE_IN, dtype: float64"
      ]
     },
     "execution_count": 17,
     "metadata": {},
     "output_type": "execute_result"
    }
   ],
   "source": [
    "# 11 - Calculate the different between the tuition of this observation and \n",
    "# the mean tuition off all observations calculated earlier.\n",
    "# Display the difference\n",
    "df_one['TUITIONFEE_IN'] - mean"
   ]
  },
  {
   "cell_type": "code",
   "execution_count": 18,
   "metadata": {
    "id": "E7RIjD8E6oJ5"
   },
   "outputs": [
    {
     "name": "stdout",
     "output_type": "stream",
     "text": [
      "3829   -5348.360785\n",
      "Name: TUITIONFEE_IN, dtype: float64\n"
     ]
    }
   ],
   "source": [
    "# 12 - Repeat 10 to 11 several times get the feel of the size of the difference in means\n",
    "df_two = df_new.sample()\n",
    "print(df_two['TUITIONFEE_IN'] - mean)"
   ]
  },
  {
   "cell_type": "code",
   "execution_count": 19,
   "metadata": {},
   "outputs": [
    {
     "data": {
      "text/plain": [
       "533   -7301.360785\n",
       "Name: TUITIONFEE_IN, dtype: float64"
      ]
     },
     "execution_count": 19,
     "metadata": {},
     "output_type": "execute_result"
    }
   ],
   "source": [
    "# Part of #12 we are finding the difference of the sample tuition and mean of all datas another time\n",
    "df_three = df_new.sample()\n",
    "df_three['TUITIONFEE_IN'] - mean"
   ]
  },
  {
   "cell_type": "code",
   "execution_count": 20,
   "metadata": {},
   "outputs": [
    {
     "data": {
      "text/plain": [
       "4593   -5434.360785\n",
       "Name: TUITIONFEE_IN, dtype: float64"
      ]
     },
     "execution_count": 20,
     "metadata": {},
     "output_type": "execute_result"
    }
   ],
   "source": [
    "# Part of #12 we are finding the difference of the sample tuition and mean of all datas another time\n",
    "df_four = df_new.sample()\n",
    "df_four['TUITIONFEE_IN'] - mean"
   ]
  },
  {
   "cell_type": "code",
   "execution_count": 21,
   "metadata": {
    "id": "X7P4DGbi6oJ-"
   },
   "outputs": [
    {
     "data": {
      "text/html": [
       "<div>\n",
       "<style scoped>\n",
       "    .dataframe tbody tr th:only-of-type {\n",
       "        vertical-align: middle;\n",
       "    }\n",
       "\n",
       "    .dataframe tbody tr th {\n",
       "        vertical-align: top;\n",
       "    }\n",
       "\n",
       "    .dataframe thead th {\n",
       "        text-align: right;\n",
       "    }\n",
       "</style>\n",
       "<table border=\"1\" class=\"dataframe\">\n",
       "  <thead>\n",
       "    <tr style=\"text-align: right;\">\n",
       "      <th></th>\n",
       "      <th>INSTNM</th>\n",
       "      <th>TUITIONFEE_IN</th>\n",
       "    </tr>\n",
       "  </thead>\n",
       "  <tbody>\n",
       "    <tr>\n",
       "      <th>4134</th>\n",
       "      <td>Texas A &amp; M University-Galveston</td>\n",
       "      <td>6055.0</td>\n",
       "    </tr>\n",
       "    <tr>\n",
       "      <th>4951</th>\n",
       "      <td>University of Phoenix-San Diego Campus</td>\n",
       "      <td>13440.0</td>\n",
       "    </tr>\n",
       "    <tr>\n",
       "      <th>2277</th>\n",
       "      <td>Metropolitan Community College-Kansas City</td>\n",
       "      <td>2400.0</td>\n",
       "    </tr>\n",
       "    <tr>\n",
       "      <th>2572</th>\n",
       "      <td>Eastern New Mexico University-Roswell Campus</td>\n",
       "      <td>1113.0</td>\n",
       "    </tr>\n",
       "    <tr>\n",
       "      <th>326</th>\n",
       "      <td>Diablo Valley College</td>\n",
       "      <td>570.0</td>\n",
       "    </tr>\n",
       "    <tr>\n",
       "      <th>4016</th>\n",
       "      <td>El Paso Community College</td>\n",
       "      <td>1452.0</td>\n",
       "    </tr>\n",
       "    <tr>\n",
       "      <th>716</th>\n",
       "      <td>Middlesex Community College</td>\n",
       "      <td>2828.0</td>\n",
       "    </tr>\n",
       "    <tr>\n",
       "      <th>1310</th>\n",
       "      <td>Indiana University-Purdue University-Indianapolis</td>\n",
       "      <td>6850.0</td>\n",
       "    </tr>\n",
       "    <tr>\n",
       "      <th>1253</th>\n",
       "      <td>Taylor Business Institute</td>\n",
       "      <td>11250.0</td>\n",
       "    </tr>\n",
       "    <tr>\n",
       "      <th>2244</th>\n",
       "      <td>Crowder College</td>\n",
       "      <td>1950.0</td>\n",
       "    </tr>\n",
       "    <tr>\n",
       "      <th>2397</th>\n",
       "      <td>Midland University</td>\n",
       "      <td>20924.0</td>\n",
       "    </tr>\n",
       "    <tr>\n",
       "      <th>2322</th>\n",
       "      <td>Sanford-Brown College-Fenton</td>\n",
       "      <td>16050.0</td>\n",
       "    </tr>\n",
       "    <tr>\n",
       "      <th>6841</th>\n",
       "      <td>Strayer University-South Charlotte</td>\n",
       "      <td>11712.0</td>\n",
       "    </tr>\n",
       "    <tr>\n",
       "      <th>1407</th>\n",
       "      <td>Iowa Lakes Community College</td>\n",
       "      <td>4128.0</td>\n",
       "    </tr>\n",
       "    <tr>\n",
       "      <th>2367</th>\n",
       "      <td>Miles Community College</td>\n",
       "      <td>3420.0</td>\n",
       "    </tr>\n",
       "    <tr>\n",
       "      <th>2983</th>\n",
       "      <td>Isothermal Community College</td>\n",
       "      <td>1382.0</td>\n",
       "    </tr>\n",
       "    <tr>\n",
       "      <th>3682</th>\n",
       "      <td>The Restaurant School at Walnut Hill College</td>\n",
       "      <td>16070.0</td>\n",
       "    </tr>\n",
       "    <tr>\n",
       "      <th>3021</th>\n",
       "      <td>Pamlico Community College</td>\n",
       "      <td>1369.0</td>\n",
       "    </tr>\n",
       "    <tr>\n",
       "      <th>1441</th>\n",
       "      <td>Simpson College</td>\n",
       "      <td>23596.0</td>\n",
       "    </tr>\n",
       "    <tr>\n",
       "      <th>2576</th>\n",
       "      <td>New Mexico Military Institute</td>\n",
       "      <td>2945.0</td>\n",
       "    </tr>\n",
       "  </tbody>\n",
       "</table>\n",
       "</div>"
      ],
      "text/plain": [
       "                                                 INSTNM  TUITIONFEE_IN\n",
       "4134                   Texas A & M University-Galveston         6055.0\n",
       "4951             University of Phoenix-San Diego Campus        13440.0\n",
       "2277         Metropolitan Community College-Kansas City         2400.0\n",
       "2572       Eastern New Mexico University-Roswell Campus         1113.0\n",
       "326                               Diablo Valley College          570.0\n",
       "4016                          El Paso Community College         1452.0\n",
       "716                         Middlesex Community College         2828.0\n",
       "1310  Indiana University-Purdue University-Indianapolis         6850.0\n",
       "1253                          Taylor Business Institute        11250.0\n",
       "2244                                    Crowder College         1950.0\n",
       "2397                                 Midland University        20924.0\n",
       "2322                       Sanford-Brown College-Fenton        16050.0\n",
       "6841                 Strayer University-South Charlotte        11712.0\n",
       "1407                       Iowa Lakes Community College         4128.0\n",
       "2367                            Miles Community College         3420.0\n",
       "2983                       Isothermal Community College         1382.0\n",
       "3682       The Restaurant School at Walnut Hill College        16070.0\n",
       "3021                          Pamlico Community College         1369.0\n",
       "1441                                    Simpson College        23596.0\n",
       "2576                      New Mexico Military Institute         2945.0"
      ]
     },
     "execution_count": 21,
     "metadata": {},
     "output_type": "execute_result"
    }
   ],
   "source": [
    "# 13 - Randomly select 20 observations, display the tuition of these observation. \n",
    "df_sample = df_new.sample(20)\n",
    "df_sample"
   ]
  },
  {
   "cell_type": "code",
   "execution_count": 35,
   "metadata": {
    "id": "2kvz1whj6oKA"
   },
   "outputs": [
    {
     "data": {
      "text/plain": [
       "7475.2"
      ]
     },
     "execution_count": 35,
     "metadata": {},
     "output_type": "execute_result"
    }
   ],
   "source": [
    "# 14 - Calculate and displat the mean tuition of these 20 observations\n",
    "mean_20_college = df_sample[\"TUITIONFEE_IN\"].mean()\n",
    "mean_20_college"
   ]
  },
  {
   "cell_type": "code",
   "execution_count": 32,
   "metadata": {
    "id": "7qZe_Xn-6oKE"
   },
   "outputs": [
    {
     "data": {
      "text/plain": [
       "-3254.160785252573"
      ]
     },
     "execution_count": 32,
     "metadata": {},
     "output_type": "execute_result"
    }
   ],
   "source": [
    "# 15 - Calculate  the different between the average tuition of these 20 observations \n",
    "# and the mean tuition off all observations calculated earlier.\n",
    "# Display the difference\n",
    "mean_20_college - mean"
   ]
  },
  {
   "cell_type": "code",
   "execution_count": 33,
   "metadata": {
    "id": "V7xgI6GU6oKH"
   },
   "outputs": [
    {
     "data": {
      "text/plain": [
       "-1580.9107852525722"
      ]
     },
     "execution_count": 33,
     "metadata": {},
     "output_type": "execute_result"
    }
   ],
   "source": [
    "# 16 - Repeat 13 to 15 several times and get the feel of the size of the difference in means \n",
    "# Compare these differences with the differences calculated earlier with just 1 observation\n",
    "# Describe your hunch/conclusion\n",
    "df_sample_2 = df_new.sample(20)\n",
    "mean_20_college_2 = df_sample_2[\"TUITIONFEE_IN\"].mean()\n",
    "mean_20_college_2 - mean"
   ]
  },
  {
   "cell_type": "code",
   "execution_count": 34,
   "metadata": {},
   "outputs": [
    {
     "data": {
      "text/plain": [
       "2415.9392147474264"
      ]
     },
     "execution_count": 34,
     "metadata": {},
     "output_type": "execute_result"
    }
   ],
   "source": [
    "df_sample_3 = df_new.sample(20)\n",
    "mean_20_college_3 = df_sample_3[\"TUITIONFEE_IN\"].mean()\n",
    "mean_20_college_3 - mean"
   ]
  },
  {
   "cell_type": "markdown",
   "metadata": {},
   "source": [
    "**We can see that in some of these examples, we will be seeing the mean of the sample sizes are less than the mean of all colleges and in the last example, the mean of the sample sizes was larger than the mean of the overall datas."
   ]
  },
  {
   "cell_type": "markdown",
   "metadata": {
    "id": "0i4lLySc6oKK"
   },
   "source": [
    "Write a function that take two input parameters:\n",
    "- x (number of observations) \n",
    "- y (the name of the dataframe). \n",
    "\n",
    "The function will perform the following: \n",
    "- Randomly select x observations from y\n",
    "- Calculate the mean of these x observations \n",
    "- Calculate the mean of all observations\n",
    "- Calculate the difference between the two means \n",
    "- Return the difference"
   ]
  },
  {
   "cell_type": "code",
   "execution_count": 36,
   "metadata": {
    "id": "ZblkuSq46oKL"
   },
   "outputs": [],
   "source": [
    "# 17 - write function Code here\n",
    "def mean_func(x, y):\n",
    "    obs = y.sample(x)\n",
    "    mean_x = obs[\"TUITIONFEE_IN\"].mean()\n",
    "    mean_obs = y[\"TUITIONFEE_IN\"].mean()\n",
    "    diff = mean_x - mean_obs\n",
    "    return diff"
   ]
  },
  {
   "cell_type": "code",
   "execution_count": 37,
   "metadata": {
    "id": "rCtsaGCy6oKN"
   },
   "outputs": [
    {
     "data": {
      "text/plain": [
       "-1297.6607852525722"
      ]
     },
     "execution_count": 37,
     "metadata": {},
     "output_type": "execute_result"
    }
   ],
   "source": [
    "# 18 - test the function by passing a sample size and the name of the dataframe\n",
    "# Dsplay the return of the function\n",
    "mean_func(10, df_new)"
   ]
  },
  {
   "cell_type": "code",
   "execution_count": 42,
   "metadata": {
    "id": "0I58wyGH6oKP"
   },
   "outputs": [
    {
     "name": "stdout",
     "output_type": "stream",
     "text": [
      "[1, 2, 3, 4, 5, 6, 7, 8, 9, 10, 11, 12, 13, 14, 15, 16, 17, 18, 19, 20, 21, 22, 23, 24, 25, 26, 27, 28, 29, 30, 31, 32, 33, 34, 35, 36, 37, 38, 39, 40, 41, 42, 43, 44, 45, 46, 47, 48, 49, 50]  \n"
     ]
    }
   ],
   "source": [
    "# 19 - Create a list of sequence numbers from 1 to 50, name it \"sample_sizes\";\n",
    "# display it to make sure its members are from 1 to 50\n",
    "\n",
    "sample_sizes = []\n",
    "\n",
    "for i in range(1, 51):\n",
    "    sample_sizes.append(i)\n",
    "print(sample_sizes, ' ')"
   ]
  },
  {
   "cell_type": "code",
   "execution_count": 39,
   "metadata": {
    "id": "sBWwbejh6oKR"
   },
   "outputs": [
    {
     "data": {
      "text/plain": [
       "[2644.360785252573,\n",
       " 5659.360785252573,\n",
       " 2168.027451919239,\n",
       " -632.1392147474271,\n",
       " 3598.160785252573,\n",
       " 2322.694118585907,\n",
       " -3936.0677861759978,\n",
       " -7133.389214747427,\n",
       " 5047.916340808129,\n",
       " -1479.3392147474278,\n",
       " 1915.6335125253008,\n",
       " -4352.222548080761,\n",
       " 2700.28386217565,\n",
       " -1095.9963576045702,\n",
       " -2730.0392147474267,\n",
       " -1016.5767147474271,\n",
       " 176.47843231139632,\n",
       " 2358.360785252573,\n",
       " -3735.2707936947954,\n",
       " -2499.639214747427,\n",
       " -315.30588141409316,\n",
       " 2533.360785252573,\n",
       " -2353.943562573513,\n",
       " 8.569118585906836,\n",
       " 1967.6007852525727,\n",
       " 409.5915544833424,\n",
       " -3363.4910665992793,\n",
       " -806.4249290331409,\n",
       " -864.1564561267369,\n",
       " -641.17254808076,\n",
       " -3871.4779244248457,\n",
       " -4001.576714747427,\n",
       " -1935.033154141367,\n",
       " 1645.360785252573,\n",
       " 354.8179281097164,\n",
       " -1279.6114369696497,\n",
       " 279.82024471203295,\n",
       " -3051.6655305369004,\n",
       " -2457.3571634653763,\n",
       " 1262.7607852525725,\n",
       " 533.9217608623294,\n",
       " 843.4560233478114,\n",
       " 237.965436415363,\n",
       " 83.26987616166298,\n",
       " -1748.2836591918713,\n",
       " -535.008779964819,\n",
       " -317.7243211304067,\n",
       " 1050.4441185859068,\n",
       " 1192.0546628035936,\n",
       " -1196.639214747427]"
      ]
     },
     "execution_count": 39,
     "metadata": {},
     "output_type": "execute_result"
    }
   ],
   "source": [
    "# 20 - Create an empty list and name it \"means_diff\" for differences of population mean and sample means;\n",
    "# Loop through the list sample_sizes:\n",
    "# For each element in the sample size list, obtain a random sample of that size from the data frame;\n",
    "# Calculate the sample mean \n",
    "# Calculate the difference between the population mean and the sample mean\n",
    "# Append the difference to the list \"means_diff\"\n",
    "# Display the list \"means_diff\" after the loop is completed\n",
    "\n",
    "means_diff = []\n",
    "        \n",
    "for i in sample_sizes: \n",
    "    df_upd = df_new.sample(i)\n",
    "    sample_mean = df_upd[\"TUITIONFEE_IN\"].mean()\n",
    "    pop_mean = df_new[\"TUITIONFEE_IN\"].mean()\n",
    "    difference = pop_mean - sample_mean\n",
    "    means_diff.append(difference)\n",
    "\n",
    "means_diff\n"
   ]
  },
  {
   "cell_type": "code",
   "execution_count": 40,
   "metadata": {
    "id": "CZxUYK6b6oKU"
   },
   "outputs": [
    {
     "data": {
      "text/plain": [
       "<matplotlib.collections.PathCollection at 0x1f430febe80>"
      ]
     },
     "execution_count": 40,
     "metadata": {},
     "output_type": "execute_result"
    },
    {
     "data": {
      "image/png": "[encoded data removed]",
      "text/plain": [
       "<Figure size 432x288 with 1 Axes>"
      ]
     },
     "metadata": {
      "needs_background": "light"
     },
     "output_type": "display_data"
    }
   ],
   "source": [
    "# 21 - Make a scatter plot with sample size on the x-axs and  mean difference on the y-axis\n",
    "# Observe as the sample size increases, the sample means converge to the population mean.\n",
    "# Make sure you make the plot large enough \n",
    "\n",
    "plt.scatter(sample_sizes, means_diff)"
   ]
  },
  {
   "cell_type": "code",
   "execution_count": 41,
   "metadata": {
    "id": "tD8z_VyB6oKW"
   },
   "outputs": [
    {
     "data": {
      "text/plain": [
       "<matplotlib.collections.PathCollection at 0x1f4310afd90>"
      ]
     },
     "execution_count": 41,
     "metadata": {},
     "output_type": "execute_result"
    },
    {
     "data": {
      "image/png": "[encoded data removed]",
      "text/plain": [
       "<Figure size 432x288 with 1 Axes>"
      ]
     },
     "metadata": {
      "needs_background": "light"
     },
     "output_type": "display_data"
    }
   ],
   "source": [
    "# 22 - repeat 18 to 21 by replacing 50 with a larger number. For example, 300, or even 1000.\n",
    "# and see how the plot looks.\n",
    "sample_sizes_2 = []\n",
    "means_diff_2 = []\n",
    "\n",
    "for i in range(1, 301):\n",
    "    sample_sizes_2.append(i)\n",
    "    \n",
    "for i in sample_sizes_2: \n",
    "    df_upd = df_new.sample(i)\n",
    "    sample_mean = df_upd[\"TUITIONFEE_IN\"].mean()\n",
    "    pop_mean = df_new[\"TUITIONFEE_IN\"].mean()\n",
    "    difference = pop_mean - sample_mean\n",
    "    means_diff_2.append(difference)\n",
    "\n",
    "plt.scatter(sample_sizes_2, means_diff_2)"
   ]
  },
  {
   "cell_type": "code",
   "execution_count": null,
   "metadata": {
    "id": "MjqbewGC6oKZ"
   },
   "outputs": [],
   "source": [
    "# The end - Give yourself a pat on the back!"
   ]
  }
 ],
 "metadata": {
  "colab": {
   "name": "Assignment-08",
   "provenance": [],
   "toc_visible": true
  },
  "kernelspec": {
   "display_name": "Python 3",
   "language": "python",
   "name": "python3"
  },
  "language_info": {
   "codemirror_mode": {
    "name": "ipython",
    "version": 3
   },
   "file_extension": ".py",
   "mimetype": "text/x-python",
   "name": "python",
   "nbconvert_exporter": "python",
   "pygments_lexer": "ipython3",
   "version": "3.8.3"
  }
 },
 "nbformat": 4,
 "nbformat_minor": 1
}
