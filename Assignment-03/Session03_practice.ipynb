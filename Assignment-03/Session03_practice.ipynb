{
  "nbformat": 4,
  "nbformat_minor": 0,
  "metadata": {
    "colab": {
      "name": "Session03_practice.ipynb",
      "provenance": [],
      "authorship_tag": "ABX9TyNlnGDR2Do1epejtAVHpZ9P",
      "include_colab_link": true
    },
    "kernelspec": {
      "name": "python3",
      "display_name": "Python 3"
    }
  },
  "cells": [
    {
      "cell_type": "markdown",
      "metadata": {
        "id": "view-in-github",
        "colab_type": "text"
      },
      "source": [
        "<a href=\"https://colab.research.google.com/github/Debanjan-C/WANG-690-FALL-2020/blob/master/Assignment-03/Session03_practice.ipynb\" target=\"_parent\"><img src=\"https://colab.research.google.com/assets/colab-badge.svg\" alt=\"Open In Colab\"/></a>"
      ]
    },
    {
      "cell_type": "markdown",
      "metadata": {
        "id": "smLzVssva_cT",
        "colab_type": "text"
      },
      "source": [
        "1. To come with a list of people's first name.\n",
        "2. and find out how many people are in a class.\n",
        "\n",
        "Hint:\n",
        "- use split(), specify delimeter to seperate people\n",
        "- use split, specify delimeter to seperate people, specify a different delimeter to seperate first name and last name."
      ]
    },
    {
      "cell_type": "code",
      "metadata": {
        "id": "Wzu9rdRWagVU",
        "colab_type": "code",
        "colab": {
          "base_uri": "https://localhost:8080/",
          "height": 459
        },
        "outputId": "c413e7a5-86a3-4662-eb76-e8f7e2f22c6c"
      },
      "source": [
        "#split used to seperate people\n",
        "people_list = \"Wang, Chaojie; Seelam, Arjun Reddy; Rius, Jonathan; Liang, Jinqing; Chowdhury, Debanjan; Maszkiewicz, Lori; Negussie, Neftalem; Steinruck, Michaella; Phogat, Shreshta; Fatima, Misha; Hirabayashi, Scott; Soroush, Masoud; Bolz, Jessica; Mbu Nyamsi, Tchuissi; Dokuzoglu, Yuksel; Gogineni, Shailesh; Pabbisetty, Sai Vinay; Preis, Liam; Jyesta, Vishnu Priya; Narne, Yoshita; Boban, Shruthi; Oberoi, Ashreen Kaur; Cohens, Nashika; Noppinger, Ken; Kakani, Goutham; Hayo, Alyssa\"\n",
        "\n",
        "people_split = people_list.split(\"; \")\n",
        "\n",
        "for i in people_split:\n",
        "  print(i)"
      ],
      "execution_count": 41,
      "outputs": [
        {
          "output_type": "stream",
          "text": [
            "Wang, Chaojie\n",
            "Seelam, Arjun Reddy\n",
            "Rius, Jonathan\n",
            "Liang, Jinqing\n",
            "Chowdhury, Debanjan\n",
            "Maszkiewicz, Lori\n",
            "Negussie, Neftalem\n",
            "Steinruck, Michaella\n",
            "Phogat, Shreshta\n",
            "Fatima, Misha\n",
            "Hirabayashi, Scott\n",
            "Soroush, Masoud\n",
            "Bolz, Jessica\n",
            "Mbu Nyamsi, Tchuissi\n",
            "Dokuzoglu, Yuksel\n",
            "Gogineni, Shailesh\n",
            "Pabbisetty, Sai Vinay\n",
            "Preis, Liam\n",
            "Jyesta, Vishnu Priya\n",
            "Narne, Yoshita\n",
            "Boban, Shruthi\n",
            "Oberoi, Ashreen Kaur\n",
            "Cohens, Nashika\n",
            "Noppinger, Ken\n",
            "Kakani, Goutham\n",
            "Hayo, Alyssa\n"
          ],
          "name": "stdout"
        }
      ]
    },
    {
      "cell_type": "code",
      "metadata": {
        "id": "BqS_DTcAiMsV",
        "colab_type": "code",
        "colab": {
          "base_uri": "https://localhost:8080/",
          "height": 71
        },
        "outputId": "032a05aa-1724-4bc0-f42a-68740f94bdd8"
      },
      "source": [
        "#specify a different delimeter to seperate first name and last name.\n",
        "first_name_list = []\n",
        "last_name_list = []\n",
        "for i in people_split:\n",
        "  \n",
        "  #first element in the list of 2 elements\n",
        "  first_name_list.append(i.split(\", \")[1])\n",
        "\n",
        "  #second element in the list of 2 elements\n",
        "  last_name_list.append(i.split(\", \")[0])\n",
        "\n",
        "print(\"First Name\", first_name_list)\n",
        "print(\"Last Name\", last_name_list)"
      ],
      "execution_count": 43,
      "outputs": [
        {
          "output_type": "stream",
          "text": [
            "First Name ['Chaojie', 'Arjun Reddy', 'Jonathan', 'Jinqing', 'Debanjan', 'Lori', 'Neftalem', 'Michaella', 'Shreshta', 'Misha', 'Scott', 'Masoud', 'Jessica', 'Tchuissi', 'Yuksel', 'Shailesh', 'Sai Vinay', 'Liam', 'Vishnu Priya', 'Yoshita', 'Shruthi', 'Ashreen Kaur', 'Nashika', 'Ken', 'Goutham', 'Alyssa']\n",
            "Last Name ['Wang', 'Seelam', 'Rius', 'Liang', 'Chowdhury', 'Maszkiewicz', 'Negussie', 'Steinruck', 'Phogat', 'Fatima', 'Hirabayashi', 'Soroush', 'Bolz', 'Mbu Nyamsi', 'Dokuzoglu', 'Gogineni', 'Pabbisetty', 'Preis', 'Jyesta', 'Narne', 'Boban', 'Oberoi', 'Cohens', 'Noppinger', 'Kakani', 'Hayo']\n"
          ],
          "name": "stdout"
        }
      ]
    }
  ]
}