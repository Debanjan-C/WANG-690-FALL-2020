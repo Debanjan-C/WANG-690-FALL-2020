{
  "nbformat": 4,
  "nbformat_minor": 0,
  "metadata": {
    "colab": {
      "name": "Session03_practice.ipynb",
      "provenance": [],
      "authorship_tag": "ABX9TyM1JOzA2VgxTOURedVUrPWr",
      "include_colab_link": true
    },
    "kernelspec": {
      "name": "python3",
      "display_name": "Python 3"
    }
  },
  "cells": [
    {
      "cell_type": "markdown",
      "metadata": {
        "id": "view-in-github",
        "colab_type": "text"
      },
      "source": [
        "<a href=\"https://colab.research.google.com/github/Debanjan-C/WANG-690-FALL-2020/blob/master/Assignment-03/Session03_practice.ipynb\" target=\"_parent\"><img src=\"https://colab.research.google.com/assets/colab-badge.svg\" alt=\"Open In Colab\"/></a>"
      ]
    },
    {
      "cell_type": "markdown",
      "metadata": {
        "id": "smLzVssva_cT",
        "colab_type": "text"
      },
      "source": [
        "1. To come with a list of people's first name.\n",
        "2. and find out how many people are in a class.\n",
        "\n",
        "Hint:\n",
        "- use split(), specify delimeter to seperate people\n",
        "- use split, specify delimeter to seperate people, specify a different delimeter to seperate first name and last name."
      ]
    },
    {
      "cell_type": "code",
      "metadata": {
        "id": "Wzu9rdRWagVU",
        "colab_type": "code",
        "colab": {
          "base_uri": "https://localhost:8080/",
          "height": 88
        },
        "outputId": "6e9861b2-ac1f-460e-c06a-968006c7a30e"
      },
      "source": [
        "people_list = \"Wang, Chaojie; Seelam, Arjun Reddy; Rius, Jonathan; Liang, Jinqing; Chowdhury, Debanjan; Maszkiewicz, Lori; Negussie, Neftalem; Steinruck, Michaella; Phogat, Shreshta; Fatima, Misha; Hirabayashi, Scott; Soroush, Masoud; Bolz, Jessica; Mbu Nyamsi, Tchuissi; Dokuzoglu, Yuksel; Gogineni, Shailesh; Pabbisetty, Sai Vinay; Preis, Liam; Jyesta, Vishnu Priya; Narne, Yoshita; Boban, Shruthi; Oberoi, Ashreen Kaur; Cohens, Nashika; Noppinger, Ken; Kakani, Goutham; Hayo, Alyssa\"\n",
        "\n",
        "people_split = people_list.split(\"; \")\n",
        "\n",
        "print('Spliting each individual: ', people_split, '\\n')\n",
        "\n",
        "list = []\n",
        "for i in people_split:\n",
        "  list.append(i.split(\", \"))\n",
        "\n",
        "print('Spliting by first and last name: ', list)\n"
      ],
      "execution_count": 24,
      "outputs": [
        {
          "output_type": "stream",
          "text": [
            "Spliting each individual:  ['Wang, Chaojie', 'Seelam, Arjun Reddy', 'Rius, Jonathan', 'Liang, Jinqing', 'Chowdhury, Debanjan', 'Maszkiewicz, Lori', 'Negussie, Neftalem', 'Steinruck, Michaella', 'Phogat, Shreshta', 'Fatima, Misha', 'Hirabayashi, Scott', 'Soroush, Masoud', 'Bolz, Jessica', 'Mbu Nyamsi, Tchuissi', 'Dokuzoglu, Yuksel', 'Gogineni, Shailesh', 'Pabbisetty, Sai Vinay', 'Preis, Liam', 'Jyesta, Vishnu Priya', 'Narne, Yoshita', 'Boban, Shruthi', 'Oberoi, Ashreen Kaur', 'Cohens, Nashika', 'Noppinger, Ken', 'Kakani, Goutham', 'Hayo, Alyssa'] \n",
            "\n",
            "Spliting by first and last name:  [['Wang', 'Chaojie'], ['Seelam', 'Arjun Reddy'], ['Rius', 'Jonathan'], ['Liang', 'Jinqing'], ['Chowdhury', 'Debanjan'], ['Maszkiewicz', 'Lori'], ['Negussie', 'Neftalem'], ['Steinruck', 'Michaella'], ['Phogat', 'Shreshta'], ['Fatima', 'Misha'], ['Hirabayashi', 'Scott'], ['Soroush', 'Masoud'], ['Bolz', 'Jessica'], ['Mbu Nyamsi', 'Tchuissi'], ['Dokuzoglu', 'Yuksel'], ['Gogineni', 'Shailesh'], ['Pabbisetty', 'Sai Vinay'], ['Preis', 'Liam'], ['Jyesta', 'Vishnu Priya'], ['Narne', 'Yoshita'], ['Boban', 'Shruthi'], ['Oberoi', 'Ashreen Kaur'], ['Cohens', 'Nashika'], ['Noppinger', 'Ken'], ['Kakani', 'Goutham'], ['Hayo', 'Alyssa']]\n"
          ],
          "name": "stdout"
        }
      ]
    }
  ]
}