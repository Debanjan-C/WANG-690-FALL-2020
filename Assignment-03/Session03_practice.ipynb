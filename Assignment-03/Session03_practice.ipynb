{
  "nbformat": 4,
  "nbformat_minor": 0,
  "metadata": {
    "colab": {
      "name": "Session03_practice.ipynb",
      "provenance": [],
      "authorship_tag": "ABX9TyP9dS9yBIQUCB62oOdy/uoO",
      "include_colab_link": true
    },
    "kernelspec": {
      "name": "python3",
      "display_name": "Python 3"
    }
  },
  "cells": [
    {
      "cell_type": "markdown",
      "metadata": {
        "id": "view-in-github",
        "colab_type": "text"
      },
      "source": [
        "<a href=\"https://colab.research.google.com/github/Debanjan-C/WANG-690-FALL-2020/blob/master/Assignment-03/Session03_practice.ipynb\" target=\"_parent\"><img src=\"https://colab.research.google.com/assets/colab-badge.svg\" alt=\"Open In Colab\"/></a>"
      ]
    },
    {
      "cell_type": "markdown",
      "metadata": {
        "id": "smLzVssva_cT",
        "colab_type": "text"
      },
      "source": [
        "1. To come with a list of people's first name.\n",
        "2. and find out how many people are in a class.\n",
        "\n",
        "Hint:\n",
        "- use split(), specify delimeter to seperate people\n",
        "- use split, specify delimeter to seperate people, specify a different delimeter to seperate first name and last name."
      ]
    },
    {
      "cell_type": "code",
      "metadata": {
        "id": "Wzu9rdRWagVU",
        "colab_type": "code",
        "colab": {
          "base_uri": "https://localhost:8080/",
          "height": 71
        },
        "outputId": "a0ffbc10-6b50-4329-c9a2-27608f6590e6"
      },
      "source": [
        "people_list = \"Wang, Chaojie; Seelam, Arjun Reddy; Rius, Jonathan; Liang, Jinqing; Chowdhury, Debanjan; Maszkiewicz, Lori; Negussie, Neftalem; Steinruck, Michaella; Phogat, Shreshta; Fatima, Misha; Hirabayashi, Scott; Soroush, Masoud; Bolz, Jessica; Mbu Nyamsi, Tchuissi; Dokuzoglu, Yuksel; Gogineni, Shailesh; Pabbisetty, Sai Vinay; Preis, Liam; Jyesta, Vishnu Priya; Narne, Yoshita; Boban, Shruthi; Oberoi, Ashreen Kaur; Cohens, Nashika; Noppinger, Ken; Kakani, Goutham; Hayo, Alyssa\"\n",
        "\n",
        "people_split = people_list.split(\"; \")\n",
        "\n",
        "print(people_split)\n",
        "\n",
        "name_split = people_list.split(\", \")\n",
        "\n",
        "print(name_split)"
      ],
      "execution_count": 11,
      "outputs": [
        {
          "output_type": "stream",
          "text": [
            "['Wang, Chaojie', 'Seelam, Arjun Reddy', 'Rius, Jonathan', 'Liang, Jinqing', 'Chowdhury, Debanjan', 'Maszkiewicz, Lori', 'Negussie, Neftalem', 'Steinruck, Michaella', 'Phogat, Shreshta', 'Fatima, Misha', 'Hirabayashi, Scott', 'Soroush, Masoud', 'Bolz, Jessica', 'Mbu Nyamsi, Tchuissi', 'Dokuzoglu, Yuksel', 'Gogineni, Shailesh', 'Pabbisetty, Sai Vinay', 'Preis, Liam', 'Jyesta, Vishnu Priya', 'Narne, Yoshita', 'Boban, Shruthi', 'Oberoi, Ashreen Kaur', 'Cohens, Nashika', 'Noppinger, Ken', 'Kakani, Goutham', 'Hayo, Alyssa']\n",
            "['Wang', 'Chaojie; Seelam', 'Arjun Reddy; Rius', 'Jonathan; Liang', 'Jinqing; Chowdhury', 'Debanjan; Maszkiewicz', 'Lori; Negussie', 'Neftalem; Steinruck', 'Michaella; Phogat', 'Shreshta; Fatima', 'Misha; Hirabayashi', 'Scott; Soroush', 'Masoud; Bolz', 'Jessica; Mbu Nyamsi', 'Tchuissi; Dokuzoglu', 'Yuksel; Gogineni', 'Shailesh; Pabbisetty', 'Sai Vinay; Preis', 'Liam; Jyesta', 'Vishnu Priya; Narne', 'Yoshita; Boban', 'Shruthi; Oberoi', 'Ashreen Kaur; Cohens', 'Nashika; Noppinger', 'Ken; Kakani', 'Goutham; Hayo', 'Alyssa']\n"
          ],
          "name": "stdout"
        }
      ]
    },
    {
      "cell_type": "code",
      "metadata": {
        "id": "5qSq9FXXbRyf",
        "colab_type": "code",
        "colab": {
          "base_uri": "https://localhost:8080/",
          "height": 34
        },
        "outputId": "0950fd1f-9792-4d1b-9ad1-256832765aa8"
      },
      "source": [
        "txt = \"welcome to the jungle\"\n",
        "\n",
        "x = txt.split()\n",
        "\n",
        "print(x)\n"
      ],
      "execution_count": 2,
      "outputs": [
        {
          "output_type": "stream",
          "text": [
            "['welcome', 'to', 'the', 'jungle']\n"
          ],
          "name": "stdout"
        }
      ]
    }
  ]
}