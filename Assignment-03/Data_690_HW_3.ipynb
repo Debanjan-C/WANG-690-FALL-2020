{
  "nbformat": 4,
  "nbformat_minor": 0,
  "metadata": {
    "colab": {
      "name": "Data_690_HW_3",
      "provenance": [],
      "collapsed_sections": [],
      "authorship_tag": "ABX9TyN7q9uQbDEi+eoS/qj3YCFt",
      "include_colab_link": true
    },
    "kernelspec": {
      "name": "python3",
      "display_name": "Python 3"
    }
  },
  "cells": [
    {
      "cell_type": "markdown",
      "metadata": {
        "id": "view-in-github",
        "colab_type": "text"
      },
      "source": [
        "<a href=\"https://colab.research.google.com/github/Debanjan-C/WANG-690-FALL-2020/blob/master/Assignment-03/Data_690_HW_3.ipynb\" target=\"_parent\"><img src=\"https://colab.research.google.com/assets/colab-badge.svg\" alt=\"Open In Colab\"/></a>"
      ]
    },
    {
      "cell_type": "markdown",
      "metadata": {
        "id": "IpVwxVzoIGko",
        "colab_type": "text"
      },
      "source": [
        "# Data 690 - Assignment 3\n",
        "Debanjan Chowdhury\n",
        "\n",
        "**Objective** - This assignment will generate 100 random integers and then place that in a 10x10 matrix. \n",
        "- Following that step:\n",
        "  - we will doing different types of operations like replacing the odd number in he matrix with @, \n",
        "  - printing the the sum of the matrix for each row after an aterisk. \n",
        "  - Surrounding the matrix with asterisks and printing the um of the rows and columns after adding asterisks."
      ]
    },
    {
      "cell_type": "markdown",
      "metadata": {
        "id": "HxAzgVWPLwv1",
        "colab_type": "text"
      },
      "source": [
        "## Question 1 - 10 x 10 matrix\n",
        "- This is the part where we set a nested for loop 10 times each and randomly generate a value, 10 x 10 or 100 times.\n",
        "  - The first for loop is used for the *rows* and second for loop is used for *columns*. \n",
        "  - Within the nested for loop, we use the **random library** to generate a number from 0 to 9.\n",
        "  - Following that, I set the *if* statement so that the 10th number would be printed and then it would move to the next line. In the *else* statement the next number would be printed after a space.\n"
      ]
    },
    {
      "cell_type": "code",
      "metadata": {
        "id": "L3UplzLCaMfI",
        "colab_type": "code",
        "colab": {}
      },
      "source": [
        "#importing random method from python will be used for all problems in this assignemnt.\n",
        "import random"
      ],
      "execution_count": null,
      "outputs": []
    },
    {
      "cell_type": "code",
      "metadata": {
        "id": "J_cWVcbItfJj",
        "colab_type": "code",
        "colab": {
          "base_uri": "https://localhost:8080/",
          "height": 185
        },
        "outputId": "6bbd6219-aade-4ab9-946e-4cf82ed6dfb0"
      },
      "source": [
        "#1. Print them in a 10 by 10 matrix neatly arranged like the following (one space between each number):\n",
        "\"\"\"\n",
        "Nested for loop is used to create the 10 x 10 matrix and generate 10x10=100 random numbers.\n",
        "If j would be equal to 10 then we would pritn the number normally and it would go to the next line. \n",
        "We would not use the end statement to tell it to end it with a space. This will ensure it goes to\n",
        "next line after the 10th number for each row and not all of them. All other numbers have a space\n",
        "after end indicating that it would create a space between 2 numbers.\n",
        "\"\"\"\n",
        "for i in range(1, 11):\n",
        "  for j in range(1,11):\n",
        "    num = random.randint(0, 9)\n",
        "    if (j == 10):\n",
        "      print(num)\n",
        "    else:\n",
        "      print(num, end=\" \")"
      ],
      "execution_count": 134,
      "outputs": [
        {
          "output_type": "stream",
          "text": [
            "9 1 1 9 2 6 4 4 9 5\n",
            "2 2 0 1 0 6 9 3 8 2\n",
            "4 1 1 0 4 2 1 0 9 7\n",
            "2 2 4 2 2 5 0 2 6 4\n",
            "9 2 4 1 6 0 4 0 3 8\n",
            "0 6 4 0 0 3 6 2 6 5\n",
            "6 9 9 1 9 8 8 4 4 0\n",
            "0 8 4 2 2 1 5 3 1 9\n",
            "3 1 7 9 8 3 3 5 0 0\n",
            "9 7 7 5 1 8 4 9 5 5\n"
          ],
          "name": "stdout"
        }
      ]
    },
    {
      "cell_type": "markdown",
      "metadata": {
        "id": "MB9mAr-GN3Ac",
        "colab_type": "text"
      },
      "source": [
        "## Question 2 - Replace odd numbers with @\n",
        "- In this example, we use the same steps to develop the 10x10 matrix like we did in question #1. \n",
        "  - However, we also check for odd numbers by verifying that the remainder would be 1 when we divide it by 2. When we find an odd number, we replace that with an * or **(asterisk)**"
      ]
    },
    {
      "cell_type": "code",
      "metadata": {
        "id": "-o1n1IlcuChX",
        "colab_type": "code",
        "colab": {
          "base_uri": "https://localhost:8080/",
          "height": 185
        },
        "outputId": "b77bf94c-1fab-4f1d-e89a-32cdef942c56"
      },
      "source": [
        "#2. If the random number is an odd number, print \"@\" instead. like the following:\n",
        "\"\"\"\n",
        "Nested for loop is used to create the 10 x 10 matrix and generate 10x10=100 random numbers\n",
        "just like in the first question. For this question, we take each number and check if it \n",
        "is an odd number and if it is then we replace the number with an asterisk. \n",
        "\"\"\"\n",
        "for i in range(1, 11):\n",
        "  for j in range(1,11):\n",
        "    num = random.randint(0, 9)\n",
        "    if (num % 2 == 1):\n",
        "      num = \"@\"\n",
        "    if (j == 10):\n",
        "      print(num)\n",
        "    else:\n",
        "      print(num, end=\" \")"
      ],
      "execution_count": 133,
      "outputs": [
        {
          "output_type": "stream",
          "text": [
            "@ 8 0 @ @ 8 0 8 4 2\n",
            "@ @ 0 4 4 @ 4 @ @ @\n",
            "6 @ 2 2 @ 6 0 8 @ 2\n",
            "@ 6 2 @ 6 2 2 @ 8 @\n",
            "2 @ @ @ @ 8 @ 0 @ @\n",
            "@ @ @ @ 2 2 2 4 @ 8\n",
            "@ 0 @ @ @ 4 0 @ 8 @\n",
            "6 @ @ @ 0 2 @ @ @ @\n",
            "6 4 8 8 @ 2 6 0 @ @\n",
            "@ 2 @ 4 0 4 8 @ 0 @\n"
          ],
          "name": "stdout"
        }
      ]
    },
    {
      "cell_type": "markdown",
      "metadata": {
        "id": "1T43ylE-PVc9",
        "colab_type": "text"
      },
      "source": [
        "## Question 3 - Finding the sum of the rows. \n",
        "- We will be calculating the sum of each of the rows and placing them after we add an *asterisk* or **(*)**.\n",
        "- We use a *sum variable* to add each of the randomly generated numbers for each of the 10 rows. \n",
        "  - That is why, we set a **j=10** condition to ensure that the matrix goes to tthe next line after the 10th number and then we set *sum = 0* so that we can get the sum for the next ten in the next row. \n",
        "  - Otherwise, it would add the next rows number with this rows. "
      ]
    },
    {
      "cell_type": "code",
      "metadata": {
        "id": "0ccDyhy7uZWL",
        "colab_type": "code",
        "colab": {
          "base_uri": "https://localhost:8080/",
          "height": 185
        },
        "outputId": "3b563aa6-ec9d-40d1-e421-4f5813c50ebb"
      },
      "source": [
        "#3. Calculate and Print the total of each row like the following (use \"*\" to separate the total from the numbers):\n",
        "\"\"\"\n",
        "Nested for loop is used to create the 10 x 10 matrix and generate 10x10=100 random numbers\n",
        "just like in the first question. In this question, we will be taking a sum for each of the rows,\n",
        "so we add each of the numbers and whnever the j value would equal to 10 then we \n",
        "would print the numbers, followed by the matrix and the sum. After that step is over,\n",
        "we reset the sum to 0, so it would add up the values int he next row and store that\n",
        "respective value. Otherwise, it would show the sum of that row and the previous row/s.\n",
        "\"\"\"\n",
        "sum = 0\n",
        "for i in range(1, 11):\n",
        "  for j in range(1,11):\n",
        "    num = random.randint(0, 9)\n",
        "    sum = sum + num\n",
        "    if (j == 10):\n",
        "      print(num, \"*\", sum)\n",
        "      sum = 0\n",
        "    else:\n",
        "      print(num, end=\" \")"
      ],
      "execution_count": 132,
      "outputs": [
        {
          "output_type": "stream",
          "text": [
            "0 1 7 0 4 0 6 9 8 7 * 42\n",
            "5 3 6 3 2 7 1 9 4 4 * 44\n",
            "9 9 1 7 1 5 9 4 6 8 * 59\n",
            "9 6 3 2 2 9 2 5 8 4 * 50\n",
            "8 5 7 2 1 0 3 4 8 7 * 45\n",
            "3 9 4 0 9 9 7 4 6 3 * 54\n",
            "1 3 6 3 2 6 5 9 5 2 * 42\n",
            "8 0 2 6 1 3 9 2 0 8 * 39\n",
            "2 6 3 4 3 6 2 1 2 4 * 33\n",
            "8 4 4 4 8 6 9 3 0 5 * 51\n"
          ],
          "name": "stdout"
        }
      ]
    },
    {
      "cell_type": "markdown",
      "metadata": {
        "id": "fzjbwGtnUJuH",
        "colab_type": "text"
      },
      "source": [
        "## Optional Question 4 - Surrounding the matrix with **(*)**.\n",
        "- In this question, we will be using the same steps to develop a 10x10 matrix like *question #1*. \n",
        "  - Following that step, I will be adding an *asterisk* on **both sides(left and right)** of the matrix. \n",
        "  - In order to add a matrix on the left, I have used *j = 1* condition to ensure that the asterisks are added on the left of the matrix and *j = 10* to ensure that the asterisks are added on the right. \n",
        "  - *I have not been able to figure out how to add asterisks on the top and bottom as off now. Therefore, I will be working on that part.*\n",
        "    - I have added a for loop to iterate 12 times in the first for loop and not 10, as we would have two extra rows on the first and last row. I am working on figuring out how to replace those numbers with asterisks for the entire row."
      ]
    },
    {
      "cell_type": "code",
      "metadata": {
        "id": "XoVvifSuwKqi",
        "colab_type": "code",
        "colab": {
          "base_uri": "https://localhost:8080/",
          "height": 218
        },
        "outputId": "95cafa60-262e-485c-f081-3f0b4c084818"
      },
      "source": [
        "# 4. Optional: Surround the matrix with asterisks (*) like the following:\n",
        "\"\"\"\n",
        "Nested for loop is used to create the 10 x 10 matrix and generate 10x10=100 random numbers\n",
        "just like in the first question. I checked if j would equal to 1 and would added an \n",
        "asterisk before printing the numbers in the left. Following that, when j would equal 10\n",
        "then I would print an asterisk after printing the 10th number for each of the rows.\n",
        "I tried to set the i as 1 or 12 to check if we could add an asterisks fo those \n",
        "and I also increased the first for loop to enter 12 numbers instead of 10 as \n",
        "we needed a line on the top and bottom of matrix. However, it did not turn out properly.\n",
        "Therefore, I have commented it out. Will be figuring this out. \n",
        "\"\"\"\n",
        "for i in range(1, 13):\n",
        "  for j in range(1,11):\n",
        "    num = random.randint(0, 9)\n",
        "    \"\"\"\n",
        "    if (i == 1 or i == 12):\n",
        "      print(\"*\")\n",
        "    \"\"\"\n",
        "    if (j == 1):\n",
        "      print(\"*\", end=\" \")\n",
        "    if (j == 10):\n",
        "      print(num, \"*\")\n",
        "    else:\n",
        "      print(num, end=\" \")"
      ],
      "execution_count": 158,
      "outputs": [
        {
          "output_type": "stream",
          "text": [
            "* 2 8 3 9 8 9 8 7 1 6 *\n",
            "* 5 3 3 6 6 1 5 4 1 4 *\n",
            "* 7 1 4 4 7 9 6 1 8 7 *\n",
            "* 3 4 3 9 0 6 4 7 9 3 *\n",
            "* 7 1 7 1 7 7 0 1 9 4 *\n",
            "* 3 6 8 9 3 1 9 7 2 6 *\n",
            "* 3 2 1 6 4 8 1 5 4 2 *\n",
            "* 1 8 2 5 9 1 3 6 2 1 *\n",
            "* 3 7 5 6 4 6 2 2 6 4 *\n",
            "* 5 6 3 1 6 7 2 1 4 5 *\n",
            "* 7 1 8 5 0 2 8 8 6 8 *\n",
            "* 9 7 7 5 4 6 5 2 7 4 *\n"
          ],
          "name": "stdout"
        }
      ]
    },
    {
      "cell_type": "markdown",
      "metadata": {
        "id": "ECuY_nREX8tY",
        "colab_type": "text"
      },
      "source": [
        "## Optional Question 5 - Find the sum of each row and column and seperate it with an asterisk.\n",
        "- We use the same method like step one to find out the matrix and same method in *step 3* to find out the sum of each of the rows. \n",
        "- However in *step 4*, I had trouble finding out how to get asterisks in the top and bottom of the matrix and I also was having trouble understanding how to find sum of each column. I will be looking into that part next. "
      ]
    },
    {
      "cell_type": "code",
      "metadata": {
        "id": "Gb0M08UdhXzT",
        "colab_type": "code",
        "colab": {
          "base_uri": "https://localhost:8080/",
          "height": 185
        },
        "outputId": "8e46b2dd-9050-4d57-ee84-52b60800bba2"
      },
      "source": [
        "#5. Optional (challenging): Calculate and Print the total of each row and column like the following:\n",
        "\"\"\"\n",
        "Nested for loop is used to create the 10 x 10 matrix and generate 10x10=100 random numbers\n",
        "just like in the first question and we also used the same steps as number 3 to get the \n",
        "sum of each of the rows followed by asterisks. The next stpes that I was trying to figure out\n",
        "was how to add find the sum of each column and print it after an asterisk. I will be working on that. \n",
        "\"\"\"\n",
        "sum = 0\n",
        "for i in range(1, 11):\n",
        "  for j in range(1,11):\n",
        "    num = random.randint(0, 9)\n",
        "    sum = sum + num\n",
        "    if (j % 10 == 0):\n",
        "      print(num, \"*\", sum)\n",
        "      sum = 0\n",
        "    else:\n",
        "      print(num, end=\" \")"
      ],
      "execution_count": null,
      "outputs": [
        {
          "output_type": "stream",
          "text": [
            "0 7 0 5 5 1 8 6 5 3 * 40\n",
            "5 9 4 5 5 9 4 8 4 5 * 58\n",
            "7 1 6 8 3 6 2 9 7 9 * 58\n",
            "5 3 3 8 6 4 9 6 3 4 * 51\n",
            "1 0 2 2 5 1 0 1 7 4 * 23\n",
            "4 0 3 4 9 0 6 6 2 2 * 36\n",
            "8 1 8 0 9 5 3 8 2 3 * 47\n",
            "3 1 8 7 3 1 8 3 9 0 * 43\n",
            "6 2 2 1 4 6 9 3 3 9 * 45\n",
            "5 4 7 7 7 1 0 2 4 0 * 37\n"
          ],
          "name": "stdout"
        }
      ]
    }
  ]
}