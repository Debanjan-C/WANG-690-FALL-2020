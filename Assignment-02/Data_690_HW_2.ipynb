{
  "nbformat": 4,
  "nbformat_minor": 0,
  "metadata": {
    "colab": {
      "name": "Data_690_HW_2.ipynb",
      "provenance": [],
      "collapsed_sections": [],
      "authorship_tag": "ABX9TyPEo1tBQdjqJmb3HqCXVo1t",
      "include_colab_link": true
    },
    "kernelspec": {
      "name": "python3",
      "display_name": "Python 3"
    }
  },
  "cells": [
    {
      "cell_type": "markdown",
      "metadata": {
        "id": "view-in-github",
        "colab_type": "text"
      },
      "source": [
        "<a href=\"https://colab.research.google.com/github/Debanjan-C/WANG-690-FALL-2020/blob/master/Assignment-02/Data_690_HW_2.ipynb\" target=\"_parent\"><img src=\"https://colab.research.google.com/assets/colab-badge.svg\" alt=\"Open In Colab\"/></a>"
      ]
    },
    {
      "cell_type": "markdown",
      "metadata": {
        "id": "fv6uS5nHind_",
        "colab_type": "text"
      },
      "source": [
        "# Data 690 - Assignment 2\n",
        "Debanjan Chowdhury\n",
        "\n",
        "**Objective** - This assignment allows the user to enter 10 integers of their choices. If they enter a data that is not an integer then they will get an error message that ehy must enter an integer and will be given another option till they enter an integer. \n",
        "Following that step where the user enters 10 digits in a list, the user will get the maximum value entered, minimum value, range, mean, standard deviation and variance."
      ]
    },
    {
      "cell_type": "markdown",
      "metadata": {
        "id": "Hwi-YuXsmsLd",
        "colab_type": "text"
      },
      "source": [
        "## Part 1 - User Inputs data\n",
        "This is the part where we look use a list known as the inputList to store the data that the user entered. \n",
        "- The while loop will be used to check of the user has entered *10* values. \n",
        "  - A try except statement is used to check if the user has entered an integer or not. If it entered an integer then it will be *added to the list* and if it did not then it will provide an *error message* and prompt the user to enter an integer value again. \n",
        "    - **It will continue prompting the user until it has entered 10 integer values.**\n"
      ]
    },
    {
      "cell_type": "code",
      "metadata": {
        "id": "w4QKNCNLDpvL",
        "colab_type": "code",
        "colab": {
          "base_uri": "https://localhost:8080/",
          "height": 272
        },
        "outputId": "b1b7141e-5f66-442c-b9a6-2879bc2a46cf"
      },
      "source": [
        "#This list will store the users entered data\n",
        "inputList = []\n",
        "\n",
        "\"\"\"\n",
        "The while loop will be checking if the user has 10 integers and if an user does not enter an integer \n",
        "then it would show an error that you must enter an integer. Entering non -integers do not count in \n",
        "and therefore it will continue prompting you until you have entered 10 integers. \n",
        "\"\"\"\n",
        "while len(inputList) < 10:\n",
        "    userInput = input(f\"Please enter an integer - ({len(inputList)+1} out of 10):\")\n",
        "\n",
        "    \"\"\"\n",
        "    try case will be checking if the user has entered an input and store it in the input list\n",
        "    if the user entered value is an input. If the user has entered something other than an integer \n",
        "    then the expect condition will take into effect and show an error message. \n",
        "    \"\"\"\n",
        "    try:\n",
        "      userInput = int(userInput)\n",
        "      inputList.append(userInput)\n",
        "  \n",
        "    except:\n",
        "      print(\"Enter an integer please. Examples are: 1, 2, 3..\")\n",
        "\n",
        "# prints the user entered numbers into this list. \n",
        "print(\"You list of numbers are:\", inputList)"
      ],
      "execution_count": 19,
      "outputs": [
        {
          "output_type": "stream",
          "text": [
            "Please enter an integer - (1 out of 10):we\n",
            "Enter an integer please. Examples are: 1, 2, 3..\n",
            "Please enter an integer - (1 out of 10):re\n",
            "Enter an integer please. Examples are: 1, 2, 3..\n",
            "Please enter an integer - (1 out of 10):1\n",
            "Please enter an integer - (2 out of 10):4\n",
            "Please enter an integer - (3 out of 10):3\n",
            "Please enter an integer - (4 out of 10):2\n",
            "Please enter an integer - (5 out of 10):6\n",
            "Please enter an integer - (6 out of 10):5\n",
            "Please enter an integer - (7 out of 10):7\n",
            "Please enter an integer - (8 out of 10):8\n",
            "Please enter an integer - (9 out of 10):9\n",
            "Please enter an integer - (10 out of 10):10\n",
            "You list of numbers are: [1, 4, 3, 2, 6, 5, 7, 8, 9, 10]\n"
          ],
          "name": "stdout"
        }
      ]
    },
    {
      "cell_type": "markdown",
      "metadata": {
        "id": "Q3vBgQ5drmCl",
        "colab_type": "text"
      },
      "source": [
        "## Part 2 - Finding maximum number in the list\n",
        "**Method Name** - maxNumber\n",
        "- This method will create a maximum variable and use it to test the order of all other numbers.\n",
        "- The for loop will *iterate* through the list and check if an element in the list is larger than the max variable and accordingly it would set that *specific value in the max variable*. \n",
        "  - Therefore, it would end up selecting the *largest number* in the list. "
      ]
    },
    {
      "cell_type": "code",
      "metadata": {
        "id": "OsUNj1wzCXn6",
        "colab_type": "code",
        "colab": {}
      },
      "source": [
        "\"\"\"\n",
        "This method will take the user entered list in the parameter and \n",
        "try to find the largest number in the list. \n",
        "\"\"\"\n",
        "def maxNumber(numList): \n",
        "  \n",
        "  #This variable will be used to test and find the largest number.\n",
        "  max = 0\n",
        "\n",
        "  #The for loop will check each element int he list and if it is\n",
        "  #larger than the value in the max value then it would store that\n",
        "  #value in the max variable.\n",
        "  for i in numList:\n",
        "      if i > max: \n",
        "        max = i\n",
        "\n",
        "  #prints out the maximum value.\n",
        "  print(\"The maximum number that you entered was:\", max)\n"
      ],
      "execution_count": 20,
      "outputs": []
    },
    {
      "cell_type": "markdown",
      "metadata": {
        "id": "rjymn9WbtjKC",
        "colab_type": "text"
      },
      "source": [
        "## Part 3 - Finding minimum number in the list\n",
        "**Method Name** - minNumber\n",
        "- This method will create a min variable and use it to test the order of all other numbers.\n",
        "  - The min value would store the last element in the NumList(list). \n",
        "- The for loop will *iterate* through the list and check if a list value is less than the value stored in min variable and accordingly it would set that *specific value in the min variable*. \n",
        "  - Therefore, it would end up selecting the *smallest number* in the list. "
      ]
    },
    {
      "cell_type": "code",
      "metadata": {
        "id": "eSKgK6zVCcCH",
        "colab_type": "code",
        "colab": {}
      },
      "source": [
        "\"\"\"\n",
        "This method will take the user entered list in the parameter and \n",
        "try to find the smallest number in the list.\n",
        "\"\"\"\n",
        "def minNumber(numList): \n",
        "  \"\"\"\n",
        "  This variable will be used to test and find the smallest number. \n",
        "  It will initially take the lest element in the number list.\n",
        "  \"\"\"\n",
        "  min = numList[len(numList)-1]\n",
        "  \"\"\"\n",
        "  We use the for loop to take each data from the last element to the first\n",
        "  and then we compare it with the min value. If the element is less than \n",
        "  the min value then that elements value will replace the min value.\n",
        "  \"\"\"\n",
        "  for i in inputList[::-1]:\n",
        "      if i < min: \n",
        "        min = i\n",
        "\n",
        "  #prints the minimum value\n",
        "  print(\"The minimum number that you entered was:\", min)"
      ],
      "execution_count": 21,
      "outputs": []
    },
    {
      "cell_type": "markdown",
      "metadata": {
        "id": "AsNlhH_juDe6",
        "colab_type": "text"
      },
      "source": [
        "## Part 4 - Finding the smallest number in the user entered list\n",
        "**Method Name** - rangeList\n",
        "- This method will create a min variable and use it to test the order of all other numbers.\n",
        "  - The min value would store the last element in the NumList(list). \n",
        "- The for loop will *iterate* through the list and check if a list value is less than the value stored in min variable and accordingly it would set that *specific value in the min variable*. \n",
        "  - Therefore, it would end up selecting the *smallest number* in the list. "
      ]
    },
    {
      "cell_type": "code",
      "metadata": {
        "id": "GOOaU9xMCdps",
        "colab_type": "code",
        "colab": {}
      },
      "source": [
        "\"\"\"\n",
        "This method will take the largest number in the list and \n",
        "then it will subtract it by the smallest number to get the\n",
        "range value.\n",
        "\"\"\"\n",
        "def rangeList(numList):\n",
        "  #We take the range and max as a test value and set it to 0.\n",
        "  range = 0\n",
        "  max = 0\n",
        "  # The min value is stored as the last element in numList for testing purposes.\n",
        "  min = numList[len(numList)-1]\n",
        "  \"\"\"\n",
        "  We compare each element in for loop with max value to see which one is higher\n",
        "  and if a specific element is higher then we set that to the max value.\n",
        "  \"\"\"\n",
        "  for i in numList:\n",
        "      if i > max: \n",
        "        max = i\n",
        "  \"\"\"\n",
        "  We compare each element in for loop with min value to see which one is lower\n",
        "  and if a specific element is less then we set that to the min value.\n",
        "  \"\"\"\n",
        "  for j in inputList[::-1]:\n",
        "      if j < min: \n",
        "        min = j\n",
        "\n",
        "  #The range is calculated as the max value minus the min value.\n",
        "  range = max - min\n",
        "\n",
        "  #We output the range.\n",
        "  print(\"The range of the data you entered is:\", range)"
      ],
      "execution_count": 22,
      "outputs": []
    },
    {
      "cell_type": "markdown",
      "metadata": {
        "id": "Ke8QrButuqQt",
        "colab_type": "text"
      },
      "source": [
        "## Part 5 - Finding the mean of the numbers entered in the user entered list\n",
        "**Method Name** - meanList\n",
        "- This method will add each of the elements in user entered list and divide it by the count of the numbers. \n",
        "  - For example, if the total number was 100 and only 5 numbers were entered in the list then the mean would be 100/5 which would be 20. ***Mean*** also means the average."
      ]
    },
    {
      "cell_type": "code",
      "metadata": {
        "id": "37w_GQEzCfcm",
        "colab_type": "code",
        "colab": {}
      },
      "source": [
        "\"\"\"\n",
        "This method will take the sum of all elements in the\n",
        "list and divide it by the count of the elements numbers in the \n",
        "list in order to get the mean or the average. \n",
        "\"\"\"\n",
        "def meanList(numList):\n",
        "  #variable used as a sum variable which we will use to store the sum of each element.\n",
        "  total = 0\n",
        "  #We take each element in the user entered list and add it up to find the sum of all elements.\n",
        "  for i in numList:\n",
        "    total += i\n",
        "\n",
        "  #We divide the total sum by the length or count of the the user entered list to get the mean.\n",
        "  mean = total/len(numList)\n",
        "\n",
        "  #We output the result of the mean or the average.\n",
        "  print(\"The mean of the data you entered is:\", mean)"
      ],
      "execution_count": 23,
      "outputs": []
    },
    {
      "cell_type": "markdown",
      "metadata": {
        "id": "120CB6E4BfDZ",
        "colab_type": "text"
      },
      "source": [
        "## Part 6 - Finding the standard deviation of the numbers entered in the user entered list\n",
        "**Method Name** - numStdDeviation\n",
        "- This method will retrieve the standard devation of all items in the user entered list.\n",
        "- **Formula** - Square root of(sum of (each elment in list - mean of list)^2 / count or length of the list)\n",
        "  - *Steps to retrieve the standard deviation.*\n",
        "  - *Step 1*: Add all elements in the list.\n",
        "  - *Step 2*: Divide that sum by the count of how many elements are in the list.\n",
        "  - *Step 3*: Subtract the mean from each of the elements in the list fint he square of each of the elements. Then add up all of them to find sum - *sumstddev* variable in my code below.\n",
        "  - *Step 4*: Divide the length or count of the list subracted by one by the sum from step 3 or *sumstddev* and find the square root of that to retrieve the *standard deviation*."
      ]
    },
    {
      "cell_type": "code",
      "metadata": {
        "id": "R7lU3FgcChhY",
        "colab_type": "code",
        "colab": {}
      },
      "source": [
        "\"\"\"\n",
        "This method is used to retrieve the standard devation of all items in the user entered list.\n",
        "The formula for the standard deviation is : Square root of(sum of (each elment in list - mean of list)^2 / count or length of the list)\n",
        "\"\"\"\n",
        "def numStdDeviation(numList):\n",
        "  total = 0\n",
        "  sumstddev = 0\n",
        "  stddev = 0\n",
        "  #for loop used to find the sum to retrieve the mean.\n",
        "  for i in numList:\n",
        "      total += i\n",
        "\n",
        "  #the length of the user entered list would be divided by sum to retrieve the mean\n",
        "  mean = total/len(numList)\n",
        "\n",
        "  #this foor loop is used to find the sum of (each element in the list and subtract it by the mean)^2\n",
        "  for i in numList:\n",
        "      sumstddev += (i - mean)**2\n",
        "\n",
        "  \"\"\"\n",
        "  The standard deviation is retrieved by dividing the sumstnddevaition retrieved from last \n",
        "  for loop by the count of numList and finding the square root of that value. \n",
        "  \"\"\"\n",
        "  stddev = (sumstddev/(len(numList) - 1))**(1/2)\n",
        "\n",
        "  #prints the standard devaiation value\n",
        "  print(\"The standard deviation of the data you entered is:\", round(stddev, 2))"
      ],
      "execution_count": 24,
      "outputs": []
    },
    {
      "cell_type": "markdown",
      "metadata": {
        "id": "KLtDpihpAqMt",
        "colab_type": "text"
      },
      "source": [
        "## Part 6 - Finding the variance of the numbers entered in the user entered list.\n",
        "**Method Name** - numVariance\n",
        "- This method will retrieve the variance of all items in the user entered list.\n",
        "  The variance is retrived by getting the square of the standard deviation or the standard deviation to the power of 2.\n",
        "- **Formula** - Square root of(sum of (each elment in list - mean of list)^2 / count or length of the list)\n",
        "  - *Steps to retrieve the standard deviation.*\n",
        "  - *Step 1*: Add all elements in the list.\n",
        "  - *Step 2*: Divide that sum by the count of how many elements are in the list.\n",
        "  - *Step 3*: Subtract the mean from each of the elements in the list fint he square of each of the elements. Then add up all of them to find sum - *sumstddev* variable in my code below.\n",
        "  - *Step 4*: Divide the length or count of the list subracted by one by the sum from step 3 or *sumstddev* and find the square root of that to retrieve the *standard deviation*.\n",
        "  - *Step 5*: This is the only *additional* step to find **Variance**. We have to find the square of the *standard devaition* or set that to the power of 2."
      ]
    },
    {
      "cell_type": "code",
      "metadata": {
        "id": "vrAqSKMlCjY0",
        "colab_type": "code",
        "colab": {}
      },
      "source": [
        "\"\"\"\n",
        "This method is used to retrieve the variance of all items in the user entered list. The formula for the variance is :\n",
        "The square of the standard deviation. We use the same steps we used to retrieve the standard deviation in the previous \n",
        "numStdDeviation method and we retrieve the square of that. \n",
        "\"\"\"\n",
        "def numVariance(numList):\n",
        "\n",
        "  total = 0\n",
        "  sumstddev = 0\n",
        "  stddev = 0 \n",
        "  variance = 0\n",
        "    \n",
        "  #for loop used to find the sum to retrieve the mean.\n",
        "  for i in numList:\n",
        "      total += i\n",
        "\n",
        "  #the mean is the retrieved sum of the elements in the list divided by the length or count of the elements in the list.\n",
        "  mean = total/len(numList)\n",
        "\n",
        "  #this foor loop is used to find the sum of (each element in the list and subtract it by the mean)^2\n",
        "  for i in numList:\n",
        "      sumstddev += (i - mean)**2\n",
        "\n",
        "  \"\"\"\n",
        "  The standard deviation is retrieved by dividing the sumstnddevaition retrieved from last \n",
        "  for loop by the count of numList and finding the square root of that value. \n",
        "  \"\"\" \n",
        "  stddev = (sumstddev/(len(numList) - 1))**(1/2)\n",
        "\n",
        "  #The variance will be retrieved by calculating the square of the standard deviation or to the power of 2.\n",
        "  variance = stddev**2\n",
        "\n",
        "  #We print the variance and round it to the closes two decimal places.\n",
        "  print(\"The variance of the data you entered is:\", round(variance, 2))"
      ],
      "execution_count": 25,
      "outputs": []
    },
    {
      "cell_type": "markdown",
      "metadata": {
        "id": "HL1m67GmEwlk",
        "colab_type": "text"
      },
      "source": [
        "## Part 7 - Calling all of the methods to check each value.\n"
      ]
    },
    {
      "cell_type": "code",
      "metadata": {
        "id": "orjqFscXClBv",
        "colab_type": "code",
        "colab": {
          "base_uri": "https://localhost:8080/",
          "height": 153
        },
        "outputId": "ca125dc6-43f7-48a8-9522-2a5e4d7cb711"
      },
      "source": [
        "print(\"Your entered list is: \", inputList , \"\\n\")\n",
        "#Calls the maxNumber method to see the maximum values entered by the user.\n",
        "maxNumber(inputList)\n",
        "#Calls the minNumber method to see the minimum values entered by the user.\n",
        "minNumber(inputList)\n",
        "#Calls the rangeList method to see the range of the values entered by the user.\n",
        "rangeList(inputList)\n",
        "#Calls the meanList method to see the mean of the values entered by the user.\n",
        "meanList(inputList)\n",
        "#Calls the numStdDeviation method to see the standard deviation of the values entered by the user.\n",
        "numStdDeviation(inputList)\n",
        "#Calls the numVariance method to see the variance of the values entered by the user.\n",
        "numVariance(inputList)"
      ],
      "execution_count": 26,
      "outputs": [
        {
          "output_type": "stream",
          "text": [
            "Your entered list is:  [1, 4, 3, 2, 6, 5, 7, 8, 9, 10] \n",
            "\n",
            "The maximum number that you entered was: 10\n",
            "The minimum number that you entered was: 1\n",
            "The range of the data you entered is: 9\n",
            "The mean of the data you entered is: 5.5\n",
            "The standard deviation of the data you entered is: 3.03\n",
            "The variance of the data you entered is: 9.17\n"
          ],
          "name": "stdout"
        }
      ]
    }
  ]
}