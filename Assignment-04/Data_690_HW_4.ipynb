{
  "nbformat": 4,
  "nbformat_minor": 0,
  "metadata": {
    "colab": {
      "name": "Data_690_HW_4",
      "provenance": [],
      "collapsed_sections": [],
      "toc_visible": true,
      "authorship_tag": "ABX9TyOUnnLXu4LcFd1Rp8WNWN81",
      "include_colab_link": true
    },
    "kernelspec": {
      "name": "python3",
      "display_name": "Python 3"
    }
  },
  "cells": [
    {
      "cell_type": "markdown",
      "metadata": {
        "id": "view-in-github",
        "colab_type": "text"
      },
      "source": [
        "<a href=\"https://colab.research.google.com/github/Debanjan-C/WANG-690-FALL-2020/blob/master/Assignment-04/Data_690_HW_4.ipynb\" target=\"_parent\"><img src=\"https://colab.research.google.com/assets/colab-badge.svg\" alt=\"Open In Colab\"/></a>"
      ]
    },
    {
      "cell_type": "markdown",
      "metadata": {
        "id": "bMBKbk_DlXGM",
        "colab_type": "text"
      },
      "source": [
        "# Data 690 - Assignment 4\n",
        "Debanjan Chowdhury\n",
        "\n",
        "**Objective** - We will be taking a text file. Doing data cleansing and finally uploading into a csv file that we will be creating.\n",
        "\n"
      ]
    },
    {
      "cell_type": "markdown",
      "metadata": {
        "id": "gL4fR6qpqfjU",
        "colab_type": "text"
      },
      "source": [
        "### 1. Write code to open the text file census_cost.txt and read all lines into a list named \"line_list\". Print line_list.\n",
        "- This is the first step where we open the text file and set the lines in a list where it will store it after reading the lines."
      ]
    },
    {
      "cell_type": "code",
      "metadata": {
        "id": "9LH8dzzCYTX9",
        "colab_type": "code",
        "colab": {}
      },
      "source": [
        "#we are opening the census_cost.txt file\n",
        "with open(\"census_cost.txt\", \"rt\") as f:\n",
        "\n",
        "  line_list = f.readlines()"
      ],
      "execution_count": null,
      "outputs": []
    },
    {
      "cell_type": "code",
      "metadata": {
        "id": "QqkHktOJa-oO",
        "colab_type": "code",
        "colab": {
          "base_uri": "https://localhost:8080/",
          "height": 54
        },
        "outputId": "7934f783-1ddf-48b9-b0eb-35aa8c0f9dea"
      },
      "source": [
        "#Boiler plate print() We print the entire data in one line\n",
        "print(line_list)"
      ],
      "execution_count": null,
      "outputs": [
        {
          "output_type": "stream",
          "text": [
            "['Source: https://www.genealogybranches.com/censuscosts.html\\n', 'Census Year\\tTotal Population\\tCensus Cost\\tAverage Cost Per Person\\n', '1790\\t3,929,214\\t$44,377\\t1.13 cents\\n', '1800\\t5,308,483\\t$66,109\\t1.24 cents\\n', '1810\\t7,239,881\\t$178,445\\t2.46 cents\\n', '1820\\t9,633,822\\t$208,526\\t2.16 cents\\n', '1830\\t12,866,020\\t$378,545\\t2.94 cents\\n', '1840\\t17,069,458\\t$833,371\\t4.88 cents\\n', '1850\\t23,191,876\\t$1,423,351\\t6.14 cents\\n', '1860\\t31,443,321\\t$1,969,377\\t6.26 cents\\n', '1870\\t38,558,371\\t$3,421,198\\t8.87 cents\\n', '1880\\t50,155,783\\t$5,790,678\\t11.54 cents\\n', '1890\\t62,979,766\\t$11,547,127\\t18.33 cents\\n', '1900\\t76,303,387\\t$11,854,000\\t15.54 cents\\n', '1910\\t91,972,266\\t$15,968,000\\t17.07 cents\\n', '1920\\t105,710,620\\t$25,117,000\\t23.76 cents\\n', '1930\\t122,775,046\\t$40,156,000\\t32.71 cents\\n', '1940\\t131,669,275\\t$67,527,000\\t51.29 cents\\n', '1950\\t151,325,798\\t$91,462,000\\t60.44 cents\\n', '1960\\t179,323,175\\t$127,934,000\\t71.34 cents\\n', '1970\\t203,302,031\\t$247,653,000\\t$1.22\\n', '1980\\t226,542,199\\t$1,078,488,000\\t$4.76\\n', '1990\\t248,718,301\\t$2,492,830,000\\t$10.02\\n', '2000\\t281,421,906\\t$4.5 Billion\\t$15.99\\n', '2010*\\t308,745,538\\t$13 Billion\\t$42.11\\n']\n"
          ],
          "name": "stdout"
        }
      ]
    },
    {
      "cell_type": "code",
      "metadata": {
        "id": "BxolzP_8bSnB",
        "colab_type": "code",
        "colab": {
          "base_uri": "https://localhost:8080/",
          "height": 857
        },
        "outputId": "e6515b88-7133-4c3d-97c2-5b5d9fa8777a"
      },
      "source": [
        "#We print one line at a time using the for loop. \n",
        "for row in line_list:\n",
        "  print(row)"
      ],
      "execution_count": null,
      "outputs": [
        {
          "output_type": "stream",
          "text": [
            "Source: https://www.genealogybranches.com/censuscosts.html\n",
            "\n",
            "Census Year\tTotal Population\tCensus Cost\tAverage Cost Per Person\n",
            "\n",
            "1790\t3,929,214\t$44,377\t1.13 cents\n",
            "\n",
            "1800\t5,308,483\t$66,109\t1.24 cents\n",
            "\n",
            "1810\t7,239,881\t$178,445\t2.46 cents\n",
            "\n",
            "1820\t9,633,822\t$208,526\t2.16 cents\n",
            "\n",
            "1830\t12,866,020\t$378,545\t2.94 cents\n",
            "\n",
            "1840\t17,069,458\t$833,371\t4.88 cents\n",
            "\n",
            "1850\t23,191,876\t$1,423,351\t6.14 cents\n",
            "\n",
            "1860\t31,443,321\t$1,969,377\t6.26 cents\n",
            "\n",
            "1870\t38,558,371\t$3,421,198\t8.87 cents\n",
            "\n",
            "1880\t50,155,783\t$5,790,678\t11.54 cents\n",
            "\n",
            "1890\t62,979,766\t$11,547,127\t18.33 cents\n",
            "\n",
            "1900\t76,303,387\t$11,854,000\t15.54 cents\n",
            "\n",
            "1910\t91,972,266\t$15,968,000\t17.07 cents\n",
            "\n",
            "1920\t105,710,620\t$25,117,000\t23.76 cents\n",
            "\n",
            "1930\t122,775,046\t$40,156,000\t32.71 cents\n",
            "\n",
            "1940\t131,669,275\t$67,527,000\t51.29 cents\n",
            "\n",
            "1950\t151,325,798\t$91,462,000\t60.44 cents\n",
            "\n",
            "1960\t179,323,175\t$127,934,000\t71.34 cents\n",
            "\n",
            "1970\t203,302,031\t$247,653,000\t$1.22\n",
            "\n",
            "1980\t226,542,199\t$1,078,488,000\t$4.76\n",
            "\n",
            "1990\t248,718,301\t$2,492,830,000\t$10.02\n",
            "\n",
            "2000\t281,421,906\t$4.5 Billion\t$15.99\n",
            "\n",
            "2010*\t308,745,538\t$13 Billion\t$42.11\n",
            "\n"
          ],
          "name": "stdout"
        }
      ]
    },
    {
      "cell_type": "markdown",
      "metadata": {
        "id": "U9YtD2khrujT",
        "colab_type": "text"
      },
      "source": [
        "### 2. Extract the first two lines and put them in a different list named \"top2_list\". You will need to use them later. Print the top2_list."
      ]
    },
    {
      "cell_type": "code",
      "metadata": {
        "id": "gGeqZuU-b_BY",
        "colab_type": "code",
        "colab": {
          "base_uri": "https://localhost:8080/",
          "height": 84
        },
        "outputId": "42b585c9-d750-4fb3-a7f9-ea68acd0a4a2"
      },
      "source": [
        "#We store the top 2 rows in a new list and have shown the output below\n",
        "top2_list = []\n",
        "for row in line_list[:2]:\n",
        "  top2_list.append(row)\n",
        "\n",
        "for row in top2_list:\n",
        "  print(row)"
      ],
      "execution_count": null,
      "outputs": [
        {
          "output_type": "stream",
          "text": [
            "Source: https://www.genealogybranches.com/censuscosts.html\n",
            "\n",
            "Census Year\tTotal Population\tCensus Cost\tAverage Cost Per Person\n",
            "\n"
          ],
          "name": "stdout"
        }
      ]
    },
    {
      "cell_type": "markdown",
      "metadata": {
        "id": "dwLZ8iy5xHgj",
        "colab_type": "text"
      },
      "source": [
        "### 3. Put the rest of the lines (containing useful data elements) in a new list named \"data_list\". Print data_list."
      ]
    },
    {
      "cell_type": "code",
      "metadata": {
        "id": "MeXxQqRwdEUS",
        "colab_type": "code",
        "colab": {
          "base_uri": "https://localhost:8080/",
          "height": 790
        },
        "outputId": "d8c602bf-f9e8-4393-bac7-a2550b1a824c"
      },
      "source": [
        "#We store the other data(except top 2 rows in this list) \n",
        "#and we print it in second for loop\n",
        "data_list = []\n",
        "for row in line_list[2:]:\n",
        "  data_list.append(row)\n",
        "\n",
        "for row in data_list[:]:\n",
        "  print(row)"
      ],
      "execution_count": null,
      "outputs": [
        {
          "output_type": "stream",
          "text": [
            "1790\t3,929,214\t$44,377\t1.13 cents\n",
            "\n",
            "1800\t5,308,483\t$66,109\t1.24 cents\n",
            "\n",
            "1810\t7,239,881\t$178,445\t2.46 cents\n",
            "\n",
            "1820\t9,633,822\t$208,526\t2.16 cents\n",
            "\n",
            "1830\t12,866,020\t$378,545\t2.94 cents\n",
            "\n",
            "1840\t17,069,458\t$833,371\t4.88 cents\n",
            "\n",
            "1850\t23,191,876\t$1,423,351\t6.14 cents\n",
            "\n",
            "1860\t31,443,321\t$1,969,377\t6.26 cents\n",
            "\n",
            "1870\t38,558,371\t$3,421,198\t8.87 cents\n",
            "\n",
            "1880\t50,155,783\t$5,790,678\t11.54 cents\n",
            "\n",
            "1890\t62,979,766\t$11,547,127\t18.33 cents\n",
            "\n",
            "1900\t76,303,387\t$11,854,000\t15.54 cents\n",
            "\n",
            "1910\t91,972,266\t$15,968,000\t17.07 cents\n",
            "\n",
            "1920\t105,710,620\t$25,117,000\t23.76 cents\n",
            "\n",
            "1930\t122,775,046\t$40,156,000\t32.71 cents\n",
            "\n",
            "1940\t131,669,275\t$67,527,000\t51.29 cents\n",
            "\n",
            "1950\t151,325,798\t$91,462,000\t60.44 cents\n",
            "\n",
            "1960\t179,323,175\t$127,934,000\t71.34 cents\n",
            "\n",
            "1970\t203,302,031\t$247,653,000\t$1.22\n",
            "\n",
            "1980\t226,542,199\t$1,078,488,000\t$4.76\n",
            "\n",
            "1990\t248,718,301\t$2,492,830,000\t$10.02\n",
            "\n",
            "2000\t281,421,906\t$4.5 Billion\t$15.99\n",
            "\n",
            "2010*\t308,745,538\t$13 Billion\t$42.11\n",
            "\n"
          ],
          "name": "stdout"
        }
      ]
    },
    {
      "cell_type": "code",
      "metadata": {
        "id": "4Q8HRDGkXstt",
        "colab_type": "code",
        "colab": {
          "base_uri": "https://localhost:8080/",
          "height": 54
        },
        "outputId": "82494316-e2ca-45d4-acc8-22db3ea148a0"
      },
      "source": [
        "#Boiler print for testing purposes\n",
        "print(data_list)"
      ],
      "execution_count": null,
      "outputs": [
        {
          "output_type": "stream",
          "text": [
            "['1790\\t3,929,214\\t$44,377\\t1.13 cents\\n', '1800\\t5,308,483\\t$66,109\\t1.24 cents\\n', '1810\\t7,239,881\\t$178,445\\t2.46 cents\\n', '1820\\t9,633,822\\t$208,526\\t2.16 cents\\n', '1830\\t12,866,020\\t$378,545\\t2.94 cents\\n', '1840\\t17,069,458\\t$833,371\\t4.88 cents\\n', '1850\\t23,191,876\\t$1,423,351\\t6.14 cents\\n', '1860\\t31,443,321\\t$1,969,377\\t6.26 cents\\n', '1870\\t38,558,371\\t$3,421,198\\t8.87 cents\\n', '1880\\t50,155,783\\t$5,790,678\\t11.54 cents\\n', '1890\\t62,979,766\\t$11,547,127\\t18.33 cents\\n', '1900\\t76,303,387\\t$11,854,000\\t15.54 cents\\n', '1910\\t91,972,266\\t$15,968,000\\t17.07 cents\\n', '1920\\t105,710,620\\t$25,117,000\\t23.76 cents\\n', '1930\\t122,775,046\\t$40,156,000\\t32.71 cents\\n', '1940\\t131,669,275\\t$67,527,000\\t51.29 cents\\n', '1950\\t151,325,798\\t$91,462,000\\t60.44 cents\\n', '1960\\t179,323,175\\t$127,934,000\\t71.34 cents\\n', '1970\\t203,302,031\\t$247,653,000\\t$1.22\\n', '1980\\t226,542,199\\t$1,078,488,000\\t$4.76\\n', '1990\\t248,718,301\\t$2,492,830,000\\t$10.02\\n', '2000\\t281,421,906\\t$4.5 Billion\\t$15.99\\n', '2010*\\t308,745,538\\t$13 Billion\\t$42.11\\n']\n"
          ],
          "name": "stdout"
        }
      ]
    },
    {
      "cell_type": "markdown",
      "metadata": {
        "id": "cBpJfEx_xc0Y",
        "colab_type": "text"
      },
      "source": [
        "### 4. Extract the column \"Census Year\" from data_list and assign them to a list named year_list. Remove the \"\" from the last element \"2010\". Print the cleansed year_list."
      ]
    },
    {
      "cell_type": "code",
      "metadata": {
        "id": "etIrBXzNxuDC",
        "colab_type": "code",
        "colab": {
          "base_uri": "https://localhost:8080/",
          "height": 403
        },
        "outputId": "722447ab-b476-4ca1-c2b5-26161e419ce1"
      },
      "source": [
        "#We extract the year portion from data list and store it in a new list\n",
        "#and we print the newly extracted year data\n",
        "year_list = []\n",
        "for line in data_list:\n",
        "  year_list.append(line.split(\"\\t\")[0])\n",
        "year_list"
      ],
      "execution_count": null,
      "outputs": [
        {
          "output_type": "execute_result",
          "data": {
            "text/plain": [
              "['1790',\n",
              " '1800',\n",
              " '1810',\n",
              " '1820',\n",
              " '1830',\n",
              " '1840',\n",
              " '1850',\n",
              " '1860',\n",
              " '1870',\n",
              " '1880',\n",
              " '1890',\n",
              " '1900',\n",
              " '1910',\n",
              " '1920',\n",
              " '1930',\n",
              " '1940',\n",
              " '1950',\n",
              " '1960',\n",
              " '1970',\n",
              " '1980',\n",
              " '1990',\n",
              " '2000',\n",
              " '2010*']"
            ]
          },
          "metadata": {
            "tags": []
          },
          "execution_count": 8
        }
      ]
    },
    {
      "cell_type": "code",
      "metadata": {
        "id": "84L3yUlC4Qq0",
        "colab_type": "code",
        "colab": {
          "base_uri": "https://localhost:8080/",
          "height": 403
        },
        "outputId": "08d96692-05a4-4d4c-b71b-58d1659552fa"
      },
      "source": [
        "#Remove the \"*\" from 2010 and cleanse the list and keep it all in one format.\n",
        "#We check each of the year data in the extracted list and removed any ('*')\n",
        "for i in range(len(year_list)):\n",
        "  year_list[i] = year_list[i].replace(\"*\", \"\")\n",
        " \n",
        "year_list"
      ],
      "execution_count": null,
      "outputs": [
        {
          "output_type": "execute_result",
          "data": {
            "text/plain": [
              "['1790',\n",
              " '1800',\n",
              " '1810',\n",
              " '1820',\n",
              " '1830',\n",
              " '1840',\n",
              " '1850',\n",
              " '1860',\n",
              " '1870',\n",
              " '1880',\n",
              " '1890',\n",
              " '1900',\n",
              " '1910',\n",
              " '1920',\n",
              " '1930',\n",
              " '1940',\n",
              " '1950',\n",
              " '1960',\n",
              " '1970',\n",
              " '1980',\n",
              " '1990',\n",
              " '2000',\n",
              " '2010']"
            ]
          },
          "metadata": {
            "tags": []
          },
          "execution_count": 9
        }
      ]
    },
    {
      "cell_type": "markdown",
      "metadata": {
        "id": "WwWo3jUEyVPm",
        "colab_type": "text"
      },
      "source": [
        "### 5. Extract the \"Total Population\" column from the data_list and assign them to a list named \"pop_list\". Remove the \",\" from the numbers since Python doesn't recognize them. Print the cleansed \"pop_list\"."
      ]
    },
    {
      "cell_type": "code",
      "metadata": {
        "id": "bP0ruzIZ4Qt6",
        "colab_type": "code",
        "colab": {
          "base_uri": "https://localhost:8080/",
          "height": 403
        },
        "outputId": "22eb13d1-6121-449a-fe4e-4fc0a4b9e562"
      },
      "source": [
        "#We store the population data from data list into the pop_list dataset\n",
        "pop_list = []\n",
        "for line in data_list:\n",
        "  pop_list.append(line.split(\"\\t\")[1])\n",
        "pop_list"
      ],
      "execution_count": null,
      "outputs": [
        {
          "output_type": "execute_result",
          "data": {
            "text/plain": [
              "['3,929,214',\n",
              " '5,308,483',\n",
              " '7,239,881',\n",
              " '9,633,822',\n",
              " '12,866,020',\n",
              " '17,069,458',\n",
              " '23,191,876',\n",
              " '31,443,321',\n",
              " '38,558,371',\n",
              " '50,155,783',\n",
              " '62,979,766',\n",
              " '76,303,387',\n",
              " '91,972,266',\n",
              " '105,710,620',\n",
              " '122,775,046',\n",
              " '131,669,275',\n",
              " '151,325,798',\n",
              " '179,323,175',\n",
              " '203,302,031',\n",
              " '226,542,199',\n",
              " '248,718,301',\n",
              " '281,421,906',\n",
              " '308,745,538']"
            ]
          },
          "metadata": {
            "tags": []
          },
          "execution_count": 10
        }
      ]
    },
    {
      "cell_type": "code",
      "metadata": {
        "id": "GqaOi3ve4Q0x",
        "colab_type": "code",
        "colab": {
          "base_uri": "https://localhost:8080/",
          "height": 403
        },
        "outputId": "416a4dca-0ddd-4d5a-d299-79203dfb2597"
      },
      "source": [
        "#We remove the commas and cleanse the data in pop_list\n",
        "for i in range(len(pop_list)):\n",
        "  pop_list[i] = pop_list[i].replace(\",\", \"\")\n",
        "pop_list"
      ],
      "execution_count": null,
      "outputs": [
        {
          "output_type": "execute_result",
          "data": {
            "text/plain": [
              "['3929214',\n",
              " '5308483',\n",
              " '7239881',\n",
              " '9633822',\n",
              " '12866020',\n",
              " '17069458',\n",
              " '23191876',\n",
              " '31443321',\n",
              " '38558371',\n",
              " '50155783',\n",
              " '62979766',\n",
              " '76303387',\n",
              " '91972266',\n",
              " '105710620',\n",
              " '122775046',\n",
              " '131669275',\n",
              " '151325798',\n",
              " '179323175',\n",
              " '203302031',\n",
              " '226542199',\n",
              " '248718301',\n",
              " '281421906',\n",
              " '308745538']"
            ]
          },
          "metadata": {
            "tags": []
          },
          "execution_count": 11
        }
      ]
    },
    {
      "cell_type": "markdown",
      "metadata": {
        "id": "bevZ0bhMyfRj",
        "colab_type": "text"
      },
      "source": [
        "### 6. Extract the \"Census Cost\" column from the data_list and assign them to a list named \"cost_list\". Remove the \",\", and \"$\", and \"Billion\". Make sure to add the \"0\"s to the numbers from which you removed \"Billion\". Print the cleansed cost_list."
      ]
    },
    {
      "cell_type": "code",
      "metadata": {
        "id": "Q-mmR9Ax-nvl",
        "colab_type": "code",
        "colab": {
          "base_uri": "https://localhost:8080/",
          "height": 403
        },
        "outputId": "364a30a6-23b5-4705-dfc9-163f5e9c4cde"
      },
      "source": [
        "#We store the cost data from data_list into the cost_list\n",
        "cost_list = []\n",
        "for line in data_list:\n",
        "  cost_list.append(line.split(\"\\t\")[2])\n",
        "cost_list"
      ],
      "execution_count": null,
      "outputs": [
        {
          "output_type": "execute_result",
          "data": {
            "text/plain": [
              "['$44,377',\n",
              " '$66,109',\n",
              " '$178,445',\n",
              " '$208,526',\n",
              " '$378,545',\n",
              " '$833,371',\n",
              " '$1,423,351',\n",
              " '$1,969,377',\n",
              " '$3,421,198',\n",
              " '$5,790,678',\n",
              " '$11,547,127',\n",
              " '$11,854,000',\n",
              " '$15,968,000',\n",
              " '$25,117,000',\n",
              " '$40,156,000',\n",
              " '$67,527,000',\n",
              " '$91,462,000',\n",
              " '$127,934,000',\n",
              " '$247,653,000',\n",
              " '$1,078,488,000',\n",
              " '$2,492,830,000',\n",
              " '$4.5 Billion',\n",
              " '$13 Billion']"
            ]
          },
          "metadata": {
            "tags": []
          },
          "execution_count": 12
        }
      ]
    },
    {
      "cell_type": "code",
      "metadata": {
        "id": "LlfLhP5SW-K1",
        "colab_type": "code",
        "colab": {
          "base_uri": "https://localhost:8080/",
          "height": 403
        },
        "outputId": "220e5937-9349-416a-9b84-a3fb5fc5cee7"
      },
      "source": [
        "#We cleanse the cost_list by removing the sollar sign, commas and replacing the \n",
        "#letter \"Billion\" by multiplying the number with a billion.\n",
        "\n",
        "for i in range(len(cost_list)):\n",
        "  cost_list[i] = cost_list[i].replace(\",\", \"\")\n",
        "  cost_list[i] = cost_list[i].replace(\"$\", \"\")\n",
        "  if 'Billion' in cost_list[i]:\n",
        "    cost_list[i] = cost_list[i].replace(\" Billion\", \"\")\n",
        "    cost_list[i] = float(cost_list[i])\n",
        "    cost_list[i] = round(cost_list[i]* 1000000000)\n",
        "    cost_list[i] = str(cost_list[i])\n",
        "cost_list"
      ],
      "execution_count": null,
      "outputs": [
        {
          "output_type": "execute_result",
          "data": {
            "text/plain": [
              "['44377',\n",
              " '66109',\n",
              " '178445',\n",
              " '208526',\n",
              " '378545',\n",
              " '833371',\n",
              " '1423351',\n",
              " '1969377',\n",
              " '3421198',\n",
              " '5790678',\n",
              " '11547127',\n",
              " '11854000',\n",
              " '15968000',\n",
              " '25117000',\n",
              " '40156000',\n",
              " '67527000',\n",
              " '91462000',\n",
              " '127934000',\n",
              " '247653000',\n",
              " '1078488000',\n",
              " '2492830000',\n",
              " '4500000000',\n",
              " '13000000000']"
            ]
          },
          "metadata": {
            "tags": []
          },
          "execution_count": 13
        }
      ]
    },
    {
      "cell_type": "markdown",
      "metadata": {
        "id": "7Mv2ySpezIm7",
        "colab_type": "text"
      },
      "source": [
        "### 7. Extract the \"Average Cost per Person\" column from the data_list and assign them to a list named \"avg_list\". Remove the \"cents\", and \"$\". Make sure to divide the numbers in cents by 100 so that all numbers are measured in dollar. Print the cleansed avg_list."
      ]
    },
    {
      "cell_type": "code",
      "metadata": {
        "id": "noHGvPTB-n0p",
        "colab_type": "code",
        "colab": {
          "base_uri": "https://localhost:8080/",
          "height": 403
        },
        "outputId": "8b64a834-7c97-476c-d223-3f24155b60de"
      },
      "source": [
        "#We store the average cost per population data from the data_list into this list.\n",
        "\n",
        "avg_list = []\n",
        "for line in data_list:\n",
        "  line = line.split(\"\\t\")[3]\n",
        "  #print(line)\n",
        "  avg_list.append(line)\n",
        "avg_list"
      ],
      "execution_count": null,
      "outputs": [
        {
          "output_type": "execute_result",
          "data": {
            "text/plain": [
              "['1.13 cents\\n',\n",
              " '1.24 cents\\n',\n",
              " '2.46 cents\\n',\n",
              " '2.16 cents\\n',\n",
              " '2.94 cents\\n',\n",
              " '4.88 cents\\n',\n",
              " '6.14 cents\\n',\n",
              " '6.26 cents\\n',\n",
              " '8.87 cents\\n',\n",
              " '11.54 cents\\n',\n",
              " '18.33 cents\\n',\n",
              " '15.54 cents\\n',\n",
              " '17.07 cents\\n',\n",
              " '23.76 cents\\n',\n",
              " '32.71 cents\\n',\n",
              " '51.29 cents\\n',\n",
              " '60.44 cents\\n',\n",
              " '71.34 cents\\n',\n",
              " '$1.22\\n',\n",
              " '$4.76\\n',\n",
              " '$10.02\\n',\n",
              " '$15.99\\n',\n",
              " '$42.11\\n']"
            ]
          },
          "metadata": {
            "tags": []
          },
          "execution_count": 14
        }
      ]
    },
    {
      "cell_type": "code",
      "metadata": {
        "id": "aF5iBaCIGbRr",
        "colab_type": "code",
        "colab": {
          "base_uri": "https://localhost:8080/",
          "height": 403
        },
        "outputId": "ef5f8594-6bb7-42b7-f6d5-1688377e443f"
      },
      "source": [
        "#we remove the letter cents and divide it by 100 to show the dollar amount for those, \n",
        "#We also remove the dollar signs.\n",
        "\n",
        "for i in range(len(avg_list)):\n",
        "  avg_list[i] = avg_list[i].replace(\"$\", \"\")\n",
        "  if ' cents' in avg_list[i] and '.' in avg_list[i]:\n",
        "    avg_list[i] = avg_list[i].replace(\" cents\", \"\")\n",
        "    avg_list[i] = float(avg_list[i])\n",
        "    avg_list[i] = round((avg_list[i]/ 100), 4)\n",
        "    avg_list[i] = str(avg_list[i])\n",
        "    avg_list[i] = avg_list[i] + \"\\n\"\n",
        "   \n",
        "avg_list"
      ],
      "execution_count": null,
      "outputs": [
        {
          "output_type": "execute_result",
          "data": {
            "text/plain": [
              "['0.0113\\n',\n",
              " '0.0124\\n',\n",
              " '0.0246\\n',\n",
              " '0.0216\\n',\n",
              " '0.0294\\n',\n",
              " '0.0488\\n',\n",
              " '0.0614\\n',\n",
              " '0.0626\\n',\n",
              " '0.0887\\n',\n",
              " '0.1154\\n',\n",
              " '0.1833\\n',\n",
              " '0.1554\\n',\n",
              " '0.1707\\n',\n",
              " '0.2376\\n',\n",
              " '0.3271\\n',\n",
              " '0.5129\\n',\n",
              " '0.6044\\n',\n",
              " '0.7134\\n',\n",
              " '1.22\\n',\n",
              " '4.76\\n',\n",
              " '10.02\\n',\n",
              " '15.99\\n',\n",
              " '42.11\\n']"
            ]
          },
          "metadata": {
            "tags": []
          },
          "execution_count": 15
        }
      ]
    },
    {
      "cell_type": "markdown",
      "metadata": {
        "id": "lEi7jhD-zaOd",
        "colab_type": "text"
      },
      "source": [
        "### 8. Coalesce the cleansed data and save them to a text file named \"census_cost.csv\". The new file should look similar to the original source file except that it is in comma-delimited format and the numbers have been cleansed. The top two lines from the original file should be retained in the new file."
      ]
    },
    {
      "cell_type": "code",
      "metadata": {
        "id": "fUugVogJBJz7",
        "colab_type": "code",
        "colab": {
          "base_uri": "https://localhost:8080/",
          "height": 403
        },
        "outputId": "85600b63-db4a-44a4-eab6-c69fc21eccaf"
      },
      "source": [
        "#We verify each line in the data_list and check each section before the split('/t')\n",
        "#statement and replace it with the elements from the lists where we have the cleansed data. \n",
        "for i in range(len(data_list)):\n",
        "\n",
        "  \n",
        "  data_list[i] = data_list[i].replace(data_list[i].split(\"\\t\")[0], year_list[i])\n",
        "  data_list[i] = data_list[i].replace(data_list[i].split(\"\\t\")[1], pop_list[i])\n",
        "  data_list[i] = data_list[i].replace(data_list[i].split(\"\\t\")[2], cost_list[i])\n",
        "  data_list[i] = data_list[i].replace(data_list[i].split(\"\\t\")[3], avg_list[i])  \n",
        "    \n",
        "data_list"
      ],
      "execution_count": null,
      "outputs": [
        {
          "output_type": "execute_result",
          "data": {
            "text/plain": [
              "['1790\\t3929214\\t44377\\t0.0113\\n',\n",
              " '1800\\t5308483\\t66109\\t0.0124\\n',\n",
              " '1810\\t7239881\\t178445\\t0.0246\\n',\n",
              " '1820\\t9633822\\t208526\\t0.0216\\n',\n",
              " '1830\\t12866020\\t378545\\t0.0294\\n',\n",
              " '1840\\t17069458\\t833371\\t0.0488\\n',\n",
              " '1850\\t23191876\\t1423351\\t0.0614\\n',\n",
              " '1860\\t31443321\\t1969377\\t0.0626\\n',\n",
              " '1870\\t38558371\\t3421198\\t0.0887\\n',\n",
              " '1880\\t50155783\\t5790678\\t0.1154\\n',\n",
              " '1890\\t62979766\\t11547127\\t0.1833\\n',\n",
              " '1900\\t76303387\\t11854000\\t0.1554\\n',\n",
              " '1910\\t91972266\\t15968000\\t0.1707\\n',\n",
              " '1920\\t105710620\\t25117000\\t0.2376\\n',\n",
              " '1930\\t122775046\\t40156000\\t0.3271\\n',\n",
              " '1940\\t131669275\\t67527000\\t0.5129\\n',\n",
              " '1950\\t151325798\\t91462000\\t0.6044\\n',\n",
              " '1960\\t179323175\\t127934000\\t0.7134\\n',\n",
              " '1970\\t203302031\\t247653000\\t1.22\\n',\n",
              " '1980\\t226542199\\t1078488000\\t4.76\\n',\n",
              " '1990\\t248718301\\t2492830000\\t10.02\\n',\n",
              " '2000\\t281421906\\t4500000000\\t15.99\\n',\n",
              " '2010\\t308745538\\t13000000000\\t42.11\\n']"
            ]
          },
          "metadata": {
            "tags": []
          },
          "execution_count": 16
        }
      ]
    },
    {
      "cell_type": "code",
      "metadata": {
        "id": "adPqYWAL1Ug5",
        "colab_type": "code",
        "colab": {
          "base_uri": "https://localhost:8080/",
          "height": 50
        },
        "outputId": "f19dbb16-94d5-43f2-f351-0a61517bec76"
      },
      "source": [
        "#We take the top two rows of the data that was stored in the top_2 list.\n",
        "#After that, we store it in a new list. \n",
        "new_line_list = []\n",
        "\n",
        "for i in top2_list:\n",
        "  new_line_list.append(i)\n",
        "\n",
        "new_line_list"
      ],
      "execution_count": null,
      "outputs": [
        {
          "output_type": "execute_result",
          "data": {
            "text/plain": [
              "['Source: https://www.genealogybranches.com/censuscosts.html\\n',\n",
              " 'Census Year\\tTotal Population\\tCensus Cost\\tAverage Cost Per Person\\n']"
            ]
          },
          "metadata": {
            "tags": []
          },
          "execution_count": 17
        }
      ]
    },
    {
      "cell_type": "code",
      "metadata": {
        "id": "PvHER5-t0bF9",
        "colab_type": "code",
        "colab": {
          "base_uri": "https://localhost:8080/",
          "height": 437
        },
        "outputId": "780b4910-34f5-4429-908e-6db75b6ad671"
      },
      "source": [
        "#We append the other cleansed list (other than first 2) into the sam new list created.\n",
        "for i in data_list:\n",
        "  new_line_list.append(i)\n",
        "\n",
        "new_line_list"
      ],
      "execution_count": null,
      "outputs": [
        {
          "output_type": "execute_result",
          "data": {
            "text/plain": [
              "['Source: https://www.genealogybranches.com/censuscosts.html\\n',\n",
              " 'Census Year\\tTotal Population\\tCensus Cost\\tAverage Cost Per Person\\n',\n",
              " '1790\\t3929214\\t44377\\t0.0113\\n',\n",
              " '1800\\t5308483\\t66109\\t0.0124\\n',\n",
              " '1810\\t7239881\\t178445\\t0.0246\\n',\n",
              " '1820\\t9633822\\t208526\\t0.0216\\n',\n",
              " '1830\\t12866020\\t378545\\t0.0294\\n',\n",
              " '1840\\t17069458\\t833371\\t0.0488\\n',\n",
              " '1850\\t23191876\\t1423351\\t0.0614\\n',\n",
              " '1860\\t31443321\\t1969377\\t0.0626\\n',\n",
              " '1870\\t38558371\\t3421198\\t0.0887\\n',\n",
              " '1880\\t50155783\\t5790678\\t0.1154\\n',\n",
              " '1890\\t62979766\\t11547127\\t0.1833\\n',\n",
              " '1900\\t76303387\\t11854000\\t0.1554\\n',\n",
              " '1910\\t91972266\\t15968000\\t0.1707\\n',\n",
              " '1920\\t105710620\\t25117000\\t0.2376\\n',\n",
              " '1930\\t122775046\\t40156000\\t0.3271\\n',\n",
              " '1940\\t131669275\\t67527000\\t0.5129\\n',\n",
              " '1950\\t151325798\\t91462000\\t0.6044\\n',\n",
              " '1960\\t179323175\\t127934000\\t0.7134\\n',\n",
              " '1970\\t203302031\\t247653000\\t1.22\\n',\n",
              " '1980\\t226542199\\t1078488000\\t4.76\\n',\n",
              " '1990\\t248718301\\t2492830000\\t10.02\\n',\n",
              " '2000\\t281421906\\t4500000000\\t15.99\\n',\n",
              " '2010\\t308745538\\t13000000000\\t42.11\\n']"
            ]
          },
          "metadata": {
            "tags": []
          },
          "execution_count": 18
        }
      ]
    },
    {
      "cell_type": "code",
      "metadata": {
        "id": "rapy_YYs2INV",
        "colab_type": "code",
        "colab": {}
      },
      "source": [
        "#We save the newly cleansed rows into a csv file\n",
        "with open(\"census_cost.csv\", \"wt\") as f:\n",
        "  for row in new_line_list:\n",
        "    f.write(row.replace('\\t', ','))\n"
      ],
      "execution_count": 73,
      "outputs": []
    },
    {
      "cell_type": "markdown",
      "metadata": {
        "id": "-wn_dJ-W1PZL",
        "colab_type": "text"
      },
      "source": [
        "### 9. Open the newly-created file \"census_cost.csv\", read all lines and display them."
      ]
    },
    {
      "cell_type": "code",
      "metadata": {
        "id": "HF1OKdZPkrAo",
        "colab_type": "code",
        "colab": {
          "base_uri": "https://localhost:8080/",
          "height": 454
        },
        "outputId": "a75f42c8-a5f5-4e10-a03a-9042d0e6617f"
      },
      "source": [
        "#We read the csv file that we created and wrote data to in the last step and we read it here. \n",
        "\n",
        "with open('census_cost.csv', 'r')  as f:\n",
        "  print(f.read())"
      ],
      "execution_count": 72,
      "outputs": [
        {
          "output_type": "stream",
          "text": [
            "Source: https://www.genealogybranches.com/censuscosts.html\n",
            "Census Year,Total Population,Census Cost,Average Cost Per Person\n",
            "1790,3929214,44377,0.0113\n",
            "1800,5308483,66109,0.0124\n",
            "1810,7239881,178445,0.0246\n",
            "1820,9633822,208526,0.0216\n",
            "1830,12866020,378545,0.0294\n",
            "1840,17069458,833371,0.0488\n",
            "1850,23191876,1423351,0.0614\n",
            "1860,31443321,1969377,0.0626\n",
            "1870,38558371,3421198,0.0887\n",
            "1880,50155783,5790678,0.1154\n",
            "1890,62979766,11547127,0.1833\n",
            "1900,76303387,11854000,0.1554\n",
            "1910,91972266,15968000,0.1707\n",
            "1920,105710620,25117000,0.2376\n",
            "1930,122775046,40156000,0.3271\n",
            "1940,131669275,67527000,0.5129\n",
            "1950,151325798,91462000,0.6044\n",
            "1960,179323175,127934000,0.7134\n",
            "1970,203302031,247653000,1.22\n",
            "1980,226542199,1078488000,4.76\n",
            "1990,248718301,2492830000,10.02\n",
            "2000,281421906,4500000000,15.99\n",
            "2010,308745538,13000000000,42.11\n",
            "\n"
          ],
          "name": "stdout"
        }
      ]
    }
  ]
}