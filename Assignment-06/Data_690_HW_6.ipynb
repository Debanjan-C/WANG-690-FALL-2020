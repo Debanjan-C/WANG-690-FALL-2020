{
  "nbformat": 4,
  "nbformat_minor": 0,
  "metadata": {
    "colab": {
      "name": "Data_690_HW_6.ipynb",
      "provenance": [],
      "collapsed_sections": [],
      "authorship_tag": "ABX9TyPQBpP6AXIfDIdRglbo4cjq",
      "include_colab_link": true
    },
    "kernelspec": {
      "name": "python3",
      "display_name": "Python 3"
    }
  },
  "cells": [
    {
      "cell_type": "markdown",
      "metadata": {
        "id": "view-in-github",
        "colab_type": "text"
      },
      "source": [
        "<a href=\"https://colab.research.google.com/github/Debanjan-C/WANG-690-FALL-2020/blob/master/Assignment-06/Data_690_HW_6.ipynb\" target=\"_parent\"><img src=\"https://colab.research.google.com/assets/colab-badge.svg\" alt=\"Open In Colab\"/></a>"
      ]
    },
    {
      "cell_type": "markdown",
      "metadata": {
        "id": "w47c2JfGT04-"
      },
      "source": [
        "# Data 690 - Assignment 6\n",
        "Debanjan Chowdhury\n",
        "\n",
        "**Objective** - We are redoing our homework 4 with using Pandas. We initially import an html webpage and load each of the tables in the dataset. We set the first table into one dataframe and the other table will be in the other dataframe. Then we check both dataframes and see that the first dataframe contains the main data set. Then we will be cleansing the data set. "
      ]
    },
    {
      "cell_type": "code",
      "metadata": {
        "id": "bb5fpGcz9giN"
      },
      "source": [
        "#import Pandas\n",
        "import pandas as pd"
      ],
      "execution_count": 1,
      "outputs": []
    },
    {
      "cell_type": "markdown",
      "metadata": {
        "id": "ye4kb2in_0lL"
      },
      "source": [
        "**1. Use Pandas read_html() function to retrive the HTML tables as dataframes from the web page: https://www.genealogybranches.com/censuscosts.html**"
      ]
    },
    {
      "cell_type": "code",
      "metadata": {
        "id": "FcenFJFd_3Ak",
        "outputId": "2bf2ae2f-00bb-4741-c17d-f3366b43a97a",
        "colab": {
          "base_uri": "https://localhost:8080/",
          "height": 470
        }
      },
      "source": [
        "#We read the html link and show each of the rows in the link\n",
        "df_list = pd.read_html(\"https://www.genealogybranches.com/censuscosts.html\")\n",
        "df_list"
      ],
      "execution_count": 2,
      "outputs": [
        {
          "output_type": "execute_result",
          "data": {
            "text/plain": [
              "[              0                 1               2                        3\n",
              " 0   Census Year  Total Population     Census Cost  Average Cost Per Person\n",
              " 1          1790           3929214         $44,377               1.13 cents\n",
              " 2          1800           5308483         $66,109               1.24 cents\n",
              " 3          1810           7239881        $178,445               2.46 cents\n",
              " 4          1820           9633822        $208,526               2.16 cents\n",
              " 5          1830          12866020        $378,545               2.94 cents\n",
              " 6          1840          17069458        $833,371               4.88 cents\n",
              " 7          1850          23191876      $1,423,351               6.14 cents\n",
              " 8          1860          31443321      $1,969,377               6.26 cents\n",
              " 9          1870          38558371      $3,421,198               8.87 cents\n",
              " 10         1880          50155783      $5,790,678              11.54 cents\n",
              " 11         1890          62979766     $11,547,127              18.33 cents\n",
              " 12         1900          76303387     $11,854,000              15.54 cents\n",
              " 13         1910          91972266     $15,968,000              17.07 cents\n",
              " 14         1920         105710620     $25,117,000              23.76 cents\n",
              " 15         1930         122775046     $40,156,000              32.71 cents\n",
              " 16         1940         131669275     $67,527,000              51.29 cents\n",
              " 17         1950         151325798     $91,462,000              60.44 cents\n",
              " 18         1960         179323175    $127,934,000              71.34 cents\n",
              " 19         1970         203302031    $247,653,000                    $1.22\n",
              " 20         1980         226542199  $1,078,488,000                    $4.76\n",
              " 21         1990         248718301  $2,492,830,000                   $10.02\n",
              " 22         2000         281421906    $4.5 Billion                   $15.99\n",
              " 23        2010*         308745538     $13 Billion                   $42.11,\n",
              "                                                    0\n",
              " 0  The U.S. population reached 300,000,000 on 17 ...]"
            ]
          },
          "metadata": {
            "tags": []
          },
          "execution_count": 2
        }
      ]
    },
    {
      "cell_type": "markdown",
      "metadata": {
        "id": "XdL7AhJIZdJU"
      },
      "source": [
        "**2. Find out how many HTML tables Pandas retrieves from the web page. Find out which dataframe contain the data and use it for further processing.**"
      ]
    },
    {
      "cell_type": "code",
      "metadata": {
        "id": "zfw_GdF4DC3B",
        "outputId": "76ebfb03-8374-47c4-a55e-3461090d4763",
        "colab": {
          "base_uri": "https://localhost:8080/",
          "height": 758
        }
      },
      "source": [
        "#We notice two datasets in the html link and seperate them by df[0] and df[1]\n",
        "df1 = df_list[0]\n",
        "df1"
      ],
      "execution_count": 3,
      "outputs": [
        {
          "output_type": "execute_result",
          "data": {
            "text/html": [
              "<div>\n",
              "<style scoped>\n",
              "    .dataframe tbody tr th:only-of-type {\n",
              "        vertical-align: middle;\n",
              "    }\n",
              "\n",
              "    .dataframe tbody tr th {\n",
              "        vertical-align: top;\n",
              "    }\n",
              "\n",
              "    .dataframe thead th {\n",
              "        text-align: right;\n",
              "    }\n",
              "</style>\n",
              "<table border=\"1\" class=\"dataframe\">\n",
              "  <thead>\n",
              "    <tr style=\"text-align: right;\">\n",
              "      <th></th>\n",
              "      <th>0</th>\n",
              "      <th>1</th>\n",
              "      <th>2</th>\n",
              "      <th>3</th>\n",
              "    </tr>\n",
              "  </thead>\n",
              "  <tbody>\n",
              "    <tr>\n",
              "      <th>0</th>\n",
              "      <td>Census Year</td>\n",
              "      <td>Total Population</td>\n",
              "      <td>Census Cost</td>\n",
              "      <td>Average Cost Per Person</td>\n",
              "    </tr>\n",
              "    <tr>\n",
              "      <th>1</th>\n",
              "      <td>1790</td>\n",
              "      <td>3929214</td>\n",
              "      <td>$44,377</td>\n",
              "      <td>1.13 cents</td>\n",
              "    </tr>\n",
              "    <tr>\n",
              "      <th>2</th>\n",
              "      <td>1800</td>\n",
              "      <td>5308483</td>\n",
              "      <td>$66,109</td>\n",
              "      <td>1.24 cents</td>\n",
              "    </tr>\n",
              "    <tr>\n",
              "      <th>3</th>\n",
              "      <td>1810</td>\n",
              "      <td>7239881</td>\n",
              "      <td>$178,445</td>\n",
              "      <td>2.46 cents</td>\n",
              "    </tr>\n",
              "    <tr>\n",
              "      <th>4</th>\n",
              "      <td>1820</td>\n",
              "      <td>9633822</td>\n",
              "      <td>$208,526</td>\n",
              "      <td>2.16 cents</td>\n",
              "    </tr>\n",
              "    <tr>\n",
              "      <th>5</th>\n",
              "      <td>1830</td>\n",
              "      <td>12866020</td>\n",
              "      <td>$378,545</td>\n",
              "      <td>2.94 cents</td>\n",
              "    </tr>\n",
              "    <tr>\n",
              "      <th>6</th>\n",
              "      <td>1840</td>\n",
              "      <td>17069458</td>\n",
              "      <td>$833,371</td>\n",
              "      <td>4.88 cents</td>\n",
              "    </tr>\n",
              "    <tr>\n",
              "      <th>7</th>\n",
              "      <td>1850</td>\n",
              "      <td>23191876</td>\n",
              "      <td>$1,423,351</td>\n",
              "      <td>6.14 cents</td>\n",
              "    </tr>\n",
              "    <tr>\n",
              "      <th>8</th>\n",
              "      <td>1860</td>\n",
              "      <td>31443321</td>\n",
              "      <td>$1,969,377</td>\n",
              "      <td>6.26 cents</td>\n",
              "    </tr>\n",
              "    <tr>\n",
              "      <th>9</th>\n",
              "      <td>1870</td>\n",
              "      <td>38558371</td>\n",
              "      <td>$3,421,198</td>\n",
              "      <td>8.87 cents</td>\n",
              "    </tr>\n",
              "    <tr>\n",
              "      <th>10</th>\n",
              "      <td>1880</td>\n",
              "      <td>50155783</td>\n",
              "      <td>$5,790,678</td>\n",
              "      <td>11.54 cents</td>\n",
              "    </tr>\n",
              "    <tr>\n",
              "      <th>11</th>\n",
              "      <td>1890</td>\n",
              "      <td>62979766</td>\n",
              "      <td>$11,547,127</td>\n",
              "      <td>18.33 cents</td>\n",
              "    </tr>\n",
              "    <tr>\n",
              "      <th>12</th>\n",
              "      <td>1900</td>\n",
              "      <td>76303387</td>\n",
              "      <td>$11,854,000</td>\n",
              "      <td>15.54 cents</td>\n",
              "    </tr>\n",
              "    <tr>\n",
              "      <th>13</th>\n",
              "      <td>1910</td>\n",
              "      <td>91972266</td>\n",
              "      <td>$15,968,000</td>\n",
              "      <td>17.07 cents</td>\n",
              "    </tr>\n",
              "    <tr>\n",
              "      <th>14</th>\n",
              "      <td>1920</td>\n",
              "      <td>105710620</td>\n",
              "      <td>$25,117,000</td>\n",
              "      <td>23.76 cents</td>\n",
              "    </tr>\n",
              "    <tr>\n",
              "      <th>15</th>\n",
              "      <td>1930</td>\n",
              "      <td>122775046</td>\n",
              "      <td>$40,156,000</td>\n",
              "      <td>32.71 cents</td>\n",
              "    </tr>\n",
              "    <tr>\n",
              "      <th>16</th>\n",
              "      <td>1940</td>\n",
              "      <td>131669275</td>\n",
              "      <td>$67,527,000</td>\n",
              "      <td>51.29 cents</td>\n",
              "    </tr>\n",
              "    <tr>\n",
              "      <th>17</th>\n",
              "      <td>1950</td>\n",
              "      <td>151325798</td>\n",
              "      <td>$91,462,000</td>\n",
              "      <td>60.44 cents</td>\n",
              "    </tr>\n",
              "    <tr>\n",
              "      <th>18</th>\n",
              "      <td>1960</td>\n",
              "      <td>179323175</td>\n",
              "      <td>$127,934,000</td>\n",
              "      <td>71.34 cents</td>\n",
              "    </tr>\n",
              "    <tr>\n",
              "      <th>19</th>\n",
              "      <td>1970</td>\n",
              "      <td>203302031</td>\n",
              "      <td>$247,653,000</td>\n",
              "      <td>$1.22</td>\n",
              "    </tr>\n",
              "    <tr>\n",
              "      <th>20</th>\n",
              "      <td>1980</td>\n",
              "      <td>226542199</td>\n",
              "      <td>$1,078,488,000</td>\n",
              "      <td>$4.76</td>\n",
              "    </tr>\n",
              "    <tr>\n",
              "      <th>21</th>\n",
              "      <td>1990</td>\n",
              "      <td>248718301</td>\n",
              "      <td>$2,492,830,000</td>\n",
              "      <td>$10.02</td>\n",
              "    </tr>\n",
              "    <tr>\n",
              "      <th>22</th>\n",
              "      <td>2000</td>\n",
              "      <td>281421906</td>\n",
              "      <td>$4.5 Billion</td>\n",
              "      <td>$15.99</td>\n",
              "    </tr>\n",
              "    <tr>\n",
              "      <th>23</th>\n",
              "      <td>2010*</td>\n",
              "      <td>308745538</td>\n",
              "      <td>$13 Billion</td>\n",
              "      <td>$42.11</td>\n",
              "    </tr>\n",
              "  </tbody>\n",
              "</table>\n",
              "</div>"
            ],
            "text/plain": [
              "              0                 1               2                        3\n",
              "0   Census Year  Total Population     Census Cost  Average Cost Per Person\n",
              "1          1790           3929214         $44,377               1.13 cents\n",
              "2          1800           5308483         $66,109               1.24 cents\n",
              "3          1810           7239881        $178,445               2.46 cents\n",
              "4          1820           9633822        $208,526               2.16 cents\n",
              "5          1830          12866020        $378,545               2.94 cents\n",
              "6          1840          17069458        $833,371               4.88 cents\n",
              "7          1850          23191876      $1,423,351               6.14 cents\n",
              "8          1860          31443321      $1,969,377               6.26 cents\n",
              "9          1870          38558371      $3,421,198               8.87 cents\n",
              "10         1880          50155783      $5,790,678              11.54 cents\n",
              "11         1890          62979766     $11,547,127              18.33 cents\n",
              "12         1900          76303387     $11,854,000              15.54 cents\n",
              "13         1910          91972266     $15,968,000              17.07 cents\n",
              "14         1920         105710620     $25,117,000              23.76 cents\n",
              "15         1930         122775046     $40,156,000              32.71 cents\n",
              "16         1940         131669275     $67,527,000              51.29 cents\n",
              "17         1950         151325798     $91,462,000              60.44 cents\n",
              "18         1960         179323175    $127,934,000              71.34 cents\n",
              "19         1970         203302031    $247,653,000                    $1.22\n",
              "20         1980         226542199  $1,078,488,000                    $4.76\n",
              "21         1990         248718301  $2,492,830,000                   $10.02\n",
              "22         2000         281421906    $4.5 Billion                   $15.99\n",
              "23        2010*         308745538     $13 Billion                   $42.11"
            ]
          },
          "metadata": {
            "tags": []
          },
          "execution_count": 3
        }
      ]
    },
    {
      "cell_type": "code",
      "metadata": {
        "id": "RjnsR9gEDGH9",
        "outputId": "ad85ff1b-34df-47c8-b64c-3d5592986bfd",
        "colab": {
          "base_uri": "https://localhost:8080/",
          "height": 77
        }
      },
      "source": [
        "#We set the second table in df2\n",
        "df2 = df_list[1]\n",
        "df2"
      ],
      "execution_count": 4,
      "outputs": [
        {
          "output_type": "execute_result",
          "data": {
            "text/html": [
              "<div>\n",
              "<style scoped>\n",
              "    .dataframe tbody tr th:only-of-type {\n",
              "        vertical-align: middle;\n",
              "    }\n",
              "\n",
              "    .dataframe tbody tr th {\n",
              "        vertical-align: top;\n",
              "    }\n",
              "\n",
              "    .dataframe thead th {\n",
              "        text-align: right;\n",
              "    }\n",
              "</style>\n",
              "<table border=\"1\" class=\"dataframe\">\n",
              "  <thead>\n",
              "    <tr style=\"text-align: right;\">\n",
              "      <th></th>\n",
              "      <th>0</th>\n",
              "    </tr>\n",
              "  </thead>\n",
              "  <tbody>\n",
              "    <tr>\n",
              "      <th>0</th>\n",
              "      <td>The U.S. population reached 300,000,000 on 17 ...</td>\n",
              "    </tr>\n",
              "  </tbody>\n",
              "</table>\n",
              "</div>"
            ],
            "text/plain": [
              "                                                   0\n",
              "0  The U.S. population reached 300,000,000 on 17 ..."
            ]
          },
          "metadata": {
            "tags": []
          },
          "execution_count": 4
        }
      ]
    },
    {
      "cell_type": "markdown",
      "metadata": {
        "id": "lFnu9oXjZldo"
      },
      "source": [
        "**3. Display and explore the data (rows, columns, etc.) and determine the data quality (bad rows, bad columns, bad elements, null values, etc.)**"
      ]
    },
    {
      "cell_type": "code",
      "metadata": {
        "id": "QiAUnX0gDIxu",
        "outputId": "2d510a43-0a79-409f-dcde-d8e7159b69ca",
        "colab": {
          "base_uri": "https://localhost:8080/",
          "height": 34
        }
      },
      "source": [
        "#We check for the rows and columns. We have 24 rows and 4 columns.\n",
        "df1.shape"
      ],
      "execution_count": 5,
      "outputs": [
        {
          "output_type": "execute_result",
          "data": {
            "text/plain": [
              "(24, 4)"
            ]
          },
          "metadata": {
            "tags": []
          },
          "execution_count": 5
        }
      ]
    },
    {
      "cell_type": "code",
      "metadata": {
        "id": "SLFkL9PN_czT",
        "outputId": "60063b33-390e-43b5-b3c4-b2043199e3a3",
        "colab": {
          "base_uri": "https://localhost:8080/",
          "height": 758
        }
      },
      "source": [
        "#We check which value amongst all of these is null and none are. \n",
        "df1.isnull()"
      ],
      "execution_count": 6,
      "outputs": [
        {
          "output_type": "execute_result",
          "data": {
            "text/html": [
              "<div>\n",
              "<style scoped>\n",
              "    .dataframe tbody tr th:only-of-type {\n",
              "        vertical-align: middle;\n",
              "    }\n",
              "\n",
              "    .dataframe tbody tr th {\n",
              "        vertical-align: top;\n",
              "    }\n",
              "\n",
              "    .dataframe thead th {\n",
              "        text-align: right;\n",
              "    }\n",
              "</style>\n",
              "<table border=\"1\" class=\"dataframe\">\n",
              "  <thead>\n",
              "    <tr style=\"text-align: right;\">\n",
              "      <th></th>\n",
              "      <th>0</th>\n",
              "      <th>1</th>\n",
              "      <th>2</th>\n",
              "      <th>3</th>\n",
              "    </tr>\n",
              "  </thead>\n",
              "  <tbody>\n",
              "    <tr>\n",
              "      <th>0</th>\n",
              "      <td>False</td>\n",
              "      <td>False</td>\n",
              "      <td>False</td>\n",
              "      <td>False</td>\n",
              "    </tr>\n",
              "    <tr>\n",
              "      <th>1</th>\n",
              "      <td>False</td>\n",
              "      <td>False</td>\n",
              "      <td>False</td>\n",
              "      <td>False</td>\n",
              "    </tr>\n",
              "    <tr>\n",
              "      <th>2</th>\n",
              "      <td>False</td>\n",
              "      <td>False</td>\n",
              "      <td>False</td>\n",
              "      <td>False</td>\n",
              "    </tr>\n",
              "    <tr>\n",
              "      <th>3</th>\n",
              "      <td>False</td>\n",
              "      <td>False</td>\n",
              "      <td>False</td>\n",
              "      <td>False</td>\n",
              "    </tr>\n",
              "    <tr>\n",
              "      <th>4</th>\n",
              "      <td>False</td>\n",
              "      <td>False</td>\n",
              "      <td>False</td>\n",
              "      <td>False</td>\n",
              "    </tr>\n",
              "    <tr>\n",
              "      <th>5</th>\n",
              "      <td>False</td>\n",
              "      <td>False</td>\n",
              "      <td>False</td>\n",
              "      <td>False</td>\n",
              "    </tr>\n",
              "    <tr>\n",
              "      <th>6</th>\n",
              "      <td>False</td>\n",
              "      <td>False</td>\n",
              "      <td>False</td>\n",
              "      <td>False</td>\n",
              "    </tr>\n",
              "    <tr>\n",
              "      <th>7</th>\n",
              "      <td>False</td>\n",
              "      <td>False</td>\n",
              "      <td>False</td>\n",
              "      <td>False</td>\n",
              "    </tr>\n",
              "    <tr>\n",
              "      <th>8</th>\n",
              "      <td>False</td>\n",
              "      <td>False</td>\n",
              "      <td>False</td>\n",
              "      <td>False</td>\n",
              "    </tr>\n",
              "    <tr>\n",
              "      <th>9</th>\n",
              "      <td>False</td>\n",
              "      <td>False</td>\n",
              "      <td>False</td>\n",
              "      <td>False</td>\n",
              "    </tr>\n",
              "    <tr>\n",
              "      <th>10</th>\n",
              "      <td>False</td>\n",
              "      <td>False</td>\n",
              "      <td>False</td>\n",
              "      <td>False</td>\n",
              "    </tr>\n",
              "    <tr>\n",
              "      <th>11</th>\n",
              "      <td>False</td>\n",
              "      <td>False</td>\n",
              "      <td>False</td>\n",
              "      <td>False</td>\n",
              "    </tr>\n",
              "    <tr>\n",
              "      <th>12</th>\n",
              "      <td>False</td>\n",
              "      <td>False</td>\n",
              "      <td>False</td>\n",
              "      <td>False</td>\n",
              "    </tr>\n",
              "    <tr>\n",
              "      <th>13</th>\n",
              "      <td>False</td>\n",
              "      <td>False</td>\n",
              "      <td>False</td>\n",
              "      <td>False</td>\n",
              "    </tr>\n",
              "    <tr>\n",
              "      <th>14</th>\n",
              "      <td>False</td>\n",
              "      <td>False</td>\n",
              "      <td>False</td>\n",
              "      <td>False</td>\n",
              "    </tr>\n",
              "    <tr>\n",
              "      <th>15</th>\n",
              "      <td>False</td>\n",
              "      <td>False</td>\n",
              "      <td>False</td>\n",
              "      <td>False</td>\n",
              "    </tr>\n",
              "    <tr>\n",
              "      <th>16</th>\n",
              "      <td>False</td>\n",
              "      <td>False</td>\n",
              "      <td>False</td>\n",
              "      <td>False</td>\n",
              "    </tr>\n",
              "    <tr>\n",
              "      <th>17</th>\n",
              "      <td>False</td>\n",
              "      <td>False</td>\n",
              "      <td>False</td>\n",
              "      <td>False</td>\n",
              "    </tr>\n",
              "    <tr>\n",
              "      <th>18</th>\n",
              "      <td>False</td>\n",
              "      <td>False</td>\n",
              "      <td>False</td>\n",
              "      <td>False</td>\n",
              "    </tr>\n",
              "    <tr>\n",
              "      <th>19</th>\n",
              "      <td>False</td>\n",
              "      <td>False</td>\n",
              "      <td>False</td>\n",
              "      <td>False</td>\n",
              "    </tr>\n",
              "    <tr>\n",
              "      <th>20</th>\n",
              "      <td>False</td>\n",
              "      <td>False</td>\n",
              "      <td>False</td>\n",
              "      <td>False</td>\n",
              "    </tr>\n",
              "    <tr>\n",
              "      <th>21</th>\n",
              "      <td>False</td>\n",
              "      <td>False</td>\n",
              "      <td>False</td>\n",
              "      <td>False</td>\n",
              "    </tr>\n",
              "    <tr>\n",
              "      <th>22</th>\n",
              "      <td>False</td>\n",
              "      <td>False</td>\n",
              "      <td>False</td>\n",
              "      <td>False</td>\n",
              "    </tr>\n",
              "    <tr>\n",
              "      <th>23</th>\n",
              "      <td>False</td>\n",
              "      <td>False</td>\n",
              "      <td>False</td>\n",
              "      <td>False</td>\n",
              "    </tr>\n",
              "  </tbody>\n",
              "</table>\n",
              "</div>"
            ],
            "text/plain": [
              "        0      1      2      3\n",
              "0   False  False  False  False\n",
              "1   False  False  False  False\n",
              "2   False  False  False  False\n",
              "3   False  False  False  False\n",
              "4   False  False  False  False\n",
              "5   False  False  False  False\n",
              "6   False  False  False  False\n",
              "7   False  False  False  False\n",
              "8   False  False  False  False\n",
              "9   False  False  False  False\n",
              "10  False  False  False  False\n",
              "11  False  False  False  False\n",
              "12  False  False  False  False\n",
              "13  False  False  False  False\n",
              "14  False  False  False  False\n",
              "15  False  False  False  False\n",
              "16  False  False  False  False\n",
              "17  False  False  False  False\n",
              "18  False  False  False  False\n",
              "19  False  False  False  False\n",
              "20  False  False  False  False\n",
              "21  False  False  False  False\n",
              "22  False  False  False  False\n",
              "23  False  False  False  False"
            ]
          },
          "metadata": {
            "tags": []
          },
          "execution_count": 6
        }
      ]
    },
    {
      "cell_type": "code",
      "metadata": {
        "id": "cI0vi8Ci_di1",
        "outputId": "8f1d9169-7b6b-4988-d5df-a244063ad271",
        "colab": {
          "base_uri": "https://localhost:8080/",
          "height": 34
        }
      },
      "source": [
        "\"\"\"\n",
        "If we can see in this example and the one below, we only have column headers with\n",
        "the column indexes(0,1, 2, 3) rather than the words that define each column(On second row). \n",
        "\"\"\"\n",
        "df1.columns"
      ],
      "execution_count": 7,
      "outputs": [
        {
          "output_type": "execute_result",
          "data": {
            "text/plain": [
              "Int64Index([0, 1, 2, 3], dtype='int64')"
            ]
          },
          "metadata": {
            "tags": []
          },
          "execution_count": 7
        }
      ]
    },
    {
      "cell_type": "code",
      "metadata": {
        "id": "2F-hXMas_c2Q",
        "outputId": "1fc9e2e1-f9ea-4f36-b5d9-904e53aafc07",
        "colab": {
          "base_uri": "https://localhost:8080/",
          "height": 195
        }
      },
      "source": [
        "#Take a look at the header and the first row. \n",
        "df1.head()"
      ],
      "execution_count": 8,
      "outputs": [
        {
          "output_type": "execute_result",
          "data": {
            "text/html": [
              "<div>\n",
              "<style scoped>\n",
              "    .dataframe tbody tr th:only-of-type {\n",
              "        vertical-align: middle;\n",
              "    }\n",
              "\n",
              "    .dataframe tbody tr th {\n",
              "        vertical-align: top;\n",
              "    }\n",
              "\n",
              "    .dataframe thead th {\n",
              "        text-align: right;\n",
              "    }\n",
              "</style>\n",
              "<table border=\"1\" class=\"dataframe\">\n",
              "  <thead>\n",
              "    <tr style=\"text-align: right;\">\n",
              "      <th></th>\n",
              "      <th>0</th>\n",
              "      <th>1</th>\n",
              "      <th>2</th>\n",
              "      <th>3</th>\n",
              "    </tr>\n",
              "  </thead>\n",
              "  <tbody>\n",
              "    <tr>\n",
              "      <th>0</th>\n",
              "      <td>Census Year</td>\n",
              "      <td>Total Population</td>\n",
              "      <td>Census Cost</td>\n",
              "      <td>Average Cost Per Person</td>\n",
              "    </tr>\n",
              "    <tr>\n",
              "      <th>1</th>\n",
              "      <td>1790</td>\n",
              "      <td>3929214</td>\n",
              "      <td>$44,377</td>\n",
              "      <td>1.13 cents</td>\n",
              "    </tr>\n",
              "    <tr>\n",
              "      <th>2</th>\n",
              "      <td>1800</td>\n",
              "      <td>5308483</td>\n",
              "      <td>$66,109</td>\n",
              "      <td>1.24 cents</td>\n",
              "    </tr>\n",
              "    <tr>\n",
              "      <th>3</th>\n",
              "      <td>1810</td>\n",
              "      <td>7239881</td>\n",
              "      <td>$178,445</td>\n",
              "      <td>2.46 cents</td>\n",
              "    </tr>\n",
              "    <tr>\n",
              "      <th>4</th>\n",
              "      <td>1820</td>\n",
              "      <td>9633822</td>\n",
              "      <td>$208,526</td>\n",
              "      <td>2.16 cents</td>\n",
              "    </tr>\n",
              "  </tbody>\n",
              "</table>\n",
              "</div>"
            ],
            "text/plain": [
              "             0                 1            2                        3\n",
              "0  Census Year  Total Population  Census Cost  Average Cost Per Person\n",
              "1         1790           3929214      $44,377               1.13 cents\n",
              "2         1800           5308483      $66,109               1.24 cents\n",
              "3         1810           7239881     $178,445               2.46 cents\n",
              "4         1820           9633822     $208,526               2.16 cents"
            ]
          },
          "metadata": {
            "tags": []
          },
          "execution_count": 8
        }
      ]
    },
    {
      "cell_type": "markdown",
      "metadata": {
        "id": "lYCtxy1jZxpJ"
      },
      "source": [
        "**4. Document the data quality issues using a Markdown cell so the reader understands what the problems are.**\n",
        "- Our main issue is that we have the main header of the columns as 0, 1, 2, 3 and all. They do not represent anything. The headers show us what each column in the dataset represents and they are located in the first row instead of the header. So, we replace it in order to make: census year, total population and all the headers."
      ]
    },
    {
      "cell_type": "code",
      "metadata": {
        "id": "MNLIPUz5FUzh",
        "outputId": "54a32c00-3a77-4b97-9a92-512b4f65a7a9",
        "colab": {
          "base_uri": "https://localhost:8080/",
          "height": 34
        }
      },
      "source": [
        "# the first row is bad quality as it writes (1, 2, 3) and those are not the titles of the rows\n",
        "df1.columns"
      ],
      "execution_count": 9,
      "outputs": [
        {
          "output_type": "execute_result",
          "data": {
            "text/plain": [
              "Int64Index([0, 1, 2, 3], dtype='int64')"
            ]
          },
          "metadata": {
            "tags": []
          },
          "execution_count": 9
        }
      ]
    },
    {
      "cell_type": "code",
      "metadata": {
        "id": "NHhEAgrQGVk0",
        "outputId": "e7195b38-72a3-4f7a-8575-fc96cdac2c9a",
        "colab": {
          "base_uri": "https://localhost:8080/",
          "height": 101
        }
      },
      "source": [
        "# We check our heading of each column and indexes are the heading instead of the ('Census Year', 'Total Population', etc)\n",
        "head_row = df1.iloc[0]\n",
        "head_row"
      ],
      "execution_count": 10,
      "outputs": [
        {
          "output_type": "execute_result",
          "data": {
            "text/plain": [
              "0                Census Year\n",
              "1           Total Population\n",
              "2                Census Cost\n",
              "3    Average Cost Per Person\n",
              "Name: 0, dtype: object"
            ]
          },
          "metadata": {
            "tags": []
          },
          "execution_count": 10
        }
      ]
    },
    {
      "cell_type": "code",
      "metadata": {
        "id": "sTkaFqjnGJiK",
        "outputId": "efc7107a-4d80-45ed-c747-2ae07d6c0590",
        "colab": {
          "base_uri": "https://localhost:8080/",
          "height": 195
        }
      },
      "source": [
        "\"\"\"\n",
        "We set our column header to the first row which would be the header data.\n",
        "However, we still have that same data as the first row along with header\n",
        "\"\"\"\n",
        "df1.columns = head_row\n",
        "df1.head()"
      ],
      "execution_count": 11,
      "outputs": [
        {
          "output_type": "execute_result",
          "data": {
            "text/html": [
              "<div>\n",
              "<style scoped>\n",
              "    .dataframe tbody tr th:only-of-type {\n",
              "        vertical-align: middle;\n",
              "    }\n",
              "\n",
              "    .dataframe tbody tr th {\n",
              "        vertical-align: top;\n",
              "    }\n",
              "\n",
              "    .dataframe thead th {\n",
              "        text-align: right;\n",
              "    }\n",
              "</style>\n",
              "<table border=\"1\" class=\"dataframe\">\n",
              "  <thead>\n",
              "    <tr style=\"text-align: right;\">\n",
              "      <th></th>\n",
              "      <th>Census Year</th>\n",
              "      <th>Total Population</th>\n",
              "      <th>Census Cost</th>\n",
              "      <th>Average Cost Per Person</th>\n",
              "    </tr>\n",
              "  </thead>\n",
              "  <tbody>\n",
              "    <tr>\n",
              "      <th>0</th>\n",
              "      <td>Census Year</td>\n",
              "      <td>Total Population</td>\n",
              "      <td>Census Cost</td>\n",
              "      <td>Average Cost Per Person</td>\n",
              "    </tr>\n",
              "    <tr>\n",
              "      <th>1</th>\n",
              "      <td>1790</td>\n",
              "      <td>3929214</td>\n",
              "      <td>$44,377</td>\n",
              "      <td>1.13 cents</td>\n",
              "    </tr>\n",
              "    <tr>\n",
              "      <th>2</th>\n",
              "      <td>1800</td>\n",
              "      <td>5308483</td>\n",
              "      <td>$66,109</td>\n",
              "      <td>1.24 cents</td>\n",
              "    </tr>\n",
              "    <tr>\n",
              "      <th>3</th>\n",
              "      <td>1810</td>\n",
              "      <td>7239881</td>\n",
              "      <td>$178,445</td>\n",
              "      <td>2.46 cents</td>\n",
              "    </tr>\n",
              "    <tr>\n",
              "      <th>4</th>\n",
              "      <td>1820</td>\n",
              "      <td>9633822</td>\n",
              "      <td>$208,526</td>\n",
              "      <td>2.16 cents</td>\n",
              "    </tr>\n",
              "  </tbody>\n",
              "</table>\n",
              "</div>"
            ],
            "text/plain": [
              "0  Census Year  Total Population  Census Cost  Average Cost Per Person\n",
              "0  Census Year  Total Population  Census Cost  Average Cost Per Person\n",
              "1         1790           3929214      $44,377               1.13 cents\n",
              "2         1800           5308483      $66,109               1.24 cents\n",
              "3         1810           7239881     $178,445               2.46 cents\n",
              "4         1820           9633822     $208,526               2.16 cents"
            ]
          },
          "metadata": {
            "tags": []
          },
          "execution_count": 11
        }
      ]
    },
    {
      "cell_type": "code",
      "metadata": {
        "id": "1RtJH7NWHScL",
        "outputId": "595fe5bc-99df-4284-d6af-d10def293bdd",
        "colab": {
          "base_uri": "https://localhost:8080/",
          "height": 195
        }
      },
      "source": [
        "#Due to the first row and header being same, we drop the first row in the table\n",
        "df1.drop([0], inplace = True)\n",
        "df1.head()"
      ],
      "execution_count": 12,
      "outputs": [
        {
          "output_type": "execute_result",
          "data": {
            "text/html": [
              "<div>\n",
              "<style scoped>\n",
              "    .dataframe tbody tr th:only-of-type {\n",
              "        vertical-align: middle;\n",
              "    }\n",
              "\n",
              "    .dataframe tbody tr th {\n",
              "        vertical-align: top;\n",
              "    }\n",
              "\n",
              "    .dataframe thead th {\n",
              "        text-align: right;\n",
              "    }\n",
              "</style>\n",
              "<table border=\"1\" class=\"dataframe\">\n",
              "  <thead>\n",
              "    <tr style=\"text-align: right;\">\n",
              "      <th></th>\n",
              "      <th>Census Year</th>\n",
              "      <th>Total Population</th>\n",
              "      <th>Census Cost</th>\n",
              "      <th>Average Cost Per Person</th>\n",
              "    </tr>\n",
              "  </thead>\n",
              "  <tbody>\n",
              "    <tr>\n",
              "      <th>1</th>\n",
              "      <td>1790</td>\n",
              "      <td>3929214</td>\n",
              "      <td>$44,377</td>\n",
              "      <td>1.13 cents</td>\n",
              "    </tr>\n",
              "    <tr>\n",
              "      <th>2</th>\n",
              "      <td>1800</td>\n",
              "      <td>5308483</td>\n",
              "      <td>$66,109</td>\n",
              "      <td>1.24 cents</td>\n",
              "    </tr>\n",
              "    <tr>\n",
              "      <th>3</th>\n",
              "      <td>1810</td>\n",
              "      <td>7239881</td>\n",
              "      <td>$178,445</td>\n",
              "      <td>2.46 cents</td>\n",
              "    </tr>\n",
              "    <tr>\n",
              "      <th>4</th>\n",
              "      <td>1820</td>\n",
              "      <td>9633822</td>\n",
              "      <td>$208,526</td>\n",
              "      <td>2.16 cents</td>\n",
              "    </tr>\n",
              "    <tr>\n",
              "      <th>5</th>\n",
              "      <td>1830</td>\n",
              "      <td>12866020</td>\n",
              "      <td>$378,545</td>\n",
              "      <td>2.94 cents</td>\n",
              "    </tr>\n",
              "  </tbody>\n",
              "</table>\n",
              "</div>"
            ],
            "text/plain": [
              "0 Census Year Total Population Census Cost Average Cost Per Person\n",
              "1        1790          3929214     $44,377              1.13 cents\n",
              "2        1800          5308483     $66,109              1.24 cents\n",
              "3        1810          7239881    $178,445              2.46 cents\n",
              "4        1820          9633822    $208,526              2.16 cents\n",
              "5        1830         12866020    $378,545              2.94 cents"
            ]
          },
          "metadata": {
            "tags": []
          },
          "execution_count": 12
        }
      ]
    },
    {
      "cell_type": "markdown",
      "metadata": {
        "id": "va4G53Z5ZU_V"
      },
      "source": [
        "**5. Write a function named cleanse_year() that takes a string as input and removes any asterisks in the string and return the cleansed string. Test the function by using test strings (for example, \"1989*\", \"20*10\")**"
      ]
    },
    {
      "cell_type": "markdown",
      "metadata": {
        "id": "Kh0pQ8mfdO91"
      },
      "source": [
        "- We are cleansing the cunsus year data"
      ]
    },
    {
      "cell_type": "code",
      "metadata": {
        "id": "yoetzmOWY6Zu"
      },
      "source": [
        "\"\"\"\n",
        "We develop a function that will take the year data from the table and cleanse it,\n",
        "so that it has the correct format. Therefore, in this case we look for a ('*')\n",
        "and remove it from the data values. \n",
        "\"\"\"\n",
        "def cleanse_year(str):\n",
        "  str = str.replace('*', '')\n",
        "  return str"
      ],
      "execution_count": 13,
      "outputs": []
    },
    {
      "cell_type": "code",
      "metadata": {
        "id": "t7dm5Hps8A0K",
        "outputId": "90590fef-9a22-4d1f-ab6d-a73bd32db767",
        "colab": {
          "base_uri": "https://localhost:8080/",
          "height": 403
        }
      },
      "source": [
        "#We test the function by checking it with the census year values in the dataframe.\n",
        "for i in df1['Census Year']:\n",
        "  print(cleanse_year(i))"
      ],
      "execution_count": 14,
      "outputs": [
        {
          "output_type": "stream",
          "text": [
            "1790\n",
            "1800\n",
            "1810\n",
            "1820\n",
            "1830\n",
            "1840\n",
            "1850\n",
            "1860\n",
            "1870\n",
            "1880\n",
            "1890\n",
            "1900\n",
            "1910\n",
            "1920\n",
            "1930\n",
            "1940\n",
            "1950\n",
            "1960\n",
            "1970\n",
            "1980\n",
            "1990\n",
            "2000\n",
            "2010\n"
          ],
          "name": "stdout"
        }
      ]
    },
    {
      "cell_type": "code",
      "metadata": {
        "id": "IeK-lnbUZRFS",
        "outputId": "1bd100e8-504e-41c2-ef0d-b9787f974f58",
        "colab": {
          "base_uri": "https://localhost:8080/",
          "height": 420
        }
      },
      "source": [
        "# We apply the cleanse year function and update the census year column in the data frame.\n",
        "df1['Census Year'] = df1['Census Year'].apply(cleanse_year)\n",
        "df1['Census Year']"
      ],
      "execution_count": 15,
      "outputs": [
        {
          "output_type": "execute_result",
          "data": {
            "text/plain": [
              "1     1790\n",
              "2     1800\n",
              "3     1810\n",
              "4     1820\n",
              "5     1830\n",
              "6     1840\n",
              "7     1850\n",
              "8     1860\n",
              "9     1870\n",
              "10    1880\n",
              "11    1890\n",
              "12    1900\n",
              "13    1910\n",
              "14    1920\n",
              "15    1930\n",
              "16    1940\n",
              "17    1950\n",
              "18    1960\n",
              "19    1970\n",
              "20    1980\n",
              "21    1990\n",
              "22    2000\n",
              "23    2010\n",
              "Name: Census Year, dtype: object"
            ]
          },
          "metadata": {
            "tags": []
          },
          "execution_count": 15
        }
      ]
    },
    {
      "cell_type": "markdown",
      "metadata": {
        "id": "rKzAmPZrsclP"
      },
      "source": [
        "**7. Repeat this process for column \"Total Population\", \"Census Cost\", \"Average Cost Per Person\". (define, test, and apply the function)**"
      ]
    },
    {
      "cell_type": "markdown",
      "metadata": {
        "id": "wTZH7lMjvBKo"
      },
      "source": [
        "- We are cleansing the data for population"
      ]
    },
    {
      "cell_type": "code",
      "metadata": {
        "id": "_TRpes9vt4Dz"
      },
      "source": [
        "\"\"\"\n",
        "We develop a function that will take the population data from the table and cleanse it,\n",
        "so that it has the correct format. Therefore, in this case we look for commas\n",
        "and remove it from the respective column in the dataframe. \n",
        "\"\"\"\n",
        "def cleanse_pop(str):\n",
        "  str = str.replace(',', '')\n",
        "  return str"
      ],
      "execution_count": 16,
      "outputs": []
    },
    {
      "cell_type": "code",
      "metadata": {
        "id": "qgEHv4-47bnh",
        "outputId": "9ae16327-a96f-43e7-8402-2f85b4020b4c",
        "colab": {
          "base_uri": "https://localhost:8080/",
          "height": 403
        }
      },
      "source": [
        "#We test the function by adding the values from population column in the dataframe.\n",
        "for i in df1['Total Population']:\n",
        "  print(cleanse_pop(i))"
      ],
      "execution_count": 17,
      "outputs": [
        {
          "output_type": "stream",
          "text": [
            "3929214\n",
            "5308483\n",
            "7239881\n",
            "9633822\n",
            "12866020\n",
            "17069458\n",
            "23191876\n",
            "31443321\n",
            "38558371\n",
            "50155783\n",
            "62979766\n",
            "76303387\n",
            "91972266\n",
            "105710620\n",
            "122775046\n",
            "131669275\n",
            "151325798\n",
            "179323175\n",
            "203302031\n",
            "226542199\n",
            "248718301\n",
            "281421906\n",
            "308745538\n"
          ],
          "name": "stdout"
        }
      ]
    },
    {
      "cell_type": "code",
      "metadata": {
        "id": "brv-9zjyuik_",
        "outputId": "d195e706-a06f-4efe-cee8-b2fc677aac51",
        "colab": {
          "base_uri": "https://localhost:8080/",
          "height": 420
        }
      },
      "source": [
        "# We apply the cleanse population (pop) function and update the census population column in the data frame.\n",
        "df1['Total Population'] = df1['Total Population'].apply(cleanse_pop)\n",
        "df1['Total Population']"
      ],
      "execution_count": 18,
      "outputs": [
        {
          "output_type": "execute_result",
          "data": {
            "text/plain": [
              "1       3929214\n",
              "2       5308483\n",
              "3       7239881\n",
              "4       9633822\n",
              "5      12866020\n",
              "6      17069458\n",
              "7      23191876\n",
              "8      31443321\n",
              "9      38558371\n",
              "10     50155783\n",
              "11     62979766\n",
              "12     76303387\n",
              "13     91972266\n",
              "14    105710620\n",
              "15    122775046\n",
              "16    131669275\n",
              "17    151325798\n",
              "18    179323175\n",
              "19    203302031\n",
              "20    226542199\n",
              "21    248718301\n",
              "22    281421906\n",
              "23    308745538\n",
              "Name: Total Population, dtype: object"
            ]
          },
          "metadata": {
            "tags": []
          },
          "execution_count": 18
        }
      ]
    },
    {
      "cell_type": "markdown",
      "metadata": {
        "id": "IPxFX0Xsu-c7"
      },
      "source": [
        "- We are cleansing the census cost field. "
      ]
    },
    {
      "cell_type": "code",
      "metadata": {
        "id": "zS26EU8vu4cZ"
      },
      "source": [
        "\"\"\"\n",
        "We develop a function that will take the census cost data from the table and cleanse it,\n",
        "so that it has the correct format. We take the dollar signs and commas and remove them\n",
        "from the datasets in the column. We have a row that says the data is 4.5 billion. We\n",
        "update that row and add 8 zeroes after 45 as 4.5 billion would mean that we would need to\n",
        "add 8 0's as decimal place is also counted. We also checked for the row that has 13 billion,\n",
        "but added 9 zeroes after it as we had no decimals and a billion has 9 zeroes.\n",
        "\"\"\"\n",
        "def cleanse_cost(cost_str):\n",
        "  upd_cost = cost_str.replace('$', '')\n",
        "  upd_cost = upd_cost.replace(',', '')\n",
        "  \n",
        "  if cost_str.find(\"4.5\") == 1:\n",
        "    upd_cost = \"45\" + \"0\" * 8\n",
        "  elif cost_str.find('Billion') != -1:\n",
        "    upd_cost = '13' + '0' * 9\n",
        "  return upd_cost"
      ],
      "execution_count": 19,
      "outputs": []
    },
    {
      "cell_type": "code",
      "metadata": {
        "id": "T_uP5PsD6rsv",
        "outputId": "3589d884-7503-4d72-dc3a-e670d0d16eed",
        "colab": {
          "base_uri": "https://localhost:8080/",
          "height": 403
        }
      },
      "source": [
        "#We test the function by adding the values from census cost column in the dataframe.\n",
        "for i in df1['Census Cost']:\n",
        "  print(cleanse_cost(i))"
      ],
      "execution_count": 20,
      "outputs": [
        {
          "output_type": "stream",
          "text": [
            "44377\n",
            "66109\n",
            "178445\n",
            "208526\n",
            "378545\n",
            "833371\n",
            "1423351\n",
            "1969377\n",
            "3421198\n",
            "5790678\n",
            "11547127\n",
            "11854000\n",
            "15968000\n",
            "25117000\n",
            "40156000\n",
            "67527000\n",
            "91462000\n",
            "127934000\n",
            "247653000\n",
            "1078488000\n",
            "2492830000\n",
            "4500000000\n",
            "13000000000\n"
          ],
          "name": "stdout"
        }
      ]
    },
    {
      "cell_type": "code",
      "metadata": {
        "id": "d3y8xP2kv1KT",
        "outputId": "ebff5127-e666-4aab-bf1f-f5ca479c6b74",
        "colab": {
          "base_uri": "https://localhost:8080/",
          "height": 420
        }
      },
      "source": [
        "# We apply the cleanse cost function and update the census population column in the data frame.\n",
        "df1['Census Cost'] = df1['Census Cost'].apply(cleanse_cost)\n",
        "df1['Census Cost']"
      ],
      "execution_count": 21,
      "outputs": [
        {
          "output_type": "execute_result",
          "data": {
            "text/plain": [
              "1           44377\n",
              "2           66109\n",
              "3          178445\n",
              "4          208526\n",
              "5          378545\n",
              "6          833371\n",
              "7         1423351\n",
              "8         1969377\n",
              "9         3421198\n",
              "10        5790678\n",
              "11       11547127\n",
              "12       11854000\n",
              "13       15968000\n",
              "14       25117000\n",
              "15       40156000\n",
              "16       67527000\n",
              "17       91462000\n",
              "18      127934000\n",
              "19      247653000\n",
              "20     1078488000\n",
              "21     2492830000\n",
              "22     4500000000\n",
              "23    13000000000\n",
              "Name: Census Cost, dtype: object"
            ]
          },
          "metadata": {
            "tags": []
          },
          "execution_count": 21
        }
      ]
    },
    {
      "cell_type": "code",
      "metadata": {
        "id": "cU-IzNECnpEF"
      },
      "source": [
        "\"\"\"\n",
        "We develop a function that will take the average census cost data from the table and cleanse it,\n",
        "so that it has the correct format. We take the dollar signs and remove it from the datasets in the column.\n",
        "Following that, we check for the rows that have the words, 'cents in them and remove that word. After that, \n",
        "we must convert the cents into dollar formats as all other datas are in that format. Therefore, we converted the \n",
        "string datas to floating point and divided it by 100 as 1 dollar is 100 cents and to convert from cents to dollars\n",
        "we need to divide it by 100. After that, we converted the other datas to string to maintain consistency with all rows.\n",
        "\"\"\"\n",
        "def cleanse_avg_cost(avg_cost):\n",
        "  upd_avg_cost = avg_cost.replace('$', '')\n",
        "\n",
        "  if (avg_cost.find('cents') != -1):\n",
        "    upd_avg_cost = avg_cost.replace(\" cents\", \"\")\n",
        "    upd_avg_cost = float(upd_avg_cost)\n",
        "    upd_avg_cost = round((upd_avg_cost/ 100), 4)\n",
        "    upd_avg_cost = str(upd_avg_cost)\n",
        "\n",
        "  return upd_avg_cost"
      ],
      "execution_count": 22,
      "outputs": []
    },
    {
      "cell_type": "code",
      "metadata": {
        "id": "x-6jjPtl7QCB",
        "outputId": "1bbd0094-ad95-4bfb-9c81-0677317ccc64",
        "colab": {
          "base_uri": "https://localhost:8080/",
          "height": 403
        }
      },
      "source": [
        "#We test the function by adding the values from average census cost per person column in the dataframe.\n",
        "for i in df1['Average Cost Per Person']:\n",
        "  print(cleanse_avg_cost(i))"
      ],
      "execution_count": 23,
      "outputs": [
        {
          "output_type": "stream",
          "text": [
            "0.0113\n",
            "0.0124\n",
            "0.0246\n",
            "0.0216\n",
            "0.0294\n",
            "0.0488\n",
            "0.0614\n",
            "0.0626\n",
            "0.0887\n",
            "0.1154\n",
            "0.1833\n",
            "0.1554\n",
            "0.1707\n",
            "0.2376\n",
            "0.3271\n",
            "0.5129\n",
            "0.6044\n",
            "0.7134\n",
            "1.22\n",
            "4.76\n",
            "10.02\n",
            "15.99\n",
            "42.11\n"
          ],
          "name": "stdout"
        }
      ]
    },
    {
      "cell_type": "code",
      "metadata": {
        "id": "ST6Ra7aFrcfk",
        "outputId": "4357c141-600a-4aaa-d03d-46705bacb009",
        "colab": {
          "base_uri": "https://localhost:8080/",
          "height": 420
        }
      },
      "source": [
        "# We apply the average cleanse cost per person function and update the average census cost population column in the data frame.\n",
        "df1['Average Cost Per Person'] = df1['Average Cost Per Person'].apply(cleanse_avg_cost)\n",
        "df1['Average Cost Per Person']"
      ],
      "execution_count": 24,
      "outputs": [
        {
          "output_type": "execute_result",
          "data": {
            "text/plain": [
              "1     0.0113\n",
              "2     0.0124\n",
              "3     0.0246\n",
              "4     0.0216\n",
              "5     0.0294\n",
              "6     0.0488\n",
              "7     0.0614\n",
              "8     0.0626\n",
              "9     0.0887\n",
              "10    0.1154\n",
              "11    0.1833\n",
              "12    0.1554\n",
              "13    0.1707\n",
              "14    0.2376\n",
              "15    0.3271\n",
              "16    0.5129\n",
              "17    0.6044\n",
              "18    0.7134\n",
              "19      1.22\n",
              "20      4.76\n",
              "21     10.02\n",
              "22     15.99\n",
              "23     42.11\n",
              "Name: Average Cost Per Person, dtype: object"
            ]
          },
          "metadata": {
            "tags": []
          },
          "execution_count": 24
        }
      ]
    },
    {
      "cell_type": "code",
      "metadata": {
        "id": "m11LdAmV9qc-",
        "outputId": "e2a24308-98c9-4653-fc47-0c682c7fca1d",
        "colab": {
          "base_uri": "https://localhost:8080/",
          "height": 728
        }
      },
      "source": [
        "#This is the output of our dataframe updated with cleansed data.\n",
        "df1"
      ],
      "execution_count": 25,
      "outputs": [
        {
          "output_type": "execute_result",
          "data": {
            "text/html": [
              "<div>\n",
              "<style scoped>\n",
              "    .dataframe tbody tr th:only-of-type {\n",
              "        vertical-align: middle;\n",
              "    }\n",
              "\n",
              "    .dataframe tbody tr th {\n",
              "        vertical-align: top;\n",
              "    }\n",
              "\n",
              "    .dataframe thead th {\n",
              "        text-align: right;\n",
              "    }\n",
              "</style>\n",
              "<table border=\"1\" class=\"dataframe\">\n",
              "  <thead>\n",
              "    <tr style=\"text-align: right;\">\n",
              "      <th></th>\n",
              "      <th>Census Year</th>\n",
              "      <th>Total Population</th>\n",
              "      <th>Census Cost</th>\n",
              "      <th>Average Cost Per Person</th>\n",
              "    </tr>\n",
              "  </thead>\n",
              "  <tbody>\n",
              "    <tr>\n",
              "      <th>1</th>\n",
              "      <td>1790</td>\n",
              "      <td>3929214</td>\n",
              "      <td>44377</td>\n",
              "      <td>0.0113</td>\n",
              "    </tr>\n",
              "    <tr>\n",
              "      <th>2</th>\n",
              "      <td>1800</td>\n",
              "      <td>5308483</td>\n",
              "      <td>66109</td>\n",
              "      <td>0.0124</td>\n",
              "    </tr>\n",
              "    <tr>\n",
              "      <th>3</th>\n",
              "      <td>1810</td>\n",
              "      <td>7239881</td>\n",
              "      <td>178445</td>\n",
              "      <td>0.0246</td>\n",
              "    </tr>\n",
              "    <tr>\n",
              "      <th>4</th>\n",
              "      <td>1820</td>\n",
              "      <td>9633822</td>\n",
              "      <td>208526</td>\n",
              "      <td>0.0216</td>\n",
              "    </tr>\n",
              "    <tr>\n",
              "      <th>5</th>\n",
              "      <td>1830</td>\n",
              "      <td>12866020</td>\n",
              "      <td>378545</td>\n",
              "      <td>0.0294</td>\n",
              "    </tr>\n",
              "    <tr>\n",
              "      <th>6</th>\n",
              "      <td>1840</td>\n",
              "      <td>17069458</td>\n",
              "      <td>833371</td>\n",
              "      <td>0.0488</td>\n",
              "    </tr>\n",
              "    <tr>\n",
              "      <th>7</th>\n",
              "      <td>1850</td>\n",
              "      <td>23191876</td>\n",
              "      <td>1423351</td>\n",
              "      <td>0.0614</td>\n",
              "    </tr>\n",
              "    <tr>\n",
              "      <th>8</th>\n",
              "      <td>1860</td>\n",
              "      <td>31443321</td>\n",
              "      <td>1969377</td>\n",
              "      <td>0.0626</td>\n",
              "    </tr>\n",
              "    <tr>\n",
              "      <th>9</th>\n",
              "      <td>1870</td>\n",
              "      <td>38558371</td>\n",
              "      <td>3421198</td>\n",
              "      <td>0.0887</td>\n",
              "    </tr>\n",
              "    <tr>\n",
              "      <th>10</th>\n",
              "      <td>1880</td>\n",
              "      <td>50155783</td>\n",
              "      <td>5790678</td>\n",
              "      <td>0.1154</td>\n",
              "    </tr>\n",
              "    <tr>\n",
              "      <th>11</th>\n",
              "      <td>1890</td>\n",
              "      <td>62979766</td>\n",
              "      <td>11547127</td>\n",
              "      <td>0.1833</td>\n",
              "    </tr>\n",
              "    <tr>\n",
              "      <th>12</th>\n",
              "      <td>1900</td>\n",
              "      <td>76303387</td>\n",
              "      <td>11854000</td>\n",
              "      <td>0.1554</td>\n",
              "    </tr>\n",
              "    <tr>\n",
              "      <th>13</th>\n",
              "      <td>1910</td>\n",
              "      <td>91972266</td>\n",
              "      <td>15968000</td>\n",
              "      <td>0.1707</td>\n",
              "    </tr>\n",
              "    <tr>\n",
              "      <th>14</th>\n",
              "      <td>1920</td>\n",
              "      <td>105710620</td>\n",
              "      <td>25117000</td>\n",
              "      <td>0.2376</td>\n",
              "    </tr>\n",
              "    <tr>\n",
              "      <th>15</th>\n",
              "      <td>1930</td>\n",
              "      <td>122775046</td>\n",
              "      <td>40156000</td>\n",
              "      <td>0.3271</td>\n",
              "    </tr>\n",
              "    <tr>\n",
              "      <th>16</th>\n",
              "      <td>1940</td>\n",
              "      <td>131669275</td>\n",
              "      <td>67527000</td>\n",
              "      <td>0.5129</td>\n",
              "    </tr>\n",
              "    <tr>\n",
              "      <th>17</th>\n",
              "      <td>1950</td>\n",
              "      <td>151325798</td>\n",
              "      <td>91462000</td>\n",
              "      <td>0.6044</td>\n",
              "    </tr>\n",
              "    <tr>\n",
              "      <th>18</th>\n",
              "      <td>1960</td>\n",
              "      <td>179323175</td>\n",
              "      <td>127934000</td>\n",
              "      <td>0.7134</td>\n",
              "    </tr>\n",
              "    <tr>\n",
              "      <th>19</th>\n",
              "      <td>1970</td>\n",
              "      <td>203302031</td>\n",
              "      <td>247653000</td>\n",
              "      <td>1.22</td>\n",
              "    </tr>\n",
              "    <tr>\n",
              "      <th>20</th>\n",
              "      <td>1980</td>\n",
              "      <td>226542199</td>\n",
              "      <td>1078488000</td>\n",
              "      <td>4.76</td>\n",
              "    </tr>\n",
              "    <tr>\n",
              "      <th>21</th>\n",
              "      <td>1990</td>\n",
              "      <td>248718301</td>\n",
              "      <td>2492830000</td>\n",
              "      <td>10.02</td>\n",
              "    </tr>\n",
              "    <tr>\n",
              "      <th>22</th>\n",
              "      <td>2000</td>\n",
              "      <td>281421906</td>\n",
              "      <td>4500000000</td>\n",
              "      <td>15.99</td>\n",
              "    </tr>\n",
              "    <tr>\n",
              "      <th>23</th>\n",
              "      <td>2010</td>\n",
              "      <td>308745538</td>\n",
              "      <td>13000000000</td>\n",
              "      <td>42.11</td>\n",
              "    </tr>\n",
              "  </tbody>\n",
              "</table>\n",
              "</div>"
            ],
            "text/plain": [
              "0  Census Year Total Population  Census Cost Average Cost Per Person\n",
              "1         1790          3929214        44377                  0.0113\n",
              "2         1800          5308483        66109                  0.0124\n",
              "3         1810          7239881       178445                  0.0246\n",
              "4         1820          9633822       208526                  0.0216\n",
              "5         1830         12866020       378545                  0.0294\n",
              "6         1840         17069458       833371                  0.0488\n",
              "7         1850         23191876      1423351                  0.0614\n",
              "8         1860         31443321      1969377                  0.0626\n",
              "9         1870         38558371      3421198                  0.0887\n",
              "10        1880         50155783      5790678                  0.1154\n",
              "11        1890         62979766     11547127                  0.1833\n",
              "12        1900         76303387     11854000                  0.1554\n",
              "13        1910         91972266     15968000                  0.1707\n",
              "14        1920        105710620     25117000                  0.2376\n",
              "15        1930        122775046     40156000                  0.3271\n",
              "16        1940        131669275     67527000                  0.5129\n",
              "17        1950        151325798     91462000                  0.6044\n",
              "18        1960        179323175    127934000                  0.7134\n",
              "19        1970        203302031    247653000                    1.22\n",
              "20        1980        226542199   1078488000                    4.76\n",
              "21        1990        248718301   2492830000                   10.02\n",
              "22        2000        281421906   4500000000                   15.99\n",
              "23        2010        308745538  13000000000                   42.11"
            ]
          },
          "metadata": {
            "tags": []
          },
          "execution_count": 25
        }
      ]
    },
    {
      "cell_type": "markdown",
      "metadata": {
        "id": "jBxdFDOc9gAt"
      },
      "source": [
        "**8. After all columns are cleansed, save the clenased dataframe to a file named \"census_cost_cleansed.csv\" using CSV format.**"
      ]
    },
    {
      "cell_type": "code",
      "metadata": {
        "id": "jsTM6a0T9lXV"
      },
      "source": [
        "# We save the updated dataframe in a csv file and name it as cleansed_data.csv\n",
        "df1.to_csv('cleansed_data.csv')"
      ],
      "execution_count": 26,
      "outputs": []
    },
    {
      "cell_type": "markdown",
      "metadata": {
        "id": "YruQHgmdBsi8"
      },
      "source": [
        "**9.Use Pandas to read the saved cleansed file and explore to make sure it is clean**"
      ]
    },
    {
      "cell_type": "code",
      "metadata": {
        "id": "mElPGXEXBroa",
        "outputId": "7b054c65-5028-444e-86a5-5ef83f7ed34b",
        "colab": {
          "base_uri": "https://localhost:8080/",
          "height": 728
        }
      },
      "source": [
        "# We read the csv file and output each row in the data. \n",
        "pd.read_csv('cleansed_data.csv', index_col=0)"
      ],
      "execution_count": 27,
      "outputs": [
        {
          "output_type": "execute_result",
          "data": {
            "text/html": [
              "<div>\n",
              "<style scoped>\n",
              "    .dataframe tbody tr th:only-of-type {\n",
              "        vertical-align: middle;\n",
              "    }\n",
              "\n",
              "    .dataframe tbody tr th {\n",
              "        vertical-align: top;\n",
              "    }\n",
              "\n",
              "    .dataframe thead th {\n",
              "        text-align: right;\n",
              "    }\n",
              "</style>\n",
              "<table border=\"1\" class=\"dataframe\">\n",
              "  <thead>\n",
              "    <tr style=\"text-align: right;\">\n",
              "      <th></th>\n",
              "      <th>Census Year</th>\n",
              "      <th>Total Population</th>\n",
              "      <th>Census Cost</th>\n",
              "      <th>Average Cost Per Person</th>\n",
              "    </tr>\n",
              "  </thead>\n",
              "  <tbody>\n",
              "    <tr>\n",
              "      <th>1</th>\n",
              "      <td>1790</td>\n",
              "      <td>3929214</td>\n",
              "      <td>44377</td>\n",
              "      <td>0.0113</td>\n",
              "    </tr>\n",
              "    <tr>\n",
              "      <th>2</th>\n",
              "      <td>1800</td>\n",
              "      <td>5308483</td>\n",
              "      <td>66109</td>\n",
              "      <td>0.0124</td>\n",
              "    </tr>\n",
              "    <tr>\n",
              "      <th>3</th>\n",
              "      <td>1810</td>\n",
              "      <td>7239881</td>\n",
              "      <td>178445</td>\n",
              "      <td>0.0246</td>\n",
              "    </tr>\n",
              "    <tr>\n",
              "      <th>4</th>\n",
              "      <td>1820</td>\n",
              "      <td>9633822</td>\n",
              "      <td>208526</td>\n",
              "      <td>0.0216</td>\n",
              "    </tr>\n",
              "    <tr>\n",
              "      <th>5</th>\n",
              "      <td>1830</td>\n",
              "      <td>12866020</td>\n",
              "      <td>378545</td>\n",
              "      <td>0.0294</td>\n",
              "    </tr>\n",
              "    <tr>\n",
              "      <th>6</th>\n",
              "      <td>1840</td>\n",
              "      <td>17069458</td>\n",
              "      <td>833371</td>\n",
              "      <td>0.0488</td>\n",
              "    </tr>\n",
              "    <tr>\n",
              "      <th>7</th>\n",
              "      <td>1850</td>\n",
              "      <td>23191876</td>\n",
              "      <td>1423351</td>\n",
              "      <td>0.0614</td>\n",
              "    </tr>\n",
              "    <tr>\n",
              "      <th>8</th>\n",
              "      <td>1860</td>\n",
              "      <td>31443321</td>\n",
              "      <td>1969377</td>\n",
              "      <td>0.0626</td>\n",
              "    </tr>\n",
              "    <tr>\n",
              "      <th>9</th>\n",
              "      <td>1870</td>\n",
              "      <td>38558371</td>\n",
              "      <td>3421198</td>\n",
              "      <td>0.0887</td>\n",
              "    </tr>\n",
              "    <tr>\n",
              "      <th>10</th>\n",
              "      <td>1880</td>\n",
              "      <td>50155783</td>\n",
              "      <td>5790678</td>\n",
              "      <td>0.1154</td>\n",
              "    </tr>\n",
              "    <tr>\n",
              "      <th>11</th>\n",
              "      <td>1890</td>\n",
              "      <td>62979766</td>\n",
              "      <td>11547127</td>\n",
              "      <td>0.1833</td>\n",
              "    </tr>\n",
              "    <tr>\n",
              "      <th>12</th>\n",
              "      <td>1900</td>\n",
              "      <td>76303387</td>\n",
              "      <td>11854000</td>\n",
              "      <td>0.1554</td>\n",
              "    </tr>\n",
              "    <tr>\n",
              "      <th>13</th>\n",
              "      <td>1910</td>\n",
              "      <td>91972266</td>\n",
              "      <td>15968000</td>\n",
              "      <td>0.1707</td>\n",
              "    </tr>\n",
              "    <tr>\n",
              "      <th>14</th>\n",
              "      <td>1920</td>\n",
              "      <td>105710620</td>\n",
              "      <td>25117000</td>\n",
              "      <td>0.2376</td>\n",
              "    </tr>\n",
              "    <tr>\n",
              "      <th>15</th>\n",
              "      <td>1930</td>\n",
              "      <td>122775046</td>\n",
              "      <td>40156000</td>\n",
              "      <td>0.3271</td>\n",
              "    </tr>\n",
              "    <tr>\n",
              "      <th>16</th>\n",
              "      <td>1940</td>\n",
              "      <td>131669275</td>\n",
              "      <td>67527000</td>\n",
              "      <td>0.5129</td>\n",
              "    </tr>\n",
              "    <tr>\n",
              "      <th>17</th>\n",
              "      <td>1950</td>\n",
              "      <td>151325798</td>\n",
              "      <td>91462000</td>\n",
              "      <td>0.6044</td>\n",
              "    </tr>\n",
              "    <tr>\n",
              "      <th>18</th>\n",
              "      <td>1960</td>\n",
              "      <td>179323175</td>\n",
              "      <td>127934000</td>\n",
              "      <td>0.7134</td>\n",
              "    </tr>\n",
              "    <tr>\n",
              "      <th>19</th>\n",
              "      <td>1970</td>\n",
              "      <td>203302031</td>\n",
              "      <td>247653000</td>\n",
              "      <td>1.2200</td>\n",
              "    </tr>\n",
              "    <tr>\n",
              "      <th>20</th>\n",
              "      <td>1980</td>\n",
              "      <td>226542199</td>\n",
              "      <td>1078488000</td>\n",
              "      <td>4.7600</td>\n",
              "    </tr>\n",
              "    <tr>\n",
              "      <th>21</th>\n",
              "      <td>1990</td>\n",
              "      <td>248718301</td>\n",
              "      <td>2492830000</td>\n",
              "      <td>10.0200</td>\n",
              "    </tr>\n",
              "    <tr>\n",
              "      <th>22</th>\n",
              "      <td>2000</td>\n",
              "      <td>281421906</td>\n",
              "      <td>4500000000</td>\n",
              "      <td>15.9900</td>\n",
              "    </tr>\n",
              "    <tr>\n",
              "      <th>23</th>\n",
              "      <td>2010</td>\n",
              "      <td>308745538</td>\n",
              "      <td>13000000000</td>\n",
              "      <td>42.1100</td>\n",
              "    </tr>\n",
              "  </tbody>\n",
              "</table>\n",
              "</div>"
            ],
            "text/plain": [
              "    Census Year  Total Population  Census Cost  Average Cost Per Person\n",
              "1          1790           3929214        44377                   0.0113\n",
              "2          1800           5308483        66109                   0.0124\n",
              "3          1810           7239881       178445                   0.0246\n",
              "4          1820           9633822       208526                   0.0216\n",
              "5          1830          12866020       378545                   0.0294\n",
              "6          1840          17069458       833371                   0.0488\n",
              "7          1850          23191876      1423351                   0.0614\n",
              "8          1860          31443321      1969377                   0.0626\n",
              "9          1870          38558371      3421198                   0.0887\n",
              "10         1880          50155783      5790678                   0.1154\n",
              "11         1890          62979766     11547127                   0.1833\n",
              "12         1900          76303387     11854000                   0.1554\n",
              "13         1910          91972266     15968000                   0.1707\n",
              "14         1920         105710620     25117000                   0.2376\n",
              "15         1930         122775046     40156000                   0.3271\n",
              "16         1940         131669275     67527000                   0.5129\n",
              "17         1950         151325798     91462000                   0.6044\n",
              "18         1960         179323175    127934000                   0.7134\n",
              "19         1970         203302031    247653000                   1.2200\n",
              "20         1980         226542199   1078488000                   4.7600\n",
              "21         1990         248718301   2492830000                  10.0200\n",
              "22         2000         281421906   4500000000                  15.9900\n",
              "23         2010         308745538  13000000000                  42.1100"
            ]
          },
          "metadata": {
            "tags": []
          },
          "execution_count": 27
        }
      ]
    }
  ]
}