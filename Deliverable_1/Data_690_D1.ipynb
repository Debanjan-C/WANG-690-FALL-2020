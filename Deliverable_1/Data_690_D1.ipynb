{
  "nbformat": 4,
  "nbformat_minor": 0,
  "metadata": {
    "colab": {
      "name": "Data_690_D1.ipynb",
      "provenance": [],
      "authorship_tag": "ABX9TyOU0SdccvwxAFgXVrEd1FZt",
      "include_colab_link": true
    },
    "kernelspec": {
      "name": "python3",
      "display_name": "Python 3"
    }
  },
  "cells": [
    {
      "cell_type": "markdown",
      "metadata": {
        "id": "view-in-github",
        "colab_type": "text"
      },
      "source": [
        "<a href=\"https://colab.research.google.com/github/Debanjan-C/WANG-690-FALL-2020/blob/master/Deliverable_1/Data_690_D1.ipynb\" target=\"_parent\"><img src=\"https://colab.research.google.com/assets/colab-badge.svg\" alt=\"Open In Colab\"/></a>"
      ]
    },
    {
      "cell_type": "markdown",
      "metadata": {
        "id": "CWTtPadK7_oC"
      },
      "source": [
        "# Data 690 Deliverable 1"
      ]
    },
    {
      "cell_type": "markdown",
      "metadata": {
        "id": "oIBncwDCqGDB"
      },
      "source": [
        "This is a plan for our project that will be conducted in *Data 690* class. We are developing a first step where we would describe our data and what we plan on doing eventually."
      ]
    },
    {
      "cell_type": "markdown",
      "metadata": {
        "id": "xddAnseD8UUh"
      },
      "source": [
        "**Debanjan Chowdhury**\n"
      ]
    },
    {
      "cell_type": "markdown",
      "metadata": {
        "id": "BlIott-rjkiN"
      },
      "source": [
        "### What is your issue of interest (provide sufficient background information)?"
      ]
    },
    {
      "cell_type": "markdown",
      "metadata": {
        "id": "pMLEciP_kKpp"
      },
      "source": [
        "I would like to work on a *healthcare insurance dataset* as I am passionate about the subject, would like to know what type of factors go into a **healthcare premium** and how much individuals may be spending for healthcare, treatment, etc. \n",
        "\n",
        "- Some of the important factors could be\n",
        "  - If someone is single v.s. has a family\n",
        "  - If the individual is a smoker or not as at our workplace, there is a nicotine surcharge for individuals who smoke. \n",
        "  - The region where yan individual lives in.\n",
        "  - The BMI of the individual"
      ]
    },
    {
      "cell_type": "markdown",
      "metadata": {
        "id": "MMHvXDcwjn8x"
      },
      "source": [
        "### Why is this issue important to you and/or to others?\n"
      ]
    },
    {
      "cell_type": "markdown",
      "metadata": {
        "id": "5sdAV2gXxbsO"
      },
      "source": [
        "**This issue is important to me as we all have trouble choosing healthcare insurance companies.** I believe it is important to understand what factors may go and you could get an idea of what may come into play when choosing insurance companies.\n",
        "  - Some insurance companies would place *their businesses above customers* and they would advise you to buy insurance plans that would be *beneficial* to them more than they would be to you. \n",
        "  - Therefore, I believe if individuals would have a basic idea on how much insurance would cost in general based on common factors, then they would be able to avoid that and choose what is best for them."
      ]
    },
    {
      "cell_type": "markdown",
      "metadata": {
        "id": "KJP6Qnb_joHK"
      },
      "source": [
        "### What questions do you have in mind and would like to answer?\n"
      ]
    },
    {
      "cell_type": "markdown",
      "metadata": {
        "id": "oDGQfHcp2OVd"
      },
      "source": [
        "- Some questions that I would like to answer are whether the region an individual would live in may play a role? *(Some live in the North where it is more cold. Some live in South where it is warmer, etc)*\n",
        "- I would also like to answer if families or singles who may be paying for their premiums individually would have a higher overall premium?\n",
        "- I would also like to evaluate how much higher charges smokers would be paying than non=smokers as that is also something many companies look at."
      ]
    },
    {
      "cell_type": "markdown",
      "metadata": {
        "id": "VG3lyhk6joLD"
      },
      "source": [
        "### Where do you get the data to help answer your questions?\n"
      ]
    },
    {
      "cell_type": "markdown",
      "metadata": {
        "id": "6gMNmwBX3tYi"
      },
      "source": [
        "I got the data from an example dataset from Kaggle https://www.kaggle.com/mirichoi0218/insurance that shows an example of individuals, their gender, bmi, region and the charges they have to pay in terms of premiuims. "
      ]
    },
    {
      "cell_type": "markdown",
      "metadata": {
        "id": "y4xupYPjjoON"
      },
      "source": [
        "### What will be your unit of analysis (for example, patient, organization, or country)?"
      ]
    },
    {
      "cell_type": "markdown",
      "metadata": {
        "id": "kAzLLipq56M4"
      },
      "source": [
        "My units of analysis will be in *dollars* as I would be estimating the charges of the premiums in terms of dollars. The insurance data is evaluating the potential insurances for all individuals in the USA. Therefore, it would be in dollars. "
      ]
    },
    {
      "cell_type": "markdown",
      "metadata": {
        "id": "juyOlPCDjoRE"
      },
      "source": [
        "### Roughly how many units do you expect to analyze?\n"
      ]
    },
    {
      "cell_type": "markdown",
      "metadata": {
        "id": "Lg8n-37i6T05"
      },
      "source": [
        "The dataset has about 1338 rows and it seems that I would be expecting to analyze about that many units. IT also has 7 columns of 7 features which could go into playing a role with affecting premiums."
      ]
    },
    {
      "cell_type": "markdown",
      "metadata": {
        "id": "21MKUc94joXY"
      },
      "source": [
        "### What variables/measures do you plan to use in your analysis?\n"
      ]
    },
    {
      "cell_type": "markdown",
      "metadata": {
        "id": "lb-NfjZe6d61"
      },
      "source": [
        "- I plan on using multiple variables like \n",
        "  - age (numeric)\n",
        "  - bmi index (numeric) \n",
        "  - gender (categorical value)\n",
        "  - number of children (numeric)\n",
        "  - whether he/she is a smoker or not (categorical) \n",
        "  - the region (in text or categorical variables)\n",
        "\n",
        "- Those are the factors that I plan on using to show how each of those correspond or correlate with the premium."
      ]
    },
    {
      "cell_type": "markdown",
      "metadata": {
        "id": "lqJBFH9ijztt"
      },
      "source": [
        "### What kinds of techniques do you you plan to use (for example, summary statistics, scatter plot, bar chart, chi-squared test)?"
      ]
    },
    {
      "cell_type": "markdown",
      "metadata": {
        "id": "DKD-5aHW7ABt"
      },
      "source": [
        "- I plan on using *bar charts, line charts, histogram or scatter plots* for visualization purposes to correlation amongst the datas. \n",
        "- Along with that, I plan on using summary statistics to show the distribition and overall statistics of the population taken. \n",
        "- Along with that, I plan on using distribution plots form matplotlib to show the distributions too. \n",
        "- I may plan on using more techniques once I get started with the technical portion and if I see a need as I progress."
      ]
    }
  ]
}