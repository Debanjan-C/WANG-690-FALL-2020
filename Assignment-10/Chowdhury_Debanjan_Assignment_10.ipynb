{
  "nbformat": 4,
  "nbformat_minor": 0,
  "metadata": {
    "kernelspec": {
      "display_name": "Python 3",
      "language": "python",
      "name": "python3"
    },
    "language_info": {
      "codemirror_mode": {
        "name": "ipython",
        "version": 3
      },
      "file_extension": ".py",
      "mimetype": "text/x-python",
      "name": "python",
      "nbconvert_exporter": "python",
      "pygments_lexer": "ipython3",
      "version": "3.7.1"
    },
    "colab": {
      "name": "Chowdhury_Debanjan_Assignment-10.ipynb",
      "provenance": [],
      "collapsed_sections": [],
      "include_colab_link": true
    }
  },
  "cells": [
    {
      "cell_type": "markdown",
      "metadata": {
        "id": "view-in-github",
        "colab_type": "text"
      },
      "source": [
        "<a href=\"https://colab.research.google.com/github/Debanjan-C/WANG-690-FALL-2020/blob/master/Assignment-10/Chowdhury_Debanjan_Assignment_10.ipynb\" target=\"_parent\"><img src=\"https://colab.research.google.com/assets/colab-badge.svg\" alt=\"Open In Colab\"/></a>"
      ]
    },
    {
      "cell_type": "markdown",
      "metadata": {
        "id": "IDflx6raKU2O"
      },
      "source": [
        "### Assignment # 10 - Point Estimate and Interval Estimate (Confidence Interval)\n",
        "\n",
        "A random survey of enrollment at **35** community colleges across the United States yielded the following figures: \n",
        "\n",
        "6,414; 1,550; 2,109; 9,350; 21,828; 4,300; 5,944; 5,722; 2,825; 2,044;\n",
        "\n",
        "5,481; 5,200; 5,853; 2,750; 10,012; 6,357; 27,000; 9,414; 7,681; 3,200; \n",
        "\n",
        "17,500; 9,200; 7,380; 18,314; 6,557; 13,713; 17,768; 7,493; 2,771; 2,861; \n",
        "\n",
        "1,263; 7,285; 28,165; 5,080; 11,622\n",
        "\n",
        "Perform point estimate and interval estimate with **95% confidence level** using **t-distribution**.\n",
        "\n",
        "Since we don't know the population variance, we use t-distribiution instead of normal distribution."
      ]
    },
    {
      "cell_type": "code",
      "metadata": {
        "id": "B-SlzxIOKU2O"
      },
      "source": [
        "# Import Python packages\n",
        "import numpy as np\n",
        "import math\n",
        "import scipy.stats as sp"
      ],
      "execution_count": null,
      "outputs": []
    },
    {
      "cell_type": "markdown",
      "metadata": {
        "id": "-ayLhzVqKU2O"
      },
      "source": [
        "### Step 0 - Data Preprocessing \n",
        "\n",
        "Process the raw data to make a list of integers. In order to calculate descriptive statistic, Python needs to work with a list of numbers."
      ]
    },
    {
      "cell_type": "code",
      "metadata": {
        "id": "-ard3ZwSKU2O",
        "colab": {
          "base_uri": "https://localhost:8080/"
        },
        "outputId": "1cb59b3b-a491-4fcb-b6fe-2dd5e263664d"
      },
      "source": [
        "# make each line of numbers a string object and then concatenate them together \n",
        "# The end result is one single string containing 35 numbers separated by \";\"\n",
        "\n",
        "data_1 = \"6,414; 1,550; 2,109; 9,350; 21,828; 4,300; 5,944; 5,722; 2,825; 2,044;\" \n",
        "data_2 = \"5,481; 5,200; 5,853; 2,750; 10,012; 6,357; 27,000; 9,414; 7,681; 3,200; \"\n",
        "data_3 = \"17,500; 9,200; 7,380; 18,314; 6,557; 13,713; 17,768; 7,493; 2,771; 2,861; \"\n",
        "data_4 = \"1,263; 7,285; 28,165; 5,080; 11,622\"\n",
        "data = data_1 + data_2 + data_3 + data_4\n",
        "print(data)"
      ],
      "execution_count": null,
      "outputs": [
        {
          "output_type": "stream",
          "text": [
            "6,414; 1,550; 2,109; 9,350; 21,828; 4,300; 5,944; 5,722; 2,825; 2,044;5,481; 5,200; 5,853; 2,750; 10,012; 6,357; 27,000; 9,414; 7,681; 3,200; 17,500; 9,200; 7,380; 18,314; 6,557; 13,713; 17,768; 7,493; 2,771; 2,861; 1,263; 7,285; 28,165; 5,080; 11,622\n"
          ],
          "name": "stdout"
        }
      ]
    },
    {
      "cell_type": "code",
      "metadata": {
        "id": "y8nkEulLKU2P",
        "colab": {
          "base_uri": "https://localhost:8080/"
        },
        "outputId": "1daa2cd1-6f46-425d-a12a-a1c788d5e970"
      },
      "source": [
        "# Convert the single string to a list of strings using split() function\n",
        "# Make sure to specify a delimter or separator\n",
        "\n",
        "x = data.split(\";\")\n",
        "print(x)"
      ],
      "execution_count": null,
      "outputs": [
        {
          "output_type": "stream",
          "text": [
            "['6,414', ' 1,550', ' 2,109', ' 9,350', ' 21,828', ' 4,300', ' 5,944', ' 5,722', ' 2,825', ' 2,044', '5,481', ' 5,200', ' 5,853', ' 2,750', ' 10,012', ' 6,357', ' 27,000', ' 9,414', ' 7,681', ' 3,200', ' 17,500', ' 9,200', ' 7,380', ' 18,314', ' 6,557', ' 13,713', ' 17,768', ' 7,493', ' 2,771', ' 2,861', ' 1,263', ' 7,285', ' 28,165', ' 5,080', ' 11,622']\n"
          ],
          "name": "stdout"
        }
      ]
    },
    {
      "cell_type": "code",
      "metadata": {
        "id": "9FgSGHp4KU2P",
        "colab": {
          "base_uri": "https://localhost:8080/"
        },
        "outputId": "9f51b930-09aa-4524-d5eb-5a00a2c20025"
      },
      "source": [
        "e = [int(i.replace(\",\", \"\")) for i in x]\n",
        "print(e)"
      ],
      "execution_count": null,
      "outputs": [
        {
          "output_type": "stream",
          "text": [
            "[6414, 1550, 2109, 9350, 21828, 4300, 5944, 5722, 2825, 2044, 5481, 5200, 5853, 2750, 10012, 6357, 27000, 9414, 7681, 3200, 17500, 9200, 7380, 18314, 6557, 13713, 17768, 7493, 2771, 2861, 1263, 7285, 28165, 5080, 11622]\n"
          ],
          "name": "stdout"
        }
      ]
    },
    {
      "cell_type": "code",
      "metadata": {
        "id": "1AJ0lzbNKU2P",
        "colab": {
          "base_uri": "https://localhost:8080/"
        },
        "outputId": "0e56350e-d457-4687-c42c-af71316e8cbd"
      },
      "source": [
        "# Create a list of integers from the list of strings using List Comprehension\n",
        "# Make sure to remove the \",\" first and then convert the strings to integers\n",
        "\n",
        "e = []\n",
        "for i in x:\n",
        "    y = i.replace(\",\", \"\")\n",
        "    y = int(y)\n",
        "    e.append(y)\n",
        "    \n",
        "print(e)\n",
        "    "
      ],
      "execution_count": null,
      "outputs": [
        {
          "output_type": "stream",
          "text": [
            "[6414, 1550, 2109, 9350, 21828, 4300, 5944, 5722, 2825, 2044, 5481, 5200, 5853, 2750, 10012, 6357, 27000, 9414, 7681, 3200, 17500, 9200, 7380, 18314, 6557, 13713, 17768, 7493, 2771, 2861, 1263, 7285, 28165, 5080, 11622]\n"
          ],
          "name": "stdout"
        }
      ]
    },
    {
      "cell_type": "markdown",
      "metadata": {
        "id": "96C6NsxgKU2P"
      },
      "source": [
        "### Step 1 - Calculate and Display the Sample Size and Sample Mean"
      ]
    },
    {
      "cell_type": "code",
      "metadata": {
        "id": "xWUhC9KuKU2P",
        "colab": {
          "base_uri": "https://localhost:8080/"
        },
        "outputId": "41ac86b6-c2c5-4641-f629-617711e0a885"
      },
      "source": [
        "# Calculate and display the sample size\n",
        "sample_size = len(e)\n",
        "print('sample size =', sample_size)"
      ],
      "execution_count": null,
      "outputs": [
        {
          "output_type": "stream",
          "text": [
            "sample size = 35\n"
          ],
          "name": "stdout"
        }
      ]
    },
    {
      "cell_type": "code",
      "metadata": {
        "id": "X8REucO6KU2P",
        "colab": {
          "base_uri": "https://localhost:8080/"
        },
        "outputId": "0025f49c-c8e9-4589-95d5-2a62c9f9887a"
      },
      "source": [
        "sample_mean = sum(e)/sample_size\n",
        "sample_mean = round(sample_mean)\n",
        "print(\"sample mean= \", sample_mean)"
      ],
      "execution_count": null,
      "outputs": [
        {
          "output_type": "stream",
          "text": [
            "sample mean=  8629\n"
          ],
          "name": "stdout"
        }
      ]
    },
    {
      "cell_type": "markdown",
      "metadata": {
        "id": "DnvhVwyHKU2P"
      },
      "source": [
        "The point estimate of the mean enrollment of US community colleges is **8629**."
      ]
    },
    {
      "cell_type": "markdown",
      "metadata": {
        "id": "yQ-if7EpKU2P"
      },
      "source": [
        "### Step 2 - Calculate and Display the Sample Standard Deviation & Sample Standard Error\n",
        "\n",
        "Sample Standard Deviation $S=\\sqrt{\\dfrac{1}{n-1}\\sum\\limits_{i=1}^n (X_i-\\bar{X})^2}$\n",
        "\n",
        "Sample Standard Error = $\\dfrac{S}{\\sqrt{n}}$\n",
        "\n",
        "Note: The default **Delta Degree of Freedom (DDOF)** for Numpy's std function is 0 which is applicable to populate data. For sample data, we need to specify **ddof=1**. \n",
        "\n",
        "For the enrollment data, we round up the statistics to be the full integers (no decimal points).\n"
      ]
    },
    {
      "cell_type": "code",
      "metadata": {
        "id": "eyK1-1o9KU2P",
        "colab": {
          "base_uri": "https://localhost:8080/"
        },
        "outputId": "2c4498f5-adbc-4bac-c95d-42b5e3a7023c"
      },
      "source": [
        "# Calculate and display the sample standard deviation using Numpy's std function.\n",
        "sample_st_dev = np.std(e, ddof=1) \n",
        "sample_st_dev = round(sample_st_dev)         \n",
        "print(\"Sample Standard Deviation =\", sample_st_dev)"
      ],
      "execution_count": null,
      "outputs": [
        {
          "output_type": "stream",
          "text": [
            "Sample Standard Deviation = 6944.0\n"
          ],
          "name": "stdout"
        }
      ]
    },
    {
      "cell_type": "code",
      "metadata": {
        "id": "7XDLJMX3KU2Q",
        "colab": {
          "base_uri": "https://localhost:8080/"
        },
        "outputId": "49aeb1b9-9846-449e-ef31-ff371a44c1c3"
      },
      "source": [
        "# Calculate and display the sample standard error\n",
        "sample_st_err = sample_st_dev/math.sqrt(sample_size)\n",
        "sample_st_err = round(sample_st_err)         \n",
        "print(\"Sample Standard Error =\", sample_st_err)"
      ],
      "execution_count": null,
      "outputs": [
        {
          "output_type": "stream",
          "text": [
            "Sample Standard Error = 1174.0\n"
          ],
          "name": "stdout"
        }
      ]
    },
    {
      "cell_type": "markdown",
      "metadata": {
        "id": "K0cyd0jZKU2Q"
      },
      "source": [
        "### Step 3 - Calculate t Critical Value using t-Distribution \n",
        "\n",
        "$\\alpha$ = 1 - Confidence Level = 1 - 95% = 0.05\n",
        "\n",
        "$\\dfrac{\\alpha}{2}$ = 0.025\n",
        "\n",
        "n (sample size) = 35\n",
        "\n",
        "df (degree of freedom) = n - 1 = 35 - 1 = 34\n",
        "\n",
        "We will use Python scipy.stats t-distribution's PPF (Percentage Point Function) to calculate t critical value $t_{0.025,34}$."
      ]
    },
    {
      "cell_type": "code",
      "metadata": {
        "id": "qUTuGWl9KU2Q",
        "colab": {
          "base_uri": "https://localhost:8080/"
        },
        "outputId": "26ac8285-18d2-458c-da95-c3aa11a63e9f"
      },
      "source": [
        "# Calculate and display the t critical value using scipy.stats.t package ppf function\n",
        "\n",
        "t_val = sp.t.ppf(0.975, 35)\n",
        "print(\"t critical value = \", round(t_val,2))"
      ],
      "execution_count": null,
      "outputs": [
        {
          "output_type": "stream",
          "text": [
            "t critical value =  2.03\n"
          ],
          "name": "stdout"
        }
      ]
    },
    {
      "cell_type": "markdown",
      "metadata": {
        "id": "Ohg5o8KiKU2Q"
      },
      "source": [
        "### Step 4 - Calculate the Margin of Error\n",
        "\n",
        "Margin of Error = t-Statistics * Sample Standard Error = $t_{\\alpha/2,n-1}\\left(\\dfrac{s}{\\sqrt{n}}\\right)$"
      ]
    },
    {
      "cell_type": "code",
      "metadata": {
        "id": "82TJVIz1KU2Q",
        "colab": {
          "base_uri": "https://localhost:8080/"
        },
        "outputId": "7429bd52-2dc6-441b-bff9-83cb611e0cdc"
      },
      "source": [
        "# Calculate and display the margin of error\n",
        "\n",
        "margin_of_err = t_val * sample_st_err\n",
        "margin_of_err = round(margin_of_err) \n",
        "print(\"Margin of Error =\", margin_of_err)"
      ],
      "execution_count": null,
      "outputs": [
        {
          "output_type": "stream",
          "text": [
            "Margin of Error = 2383.0\n"
          ],
          "name": "stdout"
        }
      ]
    },
    {
      "cell_type": "markdown",
      "metadata": {
        "id": "aNc2oqYaKU2Q"
      },
      "source": [
        "### Step 5 - Calculate Lower and Upper Limit of the Confidence Interval\n",
        "\n",
        "Lower Limit = Sample Mean - Margin of Error\n",
        "\n",
        "Upper Limit = Sample Mean + Margin of Error"
      ]
    },
    {
      "cell_type": "code",
      "metadata": {
        "id": "piJaEwiEKU2Q",
        "colab": {
          "base_uri": "https://localhost:8080/"
        },
        "outputId": "25654990-339f-4398-9eda-27573f5b98eb"
      },
      "source": [
        "# Calculate and display the lower limit\n",
        "lower_lim = sample_mean - margin_of_err\n",
        "print (\"Lower Limit = \", lower_lim)"
      ],
      "execution_count": null,
      "outputs": [
        {
          "output_type": "stream",
          "text": [
            "Lower Limit =  6246.0\n"
          ],
          "name": "stdout"
        }
      ]
    },
    {
      "cell_type": "code",
      "metadata": {
        "id": "PAPRA_ucKU2Q",
        "colab": {
          "base_uri": "https://localhost:8080/"
        },
        "outputId": "6438fc64-7648-4c60-83e4-0fa76ed91958"
      },
      "source": [
        "# Calculate and display the upper limit\n",
        "upper_lim = sample_mean + margin_of_err\n",
        "print (\"Upper Limit = \", upper_lim)"
      ],
      "execution_count": null,
      "outputs": [
        {
          "output_type": "stream",
          "text": [
            "Upper Limit =  11012.0\n"
          ],
          "name": "stdout"
        }
      ]
    },
    {
      "cell_type": "markdown",
      "metadata": {
        "id": "1PFGEtagKU2Q"
      },
      "source": [
        "### Step 6 - Now We have the 95% Confidence Interval\n",
        "Confidence Interval ($\\sigma$ unknown) = $\\bar{x}\\space\\pm\\space t_{\\alpha/2}\\left(\\dfrac{S}{\\sqrt{n}}\\right)$ = Sample_Mean $\\pm$ Margin of Error"
      ]
    },
    {
      "cell_type": "code",
      "metadata": {
        "id": "U6vPRzM7KU2Q",
        "colab": {
          "base_uri": "https://localhost:8080/"
        },
        "outputId": "60fc1097-7ce1-46eb-e56f-829f0a72fcae"
      },
      "source": [
        "# Print the 95% confidence interveral in the form (lower limit, upper limit)\n",
        "\n",
        "print(\"The 95% Confidence Interval =\", \"(\", lower_lim, \",\", upper_lim, \")\")"
      ],
      "execution_count": null,
      "outputs": [
        {
          "output_type": "stream",
          "text": [
            "The 95% Confidence Interval = ( 6246.0 , 11012.0 )\n"
          ],
          "name": "stdout"
        }
      ]
    },
    {
      "cell_type": "markdown",
      "metadata": {
        "id": "t3krs1XiKU2Q"
      },
      "source": [
        "### The End"
      ]
    }
  ]
}